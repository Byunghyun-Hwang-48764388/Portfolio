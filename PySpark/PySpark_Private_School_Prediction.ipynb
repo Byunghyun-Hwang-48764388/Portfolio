{
  "nbformat": 4,
  "nbformat_minor": 0,
  "metadata": {
    "colab": {
      "provenance": []
    },
    "kernelspec": {
      "name": "python3",
      "display_name": "Python 3"
    },
    "language_info": {
      "name": "python"
    }
  },
  "cells": [
    {
      "cell_type": "code",
      "execution_count": 4,
      "metadata": {
        "id": "Fmbk_lSy0Nju"
      },
      "outputs": [],
      "source": [
        "from pyspark.sql import SparkSession"
      ]
    },
    {
      "cell_type": "code",
      "source": [
        "spark = SparkSession.builder.appName('college').getOrCreate()"
      ],
      "metadata": {
        "id": "Fq2lMT3j0fRs"
      },
      "execution_count": 2,
      "outputs": []
    },
    {
      "cell_type": "code",
      "source": [
        "from google.colab import files\n",
        "uploaded = files.upload()"
      ],
      "metadata": {
        "colab": {
          "base_uri": "https://localhost:8080/",
          "height": 73
        },
        "id": "rzs118__0gpk",
        "outputId": "9ff9be9e-3146-47db-a477-3a3e3b8759d4"
      },
      "execution_count": 5,
      "outputs": [
        {
          "output_type": "display_data",
          "data": {
            "text/plain": [
              "<IPython.core.display.HTML object>"
            ],
            "text/html": [
              "\n",
              "     <input type=\"file\" id=\"files-03f52201-3e48-40d6-8457-88243aeeeb18\" name=\"files[]\" multiple disabled\n",
              "        style=\"border:none\" />\n",
              "     <output id=\"result-03f52201-3e48-40d6-8457-88243aeeeb18\">\n",
              "      Upload widget is only available when the cell has been executed in the\n",
              "      current browser session. Please rerun this cell to enable.\n",
              "      </output>\n",
              "      <script>// Copyright 2017 Google LLC\n",
              "//\n",
              "// Licensed under the Apache License, Version 2.0 (the \"License\");\n",
              "// you may not use this file except in compliance with the License.\n",
              "// You may obtain a copy of the License at\n",
              "//\n",
              "//      http://www.apache.org/licenses/LICENSE-2.0\n",
              "//\n",
              "// Unless required by applicable law or agreed to in writing, software\n",
              "// distributed under the License is distributed on an \"AS IS\" BASIS,\n",
              "// WITHOUT WARRANTIES OR CONDITIONS OF ANY KIND, either express or implied.\n",
              "// See the License for the specific language governing permissions and\n",
              "// limitations under the License.\n",
              "\n",
              "/**\n",
              " * @fileoverview Helpers for google.colab Python module.\n",
              " */\n",
              "(function(scope) {\n",
              "function span(text, styleAttributes = {}) {\n",
              "  const element = document.createElement('span');\n",
              "  element.textContent = text;\n",
              "  for (const key of Object.keys(styleAttributes)) {\n",
              "    element.style[key] = styleAttributes[key];\n",
              "  }\n",
              "  return element;\n",
              "}\n",
              "\n",
              "// Max number of bytes which will be uploaded at a time.\n",
              "const MAX_PAYLOAD_SIZE = 100 * 1024;\n",
              "\n",
              "function _uploadFiles(inputId, outputId) {\n",
              "  const steps = uploadFilesStep(inputId, outputId);\n",
              "  const outputElement = document.getElementById(outputId);\n",
              "  // Cache steps on the outputElement to make it available for the next call\n",
              "  // to uploadFilesContinue from Python.\n",
              "  outputElement.steps = steps;\n",
              "\n",
              "  return _uploadFilesContinue(outputId);\n",
              "}\n",
              "\n",
              "// This is roughly an async generator (not supported in the browser yet),\n",
              "// where there are multiple asynchronous steps and the Python side is going\n",
              "// to poll for completion of each step.\n",
              "// This uses a Promise to block the python side on completion of each step,\n",
              "// then passes the result of the previous step as the input to the next step.\n",
              "function _uploadFilesContinue(outputId) {\n",
              "  const outputElement = document.getElementById(outputId);\n",
              "  const steps = outputElement.steps;\n",
              "\n",
              "  const next = steps.next(outputElement.lastPromiseValue);\n",
              "  return Promise.resolve(next.value.promise).then((value) => {\n",
              "    // Cache the last promise value to make it available to the next\n",
              "    // step of the generator.\n",
              "    outputElement.lastPromiseValue = value;\n",
              "    return next.value.response;\n",
              "  });\n",
              "}\n",
              "\n",
              "/**\n",
              " * Generator function which is called between each async step of the upload\n",
              " * process.\n",
              " * @param {string} inputId Element ID of the input file picker element.\n",
              " * @param {string} outputId Element ID of the output display.\n",
              " * @return {!Iterable<!Object>} Iterable of next steps.\n",
              " */\n",
              "function* uploadFilesStep(inputId, outputId) {\n",
              "  const inputElement = document.getElementById(inputId);\n",
              "  inputElement.disabled = false;\n",
              "\n",
              "  const outputElement = document.getElementById(outputId);\n",
              "  outputElement.innerHTML = '';\n",
              "\n",
              "  const pickedPromise = new Promise((resolve) => {\n",
              "    inputElement.addEventListener('change', (e) => {\n",
              "      resolve(e.target.files);\n",
              "    });\n",
              "  });\n",
              "\n",
              "  const cancel = document.createElement('button');\n",
              "  inputElement.parentElement.appendChild(cancel);\n",
              "  cancel.textContent = 'Cancel upload';\n",
              "  const cancelPromise = new Promise((resolve) => {\n",
              "    cancel.onclick = () => {\n",
              "      resolve(null);\n",
              "    };\n",
              "  });\n",
              "\n",
              "  // Wait for the user to pick the files.\n",
              "  const files = yield {\n",
              "    promise: Promise.race([pickedPromise, cancelPromise]),\n",
              "    response: {\n",
              "      action: 'starting',\n",
              "    }\n",
              "  };\n",
              "\n",
              "  cancel.remove();\n",
              "\n",
              "  // Disable the input element since further picks are not allowed.\n",
              "  inputElement.disabled = true;\n",
              "\n",
              "  if (!files) {\n",
              "    return {\n",
              "      response: {\n",
              "        action: 'complete',\n",
              "      }\n",
              "    };\n",
              "  }\n",
              "\n",
              "  for (const file of files) {\n",
              "    const li = document.createElement('li');\n",
              "    li.append(span(file.name, {fontWeight: 'bold'}));\n",
              "    li.append(span(\n",
              "        `(${file.type || 'n/a'}) - ${file.size} bytes, ` +\n",
              "        `last modified: ${\n",
              "            file.lastModifiedDate ? file.lastModifiedDate.toLocaleDateString() :\n",
              "                                    'n/a'} - `));\n",
              "    const percent = span('0% done');\n",
              "    li.appendChild(percent);\n",
              "\n",
              "    outputElement.appendChild(li);\n",
              "\n",
              "    const fileDataPromise = new Promise((resolve) => {\n",
              "      const reader = new FileReader();\n",
              "      reader.onload = (e) => {\n",
              "        resolve(e.target.result);\n",
              "      };\n",
              "      reader.readAsArrayBuffer(file);\n",
              "    });\n",
              "    // Wait for the data to be ready.\n",
              "    let fileData = yield {\n",
              "      promise: fileDataPromise,\n",
              "      response: {\n",
              "        action: 'continue',\n",
              "      }\n",
              "    };\n",
              "\n",
              "    // Use a chunked sending to avoid message size limits. See b/62115660.\n",
              "    let position = 0;\n",
              "    do {\n",
              "      const length = Math.min(fileData.byteLength - position, MAX_PAYLOAD_SIZE);\n",
              "      const chunk = new Uint8Array(fileData, position, length);\n",
              "      position += length;\n",
              "\n",
              "      const base64 = btoa(String.fromCharCode.apply(null, chunk));\n",
              "      yield {\n",
              "        response: {\n",
              "          action: 'append',\n",
              "          file: file.name,\n",
              "          data: base64,\n",
              "        },\n",
              "      };\n",
              "\n",
              "      let percentDone = fileData.byteLength === 0 ?\n",
              "          100 :\n",
              "          Math.round((position / fileData.byteLength) * 100);\n",
              "      percent.textContent = `${percentDone}% done`;\n",
              "\n",
              "    } while (position < fileData.byteLength);\n",
              "  }\n",
              "\n",
              "  // All done.\n",
              "  yield {\n",
              "    response: {\n",
              "      action: 'complete',\n",
              "    }\n",
              "  };\n",
              "}\n",
              "\n",
              "scope.google = scope.google || {};\n",
              "scope.google.colab = scope.google.colab || {};\n",
              "scope.google.colab._files = {\n",
              "  _uploadFiles,\n",
              "  _uploadFilesContinue,\n",
              "};\n",
              "})(self);\n",
              "</script> "
            ]
          },
          "metadata": {}
        },
        {
          "output_type": "stream",
          "name": "stdout",
          "text": [
            "Saving College.csv to College.csv\n"
          ]
        }
      ]
    },
    {
      "cell_type": "code",
      "source": [
        "df = spark.read.csv('College.csv', inferSchema = True, header = True)"
      ],
      "metadata": {
        "id": "zUKj1jCu0pn0"
      },
      "execution_count": 19,
      "outputs": []
    },
    {
      "cell_type": "code",
      "source": [
        "df.printSchema()"
      ],
      "metadata": {
        "colab": {
          "base_uri": "https://localhost:8080/"
        },
        "id": "5LBk--4g0weE",
        "outputId": "6e6a6741-0625-44aa-d0b1-af8f4c87876d"
      },
      "execution_count": 20,
      "outputs": [
        {
          "output_type": "stream",
          "name": "stdout",
          "text": [
            "root\n",
            " |-- School: string (nullable = true)\n",
            " |-- Private: string (nullable = true)\n",
            " |-- Apps: integer (nullable = true)\n",
            " |-- Accept: integer (nullable = true)\n",
            " |-- Enroll: integer (nullable = true)\n",
            " |-- Top10perc: integer (nullable = true)\n",
            " |-- Top25perc: integer (nullable = true)\n",
            " |-- F_Undergrad: integer (nullable = true)\n",
            " |-- P_Undergrad: integer (nullable = true)\n",
            " |-- Outstate: integer (nullable = true)\n",
            " |-- Room_Board: integer (nullable = true)\n",
            " |-- Books: integer (nullable = true)\n",
            " |-- Personal: integer (nullable = true)\n",
            " |-- PhD: integer (nullable = true)\n",
            " |-- Terminal: integer (nullable = true)\n",
            " |-- S_F_Ratio: double (nullable = true)\n",
            " |-- perc_alumni: integer (nullable = true)\n",
            " |-- Expend: integer (nullable = true)\n",
            " |-- Grad_Rate: integer (nullable = true)\n",
            "\n"
          ]
        }
      ]
    },
    {
      "cell_type": "code",
      "source": [
        "df.head(1)"
      ],
      "metadata": {
        "colab": {
          "base_uri": "https://localhost:8080/"
        },
        "id": "EQ9Kx-OCM9jw",
        "outputId": "ff07b3af-df61-4dd2-fdcf-ee474c41134a"
      },
      "execution_count": 21,
      "outputs": [
        {
          "output_type": "execute_result",
          "data": {
            "text/plain": [
              "[Row(School='Abilene Christian University', Private='Yes', Apps=1660, Accept=1232, Enroll=721, Top10perc=23, Top25perc=52, F_Undergrad=2885, P_Undergrad=537, Outstate=7440, Room_Board=3300, Books=450, Personal=2200, PhD=70, Terminal=78, S_F_Ratio=18.1, perc_alumni=12, Expend=7041, Grad_Rate=60)]"
            ]
          },
          "metadata": {},
          "execution_count": 21
        }
      ]
    },
    {
      "cell_type": "code",
      "source": [
        "from pyspark.ml.feature import VectorAssembler"
      ],
      "metadata": {
        "id": "UHhi75TrM9hI"
      },
      "execution_count": 22,
      "outputs": []
    },
    {
      "cell_type": "code",
      "source": [
        "df.columns"
      ],
      "metadata": {
        "colab": {
          "base_uri": "https://localhost:8080/"
        },
        "id": "VTp63aW_M9eo",
        "outputId": "9c474ea4-b748-4562-8bbe-6dcc692acd9e"
      },
      "execution_count": 23,
      "outputs": [
        {
          "output_type": "execute_result",
          "data": {
            "text/plain": [
              "['School',\n",
              " 'Private',\n",
              " 'Apps',\n",
              " 'Accept',\n",
              " 'Enroll',\n",
              " 'Top10perc',\n",
              " 'Top25perc',\n",
              " 'F_Undergrad',\n",
              " 'P_Undergrad',\n",
              " 'Outstate',\n",
              " 'Room_Board',\n",
              " 'Books',\n",
              " 'Personal',\n",
              " 'PhD',\n",
              " 'Terminal',\n",
              " 'S_F_Ratio',\n",
              " 'perc_alumni',\n",
              " 'Expend',\n",
              " 'Grad_Rate']"
            ]
          },
          "metadata": {},
          "execution_count": 23
        }
      ]
    },
    {
      "cell_type": "markdown",
      "source": [
        "# **Assess correlations between the features and the target**"
      ],
      "metadata": {
        "id": "X8EkhSb9SMA4"
      }
    },
    {
      "cell_type": "code",
      "source": [
        "from scipy.stats import shapiro\n",
        "\n",
        "feature_cols = ['Apps',\n",
        " 'Accept',\n",
        " 'Enroll',\n",
        " 'Top10perc',\n",
        " 'Top25perc',\n",
        " 'F_Undergrad',\n",
        " 'P_Undergrad',\n",
        " 'Outstate',\n",
        " 'Room_Board',\n",
        " 'Books',\n",
        " 'Personal',\n",
        " 'PhD',\n",
        " 'Terminal',\n",
        " 'S_F_Ratio',\n",
        " 'perc_alumni',\n",
        " 'Expend',\n",
        " 'Grad_Rate']\n",
        "\n",
        "results = {}\n",
        "\n",
        "for col in feature_cols:\n",
        "\n",
        "    sampled_data = df.select(col).dropna().sample(fraction = 0.1, seed = 42).toPandas()[col]\n",
        "\n",
        "    if len(sampled_data) < 3:\n",
        "        print(f\"{col}: data size is too small\")\n",
        "        continue\n",
        "\n",
        "    stat, p_value = shapiro(sampled_data)\n",
        "    results[col] = (stat, p_value)\n",
        "\n",
        "    print(f\"{col} - Shapiro-Wilk: {stat:.4f}, p-value: {p_value:.4f}\")\n",
        "\n",
        "    if p_value > 0.05:\n",
        "\n",
        "        print(f\"  => ✅ {col} follows a normal distribution.\\n\")\n",
        "\n",
        "    else:\n",
        "\n",
        "        print(f\"  => {col} dows not follow a normal distribution.\\n\")"
      ],
      "metadata": {
        "colab": {
          "base_uri": "https://localhost:8080/"
        },
        "id": "VKrH3r4sOZ2p",
        "outputId": "2600706f-cdff-4de6-bdf8-6f97412efb7c"
      },
      "execution_count": 18,
      "outputs": [
        {
          "output_type": "stream",
          "name": "stdout",
          "text": [
            "Apps - Shapiro-Wilk: 0.7669, p-value: 0.0000\n",
            "  => Apps dows not follow a normal distribution.\n",
            "\n",
            "Accept - Shapiro-Wilk: 0.7382, p-value: 0.0000\n",
            "  => Accept dows not follow a normal distribution.\n",
            "\n",
            "Enroll - Shapiro-Wilk: 0.7068, p-value: 0.0000\n",
            "  => Enroll dows not follow a normal distribution.\n",
            "\n",
            "Top10perc - Shapiro-Wilk: 0.9348, p-value: 0.0004\n",
            "  => Top10perc dows not follow a normal distribution.\n",
            "\n",
            "Top25perc - Shapiro-Wilk: 0.9741, p-value: 0.0963\n",
            "  => ✅ Top25perc follows a normal distribution.\n",
            "\n",
            "F_Undergrad - Shapiro-Wilk: 0.6959, p-value: 0.0000\n",
            "  => F_Undergrad dows not follow a normal distribution.\n",
            "\n",
            "P_Undergrad - Shapiro-Wilk: 0.4545, p-value: 0.0000\n",
            "  => P_Undergrad dows not follow a normal distribution.\n",
            "\n",
            "Outstate - Shapiro-Wilk: 0.9461, p-value: 0.0018\n",
            "  => Outstate dows not follow a normal distribution.\n",
            "\n",
            "Room_Board - Shapiro-Wilk: 0.9813, p-value: 0.2772\n",
            "  => ✅ Room_Board follows a normal distribution.\n",
            "\n",
            "Books - Shapiro-Wilk: 0.6420, p-value: 0.0000\n",
            "  => Books dows not follow a normal distribution.\n",
            "\n",
            "Personal - Shapiro-Wilk: 0.9004, p-value: 0.0000\n",
            "  => Personal dows not follow a normal distribution.\n",
            "\n",
            "PhD - Shapiro-Wilk: 0.9591, p-value: 0.0104\n",
            "  => PhD dows not follow a normal distribution.\n",
            "\n",
            "Terminal - Shapiro-Wilk: 0.9475, p-value: 0.0021\n",
            "  => Terminal dows not follow a normal distribution.\n",
            "\n",
            "S_F_Ratio - Shapiro-Wilk: 0.9742, p-value: 0.0977\n",
            "  => ✅ S_F_Ratio follows a normal distribution.\n",
            "\n",
            "perc_alumni - Shapiro-Wilk: 0.9583, p-value: 0.0093\n",
            "  => perc_alumni dows not follow a normal distribution.\n",
            "\n",
            "Expend - Shapiro-Wilk: 0.9298, p-value: 0.0002\n",
            "  => Expend dows not follow a normal distribution.\n",
            "\n",
            "Grad_Rate - Shapiro-Wilk: 0.9798, p-value: 0.2246\n",
            "  => ✅ Grad_Rate follows a normal distribution.\n",
            "\n"
          ]
        }
      ]
    },
    {
      "cell_type": "code",
      "source": [
        "from scipy.stats import ttest_ind, mannwhitneyu, shapiro\n",
        "\n",
        "for col in feature_cols:\n",
        "    pdf = df.select(col, 'Private').dropna().toPandas()\n",
        "\n",
        "    group_private = pdf[pdf['Private'] == 'Yes'][col]\n",
        "    group_public = pdf[pdf['Private'] == 'No'][col]\n",
        "\n",
        "    pval_private = shapiro(group_private)[1]\n",
        "    pval_public = shapiro(group_public)[1]\n",
        "\n",
        "    if pval_private > 0.05 and pval_public > 0.05:\n",
        "\n",
        "        t_stat, p_val = ttest_ind(group_private, group_public, equal_var=False)\n",
        "\n",
        "        test_name = \"t-test\"\n",
        "\n",
        "    else:\n",
        "\n",
        "        u_stat, p_val = mannwhitneyu(group_private, group_public, alternative='two-sided')\n",
        "\n",
        "        test_name = \"Mann-Whitney\"\n",
        "\n",
        "    print(f\"{col}: {test_name} p-value = {p_val:.4g}\")"
      ],
      "metadata": {
        "colab": {
          "base_uri": "https://localhost:8080/"
        },
        "id": "ftODNeJ5OrcA",
        "outputId": "9747e1fe-dc42-408d-94a6-2aec43ed4c95"
      },
      "execution_count": 24,
      "outputs": [
        {
          "output_type": "stream",
          "name": "stdout",
          "text": [
            "Apps: Mann-Whitney p-value = 1.829e-39\n",
            "Accept: Mann-Whitney p-value = 1.658e-42\n",
            "Enroll: Mann-Whitney p-value = 1.196e-56\n",
            "Top10perc: Mann-Whitney p-value = 2.941e-08\n",
            "Top25perc: Mann-Whitney p-value = 0.006531\n",
            "F_Undergrad: Mann-Whitney p-value = 2.026e-66\n",
            "P_Undergrad: Mann-Whitney p-value = 2.329e-52\n",
            "Outstate: Mann-Whitney p-value = 8.311e-63\n",
            "Room_Board: Mann-Whitney p-value = 5.632e-20\n",
            "Books: Mann-Whitney p-value = 0.001812\n",
            "Personal: Mann-Whitney p-value = 6.406e-21\n",
            "PhD: Mann-Whitney p-value = 8.582e-05\n",
            "Terminal: Mann-Whitney p-value = 0.002743\n",
            "S_F_Ratio: Mann-Whitney p-value = 3.789e-45\n",
            "perc_alumni: Mann-Whitney p-value = 1.048e-33\n",
            "Expend: Mann-Whitney p-value = 2.457e-23\n",
            "Grad_Rate: Mann-Whitney p-value = 4.384e-23\n"
          ]
        }
      ]
    },
    {
      "cell_type": "markdown",
      "source": [
        "# **Select predictors**"
      ],
      "metadata": {
        "id": "386yKWKgSQd3"
      }
    },
    {
      "cell_type": "code",
      "source": [
        "assembler = VectorAssembler(inputCols = ['Apps',\n",
        " 'Accept',\n",
        " 'Enroll',\n",
        " 'Top10perc',\n",
        " 'Top25perc',\n",
        " 'F_Undergrad',\n",
        " 'P_Undergrad',\n",
        " 'Outstate',\n",
        " 'Room_Board',\n",
        " 'Books',\n",
        " 'Personal',\n",
        " 'PhD',\n",
        " 'Terminal',\n",
        " 'S_F_Ratio',\n",
        " 'perc_alumni',\n",
        " 'Expend',\n",
        " 'Grad_Rate'], outputCol = 'features')"
      ],
      "metadata": {
        "id": "nYu8HrsaM9cA"
      },
      "execution_count": 13,
      "outputs": []
    },
    {
      "cell_type": "code",
      "source": [
        "output = assembler.transform(df)"
      ],
      "metadata": {
        "id": "Hm4dMrg3M9Wp"
      },
      "execution_count": 14,
      "outputs": []
    },
    {
      "cell_type": "markdown",
      "source": [
        "# **Change the target into numbers**"
      ],
      "metadata": {
        "id": "KUx_JnssTUMW"
      }
    },
    {
      "cell_type": "code",
      "source": [
        "from pyspark.ml.feature import StringIndexer"
      ],
      "metadata": {
        "id": "fcWowg8VSXgl"
      },
      "execution_count": 25,
      "outputs": []
    },
    {
      "cell_type": "code",
      "source": [
        "indexer = StringIndexer(inputCol = 'Private', outputCol = 'PrivateIndex')"
      ],
      "metadata": {
        "id": "syUr6ej5SXeV"
      },
      "execution_count": 26,
      "outputs": []
    },
    {
      "cell_type": "code",
      "source": [
        "fixed_output = indexer.fit(output).transform(output)"
      ],
      "metadata": {
        "id": "IYwN4jZhSXcF"
      },
      "execution_count": 27,
      "outputs": []
    },
    {
      "cell_type": "code",
      "source": [
        "fixed_output.printSchema()"
      ],
      "metadata": {
        "colab": {
          "base_uri": "https://localhost:8080/"
        },
        "id": "xxveiEaCSXY3",
        "outputId": "cd0299ed-3115-404d-b4a6-b8ea74e6a78e"
      },
      "execution_count": 28,
      "outputs": [
        {
          "output_type": "stream",
          "name": "stdout",
          "text": [
            "root\n",
            " |-- School: string (nullable = true)\n",
            " |-- Private: string (nullable = true)\n",
            " |-- Apps: integer (nullable = true)\n",
            " |-- Accept: integer (nullable = true)\n",
            " |-- Enroll: integer (nullable = true)\n",
            " |-- Top10perc: integer (nullable = true)\n",
            " |-- Top25perc: integer (nullable = true)\n",
            " |-- F_Undergrad: integer (nullable = true)\n",
            " |-- P_Undergrad: integer (nullable = true)\n",
            " |-- Outstate: integer (nullable = true)\n",
            " |-- Room_Board: integer (nullable = true)\n",
            " |-- Books: integer (nullable = true)\n",
            " |-- Personal: integer (nullable = true)\n",
            " |-- PhD: integer (nullable = true)\n",
            " |-- Terminal: integer (nullable = true)\n",
            " |-- S_F_Ratio: double (nullable = true)\n",
            " |-- perc_alumni: integer (nullable = true)\n",
            " |-- Expend: integer (nullable = true)\n",
            " |-- Grad_Rate: integer (nullable = true)\n",
            " |-- features: vector (nullable = true)\n",
            " |-- PrivateIndex: double (nullable = false)\n",
            "\n"
          ]
        }
      ]
    },
    {
      "cell_type": "code",
      "source": [
        "final_data = fixed_output.select('features', 'PrivateIndex')"
      ],
      "metadata": {
        "id": "b67gTlXFSXWN"
      },
      "execution_count": 29,
      "outputs": []
    },
    {
      "cell_type": "markdown",
      "source": [
        "# **Develop classification models**"
      ],
      "metadata": {
        "id": "2mJlKQu_Tx_B"
      }
    },
    {
      "cell_type": "code",
      "source": [
        "train_data, test_data = final_data.randomSplit([0.7, 0.3])"
      ],
      "metadata": {
        "id": "pJhI2HWSSXTd"
      },
      "execution_count": 30,
      "outputs": []
    },
    {
      "cell_type": "code",
      "source": [
        "from pyspark.ml.classification import DecisionTreeClassifier, RandomForestClassifier, GBTClassifier"
      ],
      "metadata": {
        "id": "Cf05FGpdURam"
      },
      "execution_count": 33,
      "outputs": []
    },
    {
      "cell_type": "code",
      "source": [
        "from pyspark.ml import Pipeline"
      ],
      "metadata": {
        "id": "jBDxZMCnT2bx"
      },
      "execution_count": 34,
      "outputs": []
    },
    {
      "cell_type": "code",
      "source": [
        "dtc_model = DecisionTreeClassifier(labelCol = 'PrivateIndex', featuresCol = 'features')\n",
        "rfc_model = RandomForestClassifier(labelCol = 'PrivateIndex', featuresCol = 'features')\n",
        "gbt_model = GBTClassifier(labelCol = 'PrivateIndex', featuresCol = 'features')"
      ],
      "metadata": {
        "id": "KUyUbyp9T2ZJ"
      },
      "execution_count": 37,
      "outputs": []
    },
    {
      "cell_type": "code",
      "source": [
        "fitted_dtc_model = dtc_model.fit(train_data)\n",
        "fitted_rfc_model = rfc_model.fit(train_data)\n",
        "fitted_gbt_model = gbt_model.fit(train_data)"
      ],
      "metadata": {
        "id": "aQakqr5dT2Ws"
      },
      "execution_count": 39,
      "outputs": []
    },
    {
      "cell_type": "code",
      "source": [
        "dtc_preds = fitted_dtc_model.transform(test_data)\n",
        "rfc_preds = fitted_rfc_model.transform(test_data)\n",
        "gbt_preds = fitted_gbt_model.transform(test_data)"
      ],
      "metadata": {
        "id": "jE86ztr8T2UZ"
      },
      "execution_count": 40,
      "outputs": []
    },
    {
      "cell_type": "code",
      "source": [
        "from pyspark.ml.evaluation import BinaryClassificationEvaluator"
      ],
      "metadata": {
        "id": "mZrrH4heT2R5"
      },
      "execution_count": 41,
      "outputs": []
    },
    {
      "cell_type": "code",
      "source": [
        "evaluation = BinaryClassificationEvaluator(labelCol = 'PrivateIndex')"
      ],
      "metadata": {
        "id": "9kPkXuIlV4-Y"
      },
      "execution_count": 42,
      "outputs": []
    },
    {
      "cell_type": "code",
      "source": [
        "print('Decision Tree Classifier')\n",
        "evaluation.evaluate(dtc_preds)"
      ],
      "metadata": {
        "colab": {
          "base_uri": "https://localhost:8080/"
        },
        "id": "S7hREqduV48J",
        "outputId": "134a6a9d-29d2-44c9-f4f2-322c7792984a"
      },
      "execution_count": 45,
      "outputs": [
        {
          "output_type": "stream",
          "name": "stdout",
          "text": [
            "Decision Tree Classifier\n"
          ]
        },
        {
          "output_type": "execute_result",
          "data": {
            "text/plain": [
              "0.9609826589595375"
            ]
          },
          "metadata": {},
          "execution_count": 45
        }
      ]
    },
    {
      "cell_type": "code",
      "source": [
        "print('Random Forest Classifier')\n",
        "evaluation.evaluate(rfc_preds)"
      ],
      "metadata": {
        "colab": {
          "base_uri": "https://localhost:8080/"
        },
        "id": "x_9naDb1V43Q",
        "outputId": "7b1258c6-bc8f-4fee-9c16-ce4162a1e462"
      },
      "execution_count": 46,
      "outputs": [
        {
          "output_type": "stream",
          "name": "stdout",
          "text": [
            "Random Forest Classifier\n"
          ]
        },
        {
          "output_type": "execute_result",
          "data": {
            "text/plain": [
              "0.9825626204238919"
            ]
          },
          "metadata": {},
          "execution_count": 46
        }
      ]
    },
    {
      "cell_type": "code",
      "source": [
        "gbt_evaluation = BinaryClassificationEvaluator(labelCol = 'PrivateIndex', rawPredictionCol='prediction')"
      ],
      "metadata": {
        "id": "bplcIC_NW1T6"
      },
      "execution_count": 48,
      "outputs": []
    },
    {
      "cell_type": "code",
      "source": [
        "print('Gradient Boosting Tree Classifier')\n",
        "print(gbt_evaluation.evaluate(gbt_preds))"
      ],
      "metadata": {
        "colab": {
          "base_uri": "https://localhost:8080/"
        },
        "id": "9gKK98FnW1Pb",
        "outputId": "73d9be14-33e3-467e-93a5-31e45f17e312"
      },
      "execution_count": 49,
      "outputs": [
        {
          "output_type": "stream",
          "name": "stdout",
          "text": [
            "Gradient Boosting Tree Classifier\n",
            "0.9297687861271675\n"
          ]
        }
      ]
    }
  ]
}