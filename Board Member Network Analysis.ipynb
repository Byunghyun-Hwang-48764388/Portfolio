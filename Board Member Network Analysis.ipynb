{
 "cells": [
  {
   "cell_type": "markdown",
   "id": "7729cff9",
   "metadata": {},
   "source": [
    "# Analysis Purpose\n",
    "\n",
    "The purpose of this analysis project is to identify key board members who have connections with potential buyers in the USA, thereby selling the company, Morris Inc. PLC. Two datasets extracted from DEF 14A fillings from US companies and one complementary dataset were analyzed for this purpose, particularly using network analysis and clustering techniques."
   ]
  },
  {
   "cell_type": "markdown",
   "id": "3d39b403",
   "metadata": {},
   "source": [
    "# 1. Library Import"
   ]
  },
  {
   "cell_type": "code",
   "execution_count": 1,
   "id": "30e50fd3",
   "metadata": {},
   "outputs": [],
   "source": [
    "import math\n",
    "import pandas as pd\n",
    "import numpy as np\n",
    "import seaborn as sns\n",
    "import matplotlib.pyplot as plt\n",
    "import networkx\n",
    "import networkx.algorithms\n",
    "from scipy.stats import spearmanr\n",
    "from sklearn.metrics import silhouette_score\n",
    "from scipy.stats import f_oneway\n",
    "from scipy.stats import mannwhitneyu\n",
    "from scipy.stats import kruskal\n",
    "from sklearn.cluster import DBSCAN\n",
    "from sklearn.preprocessing import MinMaxScaler\n",
    "import sklearn.cluster\n",
    "import sklearn.preprocessing\n",
    "import time\n",
    "import warnings\n",
    "warnings.filterwarnings(\"ignore\")"
   ]
  },
  {
   "cell_type": "markdown",
   "id": "2a74f038",
   "metadata": {},
   "source": [
    "# 2. Data Import and Preprocess"
   ]
  },
  {
   "cell_type": "markdown",
   "id": "ec3e1bb6",
   "metadata": {},
   "source": [
    "### 2.1. Dataset 1: company directorships"
   ]
  },
  {
   "cell_type": "code",
   "execution_count": 2,
   "id": "59b4f077-bb53-4a6d-b193-fc3fd107ec77",
   "metadata": {
    "scrolled": true
   },
   "outputs": [
    {
     "data": {
      "text/html": [
       "<div>\n",
       "<style scoped>\n",
       "    .dataframe tbody tr th:only-of-type {\n",
       "        vertical-align: middle;\n",
       "    }\n",
       "\n",
       "    .dataframe tbody tr th {\n",
       "        vertical-align: top;\n",
       "    }\n",
       "\n",
       "    .dataframe thead th {\n",
       "        text-align: right;\n",
       "    }\n",
       "</style>\n",
       "<table border=\"1\" class=\"dataframe\">\n",
       "  <thead>\n",
       "    <tr style=\"text-align: right;\">\n",
       "      <th></th>\n",
       "      <th>company_name</th>\n",
       "      <th>cikcode</th>\n",
       "      <th>director_name</th>\n",
       "      <th>software_background</th>\n",
       "      <th>start_date</th>\n",
       "      <th>end_date</th>\n",
       "    </tr>\n",
       "  </thead>\n",
       "  <tbody>\n",
       "    <tr>\n",
       "      <th>9791</th>\n",
       "      <td>QUAKER CHEMICAL CORP</td>\n",
       "      <td>81362</td>\n",
       "      <td>MICHAEL J. SHANNON</td>\n",
       "      <td>False</td>\n",
       "      <td>2020-03-31</td>\n",
       "      <td>2023-03-31</td>\n",
       "    </tr>\n",
       "    <tr>\n",
       "      <th>8125</th>\n",
       "      <td>MESA LABORATORIES INC /CO/</td>\n",
       "      <td>724004</td>\n",
       "      <td>JOHN J. SULLIVAN, PH.D.</td>\n",
       "      <td>False</td>\n",
       "      <td>2009-08-03</td>\n",
       "      <td>2018-09-20</td>\n",
       "    </tr>\n",
       "    <tr>\n",
       "      <th>12234</th>\n",
       "      <td>UNIFIRST CORP</td>\n",
       "      <td>717954</td>\n",
       "      <td>CYNTHIA CROATTI</td>\n",
       "      <td>False</td>\n",
       "      <td>2008-12-09</td>\n",
       "      <td>2024-12-05</td>\n",
       "    </tr>\n",
       "    <tr>\n",
       "      <th>10418</th>\n",
       "      <td>SEABOARD CORP /DE/</td>\n",
       "      <td>88121</td>\n",
       "      <td>STEVEN J. BRESKY</td>\n",
       "      <td>False</td>\n",
       "      <td>2005-03-14</td>\n",
       "      <td>2020-03-13</td>\n",
       "    </tr>\n",
       "    <tr>\n",
       "      <th>11366</th>\n",
       "      <td>SYSCO CORP</td>\n",
       "      <td>96021</td>\n",
       "      <td>JOSHUA D. FRANK</td>\n",
       "      <td>False</td>\n",
       "      <td>2017-10-06</td>\n",
       "      <td>2020-10-07</td>\n",
       "    </tr>\n",
       "  </tbody>\n",
       "</table>\n",
       "</div>"
      ],
      "text/plain": [
       "                     company_name  cikcode            director_name  \\\n",
       "9791         QUAKER CHEMICAL CORP    81362       MICHAEL J. SHANNON   \n",
       "8125   MESA LABORATORIES INC /CO/   724004  JOHN J. SULLIVAN, PH.D.   \n",
       "12234               UNIFIRST CORP   717954          CYNTHIA CROATTI   \n",
       "10418          SEABOARD CORP /DE/    88121         STEVEN J. BRESKY   \n",
       "11366                  SYSCO CORP    96021          JOSHUA D. FRANK   \n",
       "\n",
       "       software_background  start_date    end_date  \n",
       "9791                 False  2020-03-31  2023-03-31  \n",
       "8125                 False  2009-08-03  2018-09-20  \n",
       "12234                False  2008-12-09  2024-12-05  \n",
       "10418                False  2005-03-14  2020-03-13  \n",
       "11366                False  2017-10-06  2020-10-07  "
      ]
     },
     "execution_count": 2,
     "metadata": {},
     "output_type": "execute_result"
    }
   ],
   "source": [
    "df = pd.read_csv('company_directorships.csv')\n",
    "\n",
    "df.software_background = df.software_background.map(lambda x: x == 't')\n",
    "\n",
    "df.sample(5)"
   ]
  },
  {
   "cell_type": "markdown",
   "id": "aab9076b",
   "metadata": {},
   "source": [
    "### 2.2. Dataset 2: director details"
   ]
  },
  {
   "cell_type": "markdown",
   "id": "e93c3b0e",
   "metadata": {},
   "source": [
    "< Import dataset and group data by name >"
   ]
  },
  {
   "cell_type": "code",
   "execution_count": 3,
   "id": "85988c0b-40e6-48fc-95df-e39f0432adb4",
   "metadata": {
    "scrolled": false
   },
   "outputs": [
    {
     "data": {
      "text/html": [
       "<div>\n",
       "<style scoped>\n",
       "    .dataframe tbody tr th:only-of-type {\n",
       "        vertical-align: middle;\n",
       "    }\n",
       "\n",
       "    .dataframe tbody tr th {\n",
       "        vertical-align: top;\n",
       "    }\n",
       "\n",
       "    .dataframe thead th {\n",
       "        text-align: right;\n",
       "    }\n",
       "</style>\n",
       "<table border=\"1\" class=\"dataframe\">\n",
       "  <thead>\n",
       "    <tr style=\"text-align: right;\">\n",
       "      <th></th>\n",
       "      <th>age</th>\n",
       "      <th>compensation</th>\n",
       "      <th>gender</th>\n",
       "      <th>log_compensation</th>\n",
       "    </tr>\n",
       "    <tr>\n",
       "      <th>NAME</th>\n",
       "      <th></th>\n",
       "      <th></th>\n",
       "      <th></th>\n",
       "      <th></th>\n",
       "    </tr>\n",
       "  </thead>\n",
       "  <tbody>\n",
       "    <tr>\n",
       "      <th>A. CATHERINE NGO</th>\n",
       "      <td>64</td>\n",
       "      <td>1006154</td>\n",
       "      <td>female</td>\n",
       "      <td>6.002665</td>\n",
       "    </tr>\n",
       "    <tr>\n",
       "      <th>A. EUGENE WASHINGTON</th>\n",
       "      <td>70</td>\n",
       "      <td>324871</td>\n",
       "      <td>male</td>\n",
       "      <td>5.511712</td>\n",
       "    </tr>\n",
       "    <tr>\n",
       "      <th>A. F. PETROCELLI</th>\n",
       "      <td>80</td>\n",
       "      <td>47000</td>\n",
       "      <td>male</td>\n",
       "      <td>4.672107</td>\n",
       "    </tr>\n",
       "    <tr>\n",
       "      <th>A. FARAZ ABBASI</th>\n",
       "      <td>52</td>\n",
       "      <td>113631</td>\n",
       "      <td>male</td>\n",
       "      <td>5.055501</td>\n",
       "    </tr>\n",
       "    <tr>\n",
       "      <th>A. LARRY CHAPMAN</th>\n",
       "      <td>78</td>\n",
       "      <td>259500</td>\n",
       "      <td>male</td>\n",
       "      <td>5.414139</td>\n",
       "    </tr>\n",
       "  </tbody>\n",
       "</table>\n",
       "</div>"
      ],
      "text/plain": [
       "                      age  compensation  gender  log_compensation\n",
       "NAME                                                             \n",
       "A. CATHERINE NGO       64       1006154  female          6.002665\n",
       "A. EUGENE WASHINGTON   70        324871    male          5.511712\n",
       "A. F. PETROCELLI       80         47000    male          4.672107\n",
       "A. FARAZ ABBASI        52        113631    male          5.055501\n",
       "A. LARRY CHAPMAN       78        259500    male          5.414139"
      ]
     },
     "execution_count": 3,
     "metadata": {},
     "output_type": "execute_result"
    }
   ],
   "source": [
    "compensation_and_demographics_raw = pd.read_csv('director-details.csv')\n",
    "compensation_and_demographics_raw['NAME'] = compensation_and_demographics_raw.name.str.upper()\n",
    "\n",
    "def most_common(series):\n",
    "\n",
    "    mode_values = series.mode()\n",
    "\n",
    "    if len(mode_values) > 0:\n",
    "\n",
    "        return mode_values[0]\n",
    "    \n",
    "    return None\n",
    "\n",
    "compensation_and_demographics = pd.DataFrame({\n",
    "\n",
    "    'age': compensation_and_demographics_raw.groupby('NAME').age.max(),\n",
    "    'compensation': compensation_and_demographics_raw.groupby('NAME').compensation.sum(),\n",
    "    'gender': compensation_and_demographics_raw.groupby('NAME').gender.agg(most_common)\n",
    "\n",
    "})\n",
    "\n",
    "compensation_and_demographics['log_compensation'] = (1 + compensation_and_demographics.compensation).map(math.log10)\n",
    "compensation_and_demographics.head()"
   ]
  },
  {
   "cell_type": "markdown",
   "id": "6544f5be",
   "metadata": {},
   "source": [
    "< Create age groups >"
   ]
  },
  {
   "cell_type": "code",
   "execution_count": 4,
   "id": "eb8b83e3",
   "metadata": {},
   "outputs": [
    {
     "data": {
      "text/plain": [
       "array([ 64,  70,  80,  52,  78,  67,  79,  60,  62,  44,  53,  46,  42,\n",
       "        51,  71,  61,  63,   0,  38,  50,  49,  57,  76,  68,  43,  65,\n",
       "        81,  55,  66,  58,  73,  87,  48,  56,  85,  72,  59,  83,  74,\n",
       "        69,  45,  75,  47,  54,  35,  41,  90,  89,  40,  91,  82,  93,\n",
       "        36,  86,  39,  88,  37,  77,  34,  84,  94,  29, 103,  27,  33,\n",
       "        22,  92,  30], dtype=int64)"
      ]
     },
     "execution_count": 4,
     "metadata": {},
     "output_type": "execute_result"
    }
   ],
   "source": [
    "# Check age range\n",
    "\n",
    "compensation_and_demographics['age'].unique()"
   ]
  },
  {
   "cell_type": "code",
   "execution_count": 5,
   "id": "37a0d56c",
   "metadata": {},
   "outputs": [
    {
     "name": "stdout",
     "output_type": "stream",
     "text": [
      "                          age age_group\n",
      "NAME                                   \n",
      "A. CATHERINE NGO           64       60s\n",
      "A. EUGENE WASHINGTON       70       70s\n",
      "A. F. PETROCELLI           80       80s\n",
      "A. FARAZ ABBASI            52       50s\n",
      "A. LARRY CHAPMAN           78       70s\n",
      "A. LOUIS PARKER            67       60s\n",
      "A. RUSSELL CHANDLER, III   79       70s\n",
      "A. SCOTT MOBLEY            60       60s\n",
      "A. SHANE SANDERS           62       60s\n",
      "A.G. SULZBERGER            44       40s\n"
     ]
    }
   ],
   "source": [
    "# Create nine age groups\n",
    "\n",
    "compensation_and_demographics = compensation_and_demographics[compensation_and_demographics['age'] >= 20]\n",
    "\n",
    "compensation_and_demographics['age_group'] = pd.cut(\n",
    "    \n",
    "    compensation_and_demographics['age'], \n",
    "    bins = [20, 30, 40, 50, 60, 70, 80, 90, 100, 110], \n",
    "    right = False, \n",
    "    labels = ['20s', '30s', '40s', '50s', '60s', '70s', '80s', '90s', '100s'])\n",
    "\n",
    "compensation_and_demographics = compensation_and_demographics[compensation_and_demographics['age'] >= 20]\n",
    "\n",
    "print(compensation_and_demographics[['age', 'age_group']].head(10))"
   ]
  },
  {
   "cell_type": "markdown",
   "id": "65a7f38f",
   "metadata": {},
   "source": [
    "-> Based on the age distribution, nine age groups were created for analysis."
   ]
  },
  {
   "cell_type": "markdown",
   "id": "f100f004",
   "metadata": {},
   "source": [
    "### 2.3. Dataset 3: acquiring tech companies"
   ]
  },
  {
   "cell_type": "markdown",
   "id": "6954f0d6",
   "metadata": {},
   "source": [
    "- This dataset contains information on M&A in the USA IT industry with board member names of acquiring big IT companies. This dataset will used to identify what companies can be connected through certain board members. Board members and their company names that exist in three datasets will be identified. It is assumed that connecting the board members may have connections with their companies' acquired IT companies. Detailed analysis is in section 5 \"Connectable Companies\".\n",
    "- Link: https://www.kaggle.com/datasets/joebeachcapital/technology-mergers-and-acquisitions?resource=download"
   ]
  },
  {
   "cell_type": "code",
   "execution_count": 6,
   "id": "77bdbe65",
   "metadata": {},
   "outputs": [
    {
     "data": {
      "text/html": [
       "<div>\n",
       "<style scoped>\n",
       "    .dataframe tbody tr th:only-of-type {\n",
       "        vertical-align: middle;\n",
       "    }\n",
       "\n",
       "    .dataframe tbody tr th {\n",
       "        vertical-align: top;\n",
       "    }\n",
       "\n",
       "    .dataframe thead th {\n",
       "        text-align: right;\n",
       "    }\n",
       "</style>\n",
       "<table border=\"1\" class=\"dataframe\">\n",
       "  <thead>\n",
       "    <tr style=\"text-align: right;\">\n",
       "      <th></th>\n",
       "      <th>Acquiring Company</th>\n",
       "      <th>Number of Acquisitions</th>\n",
       "      <th>Board Members</th>\n",
       "      <th>Country (HQ)</th>\n",
       "      <th>Acquired Companies</th>\n",
       "    </tr>\n",
       "  </thead>\n",
       "  <tbody>\n",
       "    <tr>\n",
       "      <th>0</th>\n",
       "      <td>Amazon</td>\n",
       "      <td>45</td>\n",
       "      <td>Gervase Clifton-Bligh, Patricia Q. Stonesifer,...</td>\n",
       "      <td>United States</td>\n",
       "      <td>AbeBooks, Accept.Com, Alexa, Amie Street, Audi...</td>\n",
       "    </tr>\n",
       "    <tr>\n",
       "      <th>1</th>\n",
       "      <td>AOL</td>\n",
       "      <td>62</td>\n",
       "      <td>David Bell, Susan Lyne, Jim Wiatt, Fred Reynol...</td>\n",
       "      <td>United States</td>\n",
       "      <td>5min Media, Adap.tv, ADTECH, Advertising.com, ...</td>\n",
       "    </tr>\n",
       "    <tr>\n",
       "      <th>2</th>\n",
       "      <td>Apple</td>\n",
       "      <td>51</td>\n",
       "      <td>Robert A. Iger, Al Gore, Gareth C.C. Chang, Cl...</td>\n",
       "      <td>United States</td>\n",
       "      <td>AlgoTrim, Anobit Technologies, AuthenTec, Beat...</td>\n",
       "    </tr>\n",
       "    <tr>\n",
       "      <th>3</th>\n",
       "      <td>AT&amp;T</td>\n",
       "      <td>12</td>\n",
       "      <td>Nathen Harvey, Gilbert F. Amelio, Nigel Vaz, R...</td>\n",
       "      <td>United States</td>\n",
       "      <td>Centennial Communications Corp, Dobson Communi...</td>\n",
       "    </tr>\n",
       "    <tr>\n",
       "      <th>4</th>\n",
       "      <td>Cisco Systems</td>\n",
       "      <td>162</td>\n",
       "      <td>Greg Brown, Carol Bartz, Jim Gibbons, Gilles d...</td>\n",
       "      <td>United States</td>\n",
       "      <td>Active Voice Corporation, Actona Technologies,...</td>\n",
       "    </tr>\n",
       "  </tbody>\n",
       "</table>\n",
       "</div>"
      ],
      "text/plain": [
       "  Acquiring Company  Number of Acquisitions  \\\n",
       "0            Amazon                      45   \n",
       "1               AOL                      62   \n",
       "2             Apple                      51   \n",
       "3              AT&T                      12   \n",
       "4     Cisco Systems                     162   \n",
       "\n",
       "                                       Board Members   Country (HQ)  \\\n",
       "0  Gervase Clifton-Bligh, Patricia Q. Stonesifer,...  United States   \n",
       "1  David Bell, Susan Lyne, Jim Wiatt, Fred Reynol...  United States   \n",
       "2  Robert A. Iger, Al Gore, Gareth C.C. Chang, Cl...  United States   \n",
       "3  Nathen Harvey, Gilbert F. Amelio, Nigel Vaz, R...  United States   \n",
       "4  Greg Brown, Carol Bartz, Jim Gibbons, Gilles d...  United States   \n",
       "\n",
       "                                  Acquired Companies  \n",
       "0  AbeBooks, Accept.Com, Alexa, Amie Street, Audi...  \n",
       "1  5min Media, Adap.tv, ADTECH, Advertising.com, ...  \n",
       "2  AlgoTrim, Anobit Technologies, AuthenTec, Beat...  \n",
       "3  Centennial Communications Corp, Dobson Communi...  \n",
       "4  Active Voice Corporation, Actona Technologies,...  "
      ]
     },
     "execution_count": 6,
     "metadata": {},
     "output_type": "execute_result"
    }
   ],
   "source": [
    "df_acquiring = pd.read_csv('Acquiring Tech Companies.csv', encoding = 'ISO-8859-1')\n",
    "df_acquiring.head(5)"
   ]
  },
  {
   "cell_type": "markdown",
   "id": "105e413e",
   "metadata": {},
   "source": [
    "< 2.3.1. Split board member names >"
   ]
  },
  {
   "cell_type": "code",
   "execution_count": 7,
   "id": "ed3ea601",
   "metadata": {},
   "outputs": [],
   "source": [
    "# Split board member names and add each name to the original dataset in different columns\n",
    "\n",
    "board_members_split = df_acquiring['Board Members'].str.split(',', expand = True)\n",
    "board_members_split_columns = [f\"Board Member {i+1}\" for i in range(board_members_split.shape[1])]\n",
    "board_members_split.columns = board_members_split_columns\n",
    "df_acquiring = df_acquiring.drop(columns = ['Board Members']).join(board_members_split)"
   ]
  },
  {
   "cell_type": "code",
   "execution_count": 8,
   "id": "be619136",
   "metadata": {},
   "outputs": [
    {
     "data": {
      "text/html": [
       "<div>\n",
       "<style scoped>\n",
       "    .dataframe tbody tr th:only-of-type {\n",
       "        vertical-align: middle;\n",
       "    }\n",
       "\n",
       "    .dataframe tbody tr th {\n",
       "        vertical-align: top;\n",
       "    }\n",
       "\n",
       "    .dataframe thead th {\n",
       "        text-align: right;\n",
       "    }\n",
       "</style>\n",
       "<table border=\"1\" class=\"dataframe\">\n",
       "  <thead>\n",
       "    <tr style=\"text-align: right;\">\n",
       "      <th></th>\n",
       "      <th>Acquiring Company</th>\n",
       "      <th>Number of Acquisitions</th>\n",
       "      <th>Country (HQ)</th>\n",
       "      <th>Acquired Companies</th>\n",
       "      <th>Board Member 1</th>\n",
       "      <th>Board Member 2</th>\n",
       "      <th>Board Member 3</th>\n",
       "      <th>Board Member 4</th>\n",
       "      <th>Board Member 5</th>\n",
       "      <th>Board Member 6</th>\n",
       "      <th>...</th>\n",
       "      <th>Board Member 13</th>\n",
       "      <th>Board Member 14</th>\n",
       "      <th>Board Member 15</th>\n",
       "      <th>Board Member 16</th>\n",
       "      <th>Board Member 17</th>\n",
       "      <th>Board Member 18</th>\n",
       "      <th>Board Member 19</th>\n",
       "      <th>Board Member 20</th>\n",
       "      <th>Board Member 21</th>\n",
       "      <th>Board Member 22</th>\n",
       "    </tr>\n",
       "  </thead>\n",
       "  <tbody>\n",
       "    <tr>\n",
       "      <th>0</th>\n",
       "      <td>Amazon</td>\n",
       "      <td>45</td>\n",
       "      <td>United States</td>\n",
       "      <td>AbeBooks, Accept.Com, Alexa, Amie Street, Audi...</td>\n",
       "      <td>Gervase Clifton-Bligh</td>\n",
       "      <td>Patricia Q. Stonesifer</td>\n",
       "      <td>Thomas O. Ryder</td>\n",
       "      <td>Myrtle S. Potter</td>\n",
       "      <td>Bing Gordon</td>\n",
       "      <td>John Doerr</td>\n",
       "      <td>...</td>\n",
       "      <td>None</td>\n",
       "      <td>None</td>\n",
       "      <td>None</td>\n",
       "      <td>None</td>\n",
       "      <td>None</td>\n",
       "      <td>None</td>\n",
       "      <td>None</td>\n",
       "      <td>None</td>\n",
       "      <td>None</td>\n",
       "      <td>None</td>\n",
       "    </tr>\n",
       "  </tbody>\n",
       "</table>\n",
       "<p>1 rows × 26 columns</p>\n",
       "</div>"
      ],
      "text/plain": [
       "  Acquiring Company  Number of Acquisitions   Country (HQ)  \\\n",
       "0            Amazon                      45  United States   \n",
       "\n",
       "                                  Acquired Companies         Board Member 1  \\\n",
       "0  AbeBooks, Accept.Com, Alexa, Amie Street, Audi...  Gervase Clifton-Bligh   \n",
       "\n",
       "            Board Member 2    Board Member 3     Board Member 4  \\\n",
       "0   Patricia Q. Stonesifer   Thomas O. Ryder   Myrtle S. Potter   \n",
       "\n",
       "  Board Member 5 Board Member 6  ... Board Member 13 Board Member 14  \\\n",
       "0    Bing Gordon     John Doerr  ...            None            None   \n",
       "\n",
       "  Board Member 15 Board Member 16 Board Member 17 Board Member 18  \\\n",
       "0            None            None            None            None   \n",
       "\n",
       "  Board Member 19 Board Member 20 Board Member 21 Board Member 22  \n",
       "0            None            None            None            None  \n",
       "\n",
       "[1 rows x 26 columns]"
      ]
     },
     "execution_count": 8,
     "metadata": {},
     "output_type": "execute_result"
    }
   ],
   "source": [
    "df_acquiring.head(1)"
   ]
  },
  {
   "cell_type": "markdown",
   "id": "db3904f7",
   "metadata": {},
   "source": [
    "# 3. EDA & Board Member Selection Criteria"
   ]
  },
  {
   "cell_type": "markdown",
   "id": "9b6d2cd9",
   "metadata": {},
   "source": [
    "### 3.1. Identify the number of companies that each board member serves"
   ]
  },
  {
   "cell_type": "code",
   "execution_count": 9,
   "id": "1d74aaa8-573a-4693-9bb3-7a9ef40299cf",
   "metadata": {},
   "outputs": [
    {
     "data": {
      "text/plain": [
       "director_name\n",
       "A CHARLENE SULLIVAN, PH.D.    1\n",
       "MICHAEL L. KUTA               1\n",
       "MICHAEL L. LARUSSO            1\n",
       "MICHAEL L. MILLER             1\n",
       "MICHAEL L. OWENS              1\n",
       "Name: company_name, dtype: int64"
      ]
     },
     "execution_count": 9,
     "metadata": {},
     "output_type": "execute_result"
    }
   ],
   "source": [
    "directorship_counts = df.groupby('director_name').company_name.nunique().sort_values()\n",
    "directorship_counts.head()"
   ]
  },
  {
   "cell_type": "code",
   "execution_count": 10,
   "id": "4fe6cfd0",
   "metadata": {},
   "outputs": [
    {
     "data": {
      "image/png": "[encoded data removed]",
      "text/plain": [
       "<Figure size 640x480 with 1 Axes>"
      ]
     },
     "metadata": {},
     "output_type": "display_data"
    }
   ],
   "source": [
    "distribution = directorship_counts.value_counts().sort_index()\n",
    "\n",
    "plt.plot(distribution.index, np.log10(distribution.values))\n",
    "plt.xlabel('Number of Companies')\n",
    "plt.ylabel('Number of Board Members(Log10)')\n",
    "plt.title('Number of Companies Each Board Member Serves')\n",
    "plt.grid(True)\n",
    "plt.show()"
   ]
  },
  {
   "cell_type": "markdown",
   "id": "645956ef",
   "metadata": {},
   "source": [
    "-> The majority of board members are affiliated with only one or two companies. A few members are affiliated with more than 10 companies, representing more than 10 individuals. "
   ]
  },
  {
   "cell_type": "markdown",
   "id": "e1ea8e48",
   "metadata": {},
   "source": [
    "### 3.2. Identify the proportion of gender"
   ]
  },
  {
   "cell_type": "code",
   "execution_count": 11,
   "id": "50b9bba8",
   "metadata": {},
   "outputs": [
    {
     "data": {
      "text/plain": [
       "gender\n",
       "male      3749\n",
       "female    1526\n",
       "None        19\n",
       "Name: count, dtype: int64"
      ]
     },
     "execution_count": 11,
     "metadata": {},
     "output_type": "execute_result"
    }
   ],
   "source": [
    "compensation_and_demographics.gender.value_counts(dropna = False)"
   ]
  },
  {
   "cell_type": "markdown",
   "id": "b77a48b8",
   "metadata": {},
   "source": [
    "-> The number of male members is significantly more than female members."
   ]
  },
  {
   "cell_type": "markdown",
   "id": "367841da",
   "metadata": {},
   "source": [
    "### 3.3. Identify associations between age and number of companies "
   ]
  },
  {
   "cell_type": "markdown",
   "id": "e8512fcc",
   "metadata": {},
   "source": [
    "< Visualize the number of board members by age group >"
   ]
  },
  {
   "cell_type": "code",
   "execution_count": 12,
   "id": "f29c9d82-a402-491a-9cd9-0a3a5db8983e",
   "metadata": {},
   "outputs": [
    {
     "data": {
      "text/plain": [
       "age_group\n",
       "60s     2418\n",
       "50s     1267\n",
       "70s     1121\n",
       "40s      284\n",
       "80s      155\n",
       "30s       31\n",
       "90s       14\n",
       "20s        3\n",
       "100s       1\n",
       "Name: count, dtype: int64"
      ]
     },
     "execution_count": 12,
     "metadata": {},
     "output_type": "execute_result"
    }
   ],
   "source": [
    "# Print the number of board members by age group \n",
    "\n",
    "compensation_and_demographics.age_group.value_counts(dropna = False)"
   ]
  },
  {
   "cell_type": "code",
   "execution_count": 13,
   "id": "ed58e2d2",
   "metadata": {},
   "outputs": [
    {
     "data": {
      "image/png": "[encoded data removed]",
      "text/plain": [
       "<Figure size 1000x600 with 1 Axes>"
      ]
     },
     "metadata": {},
     "output_type": "display_data"
    }
   ],
   "source": [
    "# Visualize number of members by age group\n",
    "\n",
    "age_counts = compensation_and_demographics['age_group'].value_counts().sort_index()\n",
    "\n",
    "plt.figure(figsize = (10,6))\n",
    "sns.barplot(x = age_counts.index, y = age_counts.values, palette = 'viridis')\n",
    "\n",
    "plt.title('Number of Board Members by Age Group')\n",
    "plt.xlabel('Age Group')\n",
    "plt.ylabel('Number of Board Members')\n",
    "plt.xticks(rotation = 45)\n",
    "plt.tight_layout()\n",
    "plt.show()"
   ]
  },
  {
   "cell_type": "markdown",
   "id": "fd4e8992",
   "metadata": {},
   "source": [
    "-> Most board members are in the age groups of the 50s, 60, and 70s. Then, only three and one board memebers are in the groups of 20s and 100s respectively."
   ]
  },
  {
   "cell_type": "markdown",
   "id": "6a883d17",
   "metadata": {},
   "source": [
    "< Identify average number of companies that each board member is affiliated by age group >"
   ]
  },
  {
   "cell_type": "code",
   "execution_count": 14,
   "id": "21e9c412",
   "metadata": {},
   "outputs": [
    {
     "name": "stdout",
     "output_type": "stream",
     "text": [
      "Average number of companies by age:\n",
      " age_group\n",
      "70s     1.201452\n",
      "80s     1.193548\n",
      "60s     1.189109\n",
      "30s     1.100000\n",
      "50s     1.090323\n",
      "90s     1.071429\n",
      "40s     1.042857\n",
      "20s     1.000000\n",
      "100s    1.000000\n",
      "Name: num_companies_serve, dtype: float64\n"
     ]
    }
   ],
   "source": [
    "# Make a dataframe with directorship_df\n",
    "\n",
    "directorship_df = directorship_counts.to_frame(name = 'num_companies_serve')\n",
    "\n",
    "directorship_age_group = directorship_df.join(compensation_and_demographics[['age_group']])\n",
    "\n",
    "# Identify average number of companies by age group\n",
    "\n",
    "avg_num = directorship_age_group.groupby('age_group')['num_companies_serve'].mean().sort_values(ascending = False)\n",
    "\n",
    "print(\"Average number of companies by age:\\n\", avg_num)"
   ]
  },
  {
   "cell_type": "code",
   "execution_count": 15,
   "id": "80f1dff9",
   "metadata": {},
   "outputs": [
    {
     "data": {
      "image/png": "[encoded data removed]",
      "text/plain": [
       "<Figure size 1000x600 with 1 Axes>"
      ]
     },
     "metadata": {},
     "output_type": "display_data"
    }
   ],
   "source": [
    "plt.figure(figsize = (10, 6))\n",
    "\n",
    "sns.barplot(x = avg_num.index, y = avg_num.values, palette = \"Blues_d\")\n",
    "\n",
    "plt.title('Average Number of Companies Served by Board Members by Age Group', fontsize = 14)\n",
    "plt.xlabel('Age Group')\n",
    "plt.ylabel('Average Number of Companies')\n",
    "plt.xticks(rotation = 360)\n",
    "plt.tight_layout()\n",
    "plt.show()"
   ]
  },
  {
   "cell_type": "markdown",
   "id": "a113a476",
   "metadata": {},
   "source": [
    "-> Based on the results, board members in the age groups of the 60s, 70s, and 80s are more likely to serve at more companies compared to the other age groups. To determine whether the differences are statistically significant, ANOVA test or Kruskal-Wallis test should be conducted. "
   ]
  },
  {
   "cell_type": "markdown",
   "id": "cd40bc87",
   "metadata": {},
   "source": [
    "< Conduct Shapiro test to assess normality >"
   ]
  },
  {
   "cell_type": "code",
   "execution_count": 16,
   "id": "48abeba5",
   "metadata": {},
   "outputs": [
    {
     "name": "stdout",
     "output_type": "stream",
     "text": [
      "20s: Shapiro-Wilk p-value = 1.0000\n",
      "30s: Shapiro-Wilk p-value = 0.0000\n",
      "40s: Shapiro-Wilk p-value = 0.0000\n",
      "50s: Shapiro-Wilk p-value = 0.0000\n",
      "60s: Shapiro-Wilk p-value = 0.0000\n",
      "70s: Shapiro-Wilk p-value = 0.0000\n",
      "80s: Shapiro-Wilk p-value = 0.0000\n",
      "90s: Shapiro-Wilk p-value = 0.0000\n"
     ]
    }
   ],
   "source": [
    "# Filter age groups having more than three data for Shapiro test\n",
    "\n",
    "groups_filtered = [group['num_companies_serve'].values \n",
    "                   for name, group in directorship_age_group.groupby('age_group') \n",
    "                   if len(group) >= 3]\n",
    "group_names_filtered = [name for name, group in directorship_age_group.groupby('age_group') if len(group) >= 3]\n",
    "\n",
    "# Assess normality\n",
    "\n",
    "from scipy.stats import shapiro\n",
    "\n",
    "for name, group in zip(group_names_filtered, groups_filtered):\n",
    "    stat, p = shapiro(group)\n",
    "    print(f\"{name}: Shapiro-Wilk p-value = {p:.4f}\")"
   ]
  },
  {
   "cell_type": "markdown",
   "id": "25a670ae",
   "metadata": {},
   "source": [
    "-> The number of board members aged over 100 is less than three so Shapiro test cannot be applied to assess normality. Except for the age group 20s, the other age groups do not follow a normal distribution, indicating that Kruskal-Wallis test should be applied to determine whether the differences in the number of companies across age groups are statistically significant.   "
   ]
  },
  {
   "cell_type": "markdown",
   "id": "e2645d1c",
   "metadata": {},
   "source": [
    "< Conduct Kruskal-Wallis test >"
   ]
  },
  {
   "cell_type": "code",
   "execution_count": 17,
   "id": "ba81992e",
   "metadata": {},
   "outputs": [
    {
     "name": "stdout",
     "output_type": "stream",
     "text": [
      "Kruskal-Wallis test p-value = 0.0000\n"
     ]
    }
   ],
   "source": [
    "groups_filtered = [group['num_companies_serve'].values for name, group in directorship_age_group.groupby('age_group') if len(group) >= 3]\n",
    "\n",
    "stat, p = kruskal(*groups_filtered)\n",
    "\n",
    "print(f\"Kruskal-Wallis test p-value = {p:.4f}\")"
   ]
  },
  {
   "cell_type": "markdown",
   "id": "356669d6",
   "metadata": {},
   "source": [
    "-> According to the Kruskal-Wallis test, the differences in the number of companies across age groups are statistically significant. Therefore, board members aged between 60 and 79 serve at more companies, indicating there might be more opportunities to sell the company.  "
   ]
  },
  {
   "cell_type": "markdown",
   "id": "06ae27ae",
   "metadata": {},
   "source": [
    "### 3.4. Assess association between compensation and number of companies "
   ]
  },
  {
   "cell_type": "code",
   "execution_count": 18,
   "id": "279bdf67",
   "metadata": {},
   "outputs": [
    {
     "name": "stdout",
     "output_type": "stream",
     "text": [
      "Spearman correlation: 0.267, p-value: 0.0000\n"
     ]
    }
   ],
   "source": [
    "company_counts_df = directorship_counts.reset_index()\n",
    "company_counts_df.columns = ['director_name', 'number_of_companies']\n",
    "\n",
    "merged_df = pd.merge(\n",
    "\n",
    "    compensation_and_demographics,\n",
    "    company_counts_df,\n",
    "    left_index = True,\n",
    "    right_on = 'director_name',\n",
    "    how = 'left'\n",
    "\n",
    ")\n",
    "\n",
    "subset = merged_df[['number_of_companies', 'log_compensation']].dropna()\n",
    "corr, p = spearmanr(subset['number_of_companies'], subset['log_compensation'])\n",
    "\n",
    "print(f\"Spearman correlation: {corr:.3f}, p-value: {p:.4f}\")"
   ]
  },
  {
   "cell_type": "code",
   "execution_count": 19,
   "id": "f6e94b65",
   "metadata": {},
   "outputs": [
    {
     "data": {
      "text/plain": [
       "Text(0, 0.5, 'Log Compensation')"
      ]
     },
     "execution_count": 19,
     "metadata": {},
     "output_type": "execute_result"
    },
    {
     "data": {
      "image/png": "[encoded data removed]",
      "text/plain": [
       "<Figure size 800x600 with 1 Axes>"
      ]
     },
     "metadata": {},
     "output_type": "display_data"
    }
   ],
   "source": [
    "# Visualize the correlation\n",
    "\n",
    "plt.figure(figsize = (8,6))\n",
    "\n",
    "sns.regplot(x = 'number_of_companies', y = 'log_compensation', data=subset, scatter_kws = {'alpha':0.6})\n",
    "\n",
    "plt.title('Number of Companies vs Log Compensation')\n",
    "plt.xlabel('Number of Companies')\n",
    "plt.ylabel('Log Compensation')"
   ]
  },
  {
   "cell_type": "markdown",
   "id": "d6b67c60",
   "metadata": {},
   "source": [
    "-> According to the Spearman correlation test, there is a positive correlation between compensation and number of companies. In other words, board members with high compensations tend to serve at more companies."
   ]
  },
  {
   "cell_type": "markdown",
   "id": "a8d37bf3",
   "metadata": {},
   "source": [
    "# 4. Network Analysis"
   ]
  },
  {
   "cell_type": "markdown",
   "id": "7cd35efa",
   "metadata": {},
   "source": [
    "### 4.1. Calculate network centrality"
   ]
  },
  {
   "cell_type": "markdown",
   "id": "ee5810d1",
   "metadata": {},
   "source": [
    "< Calculate each board member's three centrality measure scores >"
   ]
  },
  {
   "cell_type": "code",
   "execution_count": 20,
   "id": "b3f4201d",
   "metadata": {},
   "outputs": [],
   "source": [
    "graph = networkx.Graph()"
   ]
  },
  {
   "cell_type": "code",
   "execution_count": 21,
   "id": "a8b35447",
   "metadata": {},
   "outputs": [],
   "source": [
    "people = []\n",
    "companies = []\n",
    "\n",
    "for company_name, director_name in zip(df.company_name, df.director_name):\n",
    "    graph.add_edge(company_name, director_name)\n",
    "    people.append(director_name)\n",
    "    companies.append(company_name)"
   ]
  },
  {
   "cell_type": "code",
   "execution_count": 22,
   "id": "2264878e",
   "metadata": {},
   "outputs": [],
   "source": [
    "biggest_connected_graph = graph.subgraph(list(networkx.connected_components(graph))[0])"
   ]
  },
  {
   "cell_type": "markdown",
   "id": "5547f391",
   "metadata": {},
   "source": [
    "#### *Importance of betweenness centrality\n",
    "Betweenness centrality measure is significant in identifying potential brokers who can assist with selling the company. They are well-connected across various companies and control information on the communication pathes between other board members as a mediator. Since board members with high betweenness centrality have influence in their networks, their networks and insights are valuable for identifying potential buyers that meet the desired criteria. It may take a long time to sell a startup company without networks and information. Brokers can accelerate the sales process and save time by addressing the barriers. They know the demand for the company and its technology in their networks and they have significant influence in their networks. Therefore, looking for board members with high betweenness centrality is one of the approaches to sell the company rapidly. \n",
    "\n",
    "#### *Importance of degree centrality\n",
    "Degree centrality measure is significant in identifying individuals who have broad networks, indicating that making connections with board members with high degree centrality has benefits in spreading and attaining the latest information in the industry. However, degree centrality measure has limitations in assessing their influence and understanding their importance in their networks. \n",
    "\n",
    "#### *Importance of eigenvector centrality\n",
    "Eigenvector centrality measure is significant in identifying individuals who hold influential decision-making power. Board members with high eigenvector centrality can directly impact business decisions since they are connected with influential individuals. Therefore, making connections with these people can help accelerate the sales process and should be the most rapid way to sell the company. Accordingly, one of the most effective approaches for this project is to identify board members who exhibit high degree and eigenvector centrality. "
   ]
  },
  {
   "cell_type": "markdown",
   "id": "072bbe61",
   "metadata": {},
   "source": [
    "< Calculate centrality scores and merge the scores >"
   ]
  },
  {
   "cell_type": "code",
   "execution_count": 23,
   "id": "79f1a993",
   "metadata": {},
   "outputs": [
    {
     "name": "stdout",
     "output_type": "stream",
     "text": [
      "Execution time: 357.3696 seconds\n"
     ]
    }
   ],
   "source": [
    "start = time.time()\n",
    "\n",
    "centrality = pd.DataFrame({\n",
    "\n",
    "    'eigen': pd.Series(networkx.eigenvector_centrality(biggest_connected_graph)),\n",
    "    'degree': pd.Series(networkx.algorithms.degree_centrality(biggest_connected_graph)),\n",
    "    'betweenness': pd.Series(networkx.betweenness_centrality(biggest_connected_graph)),\n",
    "    \n",
    "})\n",
    "\n",
    "centrality['is_person'] = centrality.index.map(lambda x: x in people)\n",
    "\n",
    "end = time.time()\n",
    "\n",
    "print(f\"Execution time: {end - start:.4f} seconds\")"
   ]
  },
  {
   "cell_type": "code",
   "execution_count": 24,
   "id": "9e374096-f944-45a9-99b1-911fdeadd4c4",
   "metadata": {},
   "outputs": [
    {
     "data": {
      "text/html": [
       "<div>\n",
       "<style scoped>\n",
       "    .dataframe tbody tr th:only-of-type {\n",
       "        vertical-align: middle;\n",
       "    }\n",
       "\n",
       "    .dataframe tbody tr th {\n",
       "        vertical-align: top;\n",
       "    }\n",
       "\n",
       "    .dataframe thead th {\n",
       "        text-align: right;\n",
       "    }\n",
       "</style>\n",
       "<table border=\"1\" class=\"dataframe\">\n",
       "  <thead>\n",
       "    <tr style=\"text-align: right;\">\n",
       "      <th></th>\n",
       "      <th>name</th>\n",
       "      <th>eigen</th>\n",
       "      <th>degree</th>\n",
       "      <th>betweenness</th>\n",
       "      <th>is_person</th>\n",
       "      <th>age</th>\n",
       "      <th>compensation</th>\n",
       "      <th>gender</th>\n",
       "      <th>log_compensation</th>\n",
       "      <th>age_group</th>\n",
       "      <th>company_name</th>\n",
       "    </tr>\n",
       "  </thead>\n",
       "  <tbody>\n",
       "    <tr>\n",
       "      <th>0</th>\n",
       "      <td>CHRISTOPHER J. MURPHY III</td>\n",
       "      <td>2.653687e-20</td>\n",
       "      <td>0.000122</td>\n",
       "      <td>0.0</td>\n",
       "      <td>True</td>\n",
       "      <td>78</td>\n",
       "      <td>0</td>\n",
       "      <td>male</td>\n",
       "      <td>0.000000</td>\n",
       "      <td>70s</td>\n",
       "      <td>1ST SOURCE CORP</td>\n",
       "    </tr>\n",
       "    <tr>\n",
       "      <th>1</th>\n",
       "      <td>CHRISTOPHER J. MURPHY IV</td>\n",
       "      <td>2.653687e-20</td>\n",
       "      <td>0.000122</td>\n",
       "      <td>0.0</td>\n",
       "      <td>True</td>\n",
       "      <td>55</td>\n",
       "      <td>123120</td>\n",
       "      <td>male</td>\n",
       "      <td>5.090332</td>\n",
       "      <td>50s</td>\n",
       "      <td>1ST SOURCE CORP</td>\n",
       "    </tr>\n",
       "    <tr>\n",
       "      <th>2</th>\n",
       "      <td>DANIEL B. FITZPATRICK</td>\n",
       "      <td>2.653687e-20</td>\n",
       "      <td>0.000122</td>\n",
       "      <td>0.0</td>\n",
       "      <td>True</td>\n",
       "      <td>67</td>\n",
       "      <td>165620</td>\n",
       "      <td>male</td>\n",
       "      <td>5.219115</td>\n",
       "      <td>60s</td>\n",
       "      <td>1ST SOURCE CORP</td>\n",
       "    </tr>\n",
       "    <tr>\n",
       "      <th>3</th>\n",
       "      <td>ISAAC P. TORRES</td>\n",
       "      <td>2.653687e-20</td>\n",
       "      <td>0.000122</td>\n",
       "      <td>0.0</td>\n",
       "      <td>True</td>\n",
       "      <td>57</td>\n",
       "      <td>166620</td>\n",
       "      <td>male</td>\n",
       "      <td>5.221730</td>\n",
       "      <td>50s</td>\n",
       "      <td>1ST SOURCE CORP</td>\n",
       "    </tr>\n",
       "    <tr>\n",
       "      <th>4</th>\n",
       "      <td>JOHN F. AFFLECK-GRAVES</td>\n",
       "      <td>2.653687e-20</td>\n",
       "      <td>0.000122</td>\n",
       "      <td>0.0</td>\n",
       "      <td>True</td>\n",
       "      <td>74</td>\n",
       "      <td>127620</td>\n",
       "      <td>male</td>\n",
       "      <td>5.105922</td>\n",
       "      <td>70s</td>\n",
       "      <td>1ST SOURCE CORP</td>\n",
       "    </tr>\n",
       "  </tbody>\n",
       "</table>\n",
       "</div>"
      ],
      "text/plain": [
       "                        name         eigen    degree  betweenness  is_person  \\\n",
       "0  CHRISTOPHER J. MURPHY III  2.653687e-20  0.000122          0.0       True   \n",
       "1   CHRISTOPHER J. MURPHY IV  2.653687e-20  0.000122          0.0       True   \n",
       "2      DANIEL B. FITZPATRICK  2.653687e-20  0.000122          0.0       True   \n",
       "3            ISAAC P. TORRES  2.653687e-20  0.000122          0.0       True   \n",
       "4     JOHN F. AFFLECK-GRAVES  2.653687e-20  0.000122          0.0       True   \n",
       "\n",
       "   age  compensation gender  log_compensation age_group     company_name  \n",
       "0   78             0   male          0.000000       70s  1ST SOURCE CORP  \n",
       "1   55        123120   male          5.090332       50s  1ST SOURCE CORP  \n",
       "2   67        165620   male          5.219115       60s  1ST SOURCE CORP  \n",
       "3   57        166620   male          5.221730       50s  1ST SOURCE CORP  \n",
       "4   74        127620   male          5.105922       70s  1ST SOURCE CORP  "
      ]
     },
     "execution_count": 24,
     "metadata": {},
     "output_type": "execute_result"
    }
   ],
   "source": [
    "people_df = centrality[centrality.is_person].merge(compensation_and_demographics, left_index = True, right_index = True)\n",
    "\n",
    "people_df = people_df.reset_index()\n",
    "\n",
    "people_df = people_df.rename(columns = {'index': 'name'})\n",
    "\n",
    "people_df = people_df.merge(df[['director_name', 'company_name']], \n",
    "                            left_on = 'name', \n",
    "                            right_on = 'director_name', \n",
    "                            how = 'left')\n",
    "\n",
    "people_df = people_df.drop(columns = ['director_name'])\n",
    "\n",
    "people_df.head()"
   ]
  },
  {
   "cell_type": "markdown",
   "id": "f54b115d",
   "metadata": {},
   "source": [
    "-> The result shows each board member's three centrality scores. "
   ]
  },
  {
   "cell_type": "markdown",
   "id": "9bd9ecfa",
   "metadata": {},
   "source": [
    "### 4.2. Identify key board members based on centrality measures"
   ]
  },
  {
   "cell_type": "markdown",
   "id": "b769e2f4",
   "metadata": {},
   "source": [
    "< Identify the top 20 board members having high eigenventor and degree centrality >"
   ]
  },
  {
   "cell_type": "code",
   "execution_count": 25,
   "id": "f391203d",
   "metadata": {},
   "outputs": [
    {
     "data": {
      "text/html": [
       "<div>\n",
       "<style scoped>\n",
       "    .dataframe tbody tr th:only-of-type {\n",
       "        vertical-align: middle;\n",
       "    }\n",
       "\n",
       "    .dataframe tbody tr th {\n",
       "        vertical-align: top;\n",
       "    }\n",
       "\n",
       "    .dataframe thead th {\n",
       "        text-align: right;\n",
       "    }\n",
       "</style>\n",
       "<table border=\"1\" class=\"dataframe\">\n",
       "  <thead>\n",
       "    <tr style=\"text-align: right;\">\n",
       "      <th></th>\n",
       "      <th>name</th>\n",
       "      <th>eigen</th>\n",
       "      <th>degree</th>\n",
       "      <th>age</th>\n",
       "      <th>log_compensation</th>\n",
       "      <th>company_name</th>\n",
       "    </tr>\n",
       "  </thead>\n",
       "  <tbody>\n",
       "    <tr>\n",
       "      <th>2519</th>\n",
       "      <td>BETH ANN BROWN</td>\n",
       "      <td>1.024389e-01</td>\n",
       "      <td>0.001585</td>\n",
       "      <td>56</td>\n",
       "      <td>6.803717</td>\n",
       "      <td>Invesco Advantage Municipal Income Trust II</td>\n",
       "    </tr>\n",
       "    <tr>\n",
       "      <th>2985</th>\n",
       "      <td>STEVEN L. PACKEBUSH</td>\n",
       "      <td>3.256530e-07</td>\n",
       "      <td>0.000244</td>\n",
       "      <td>59</td>\n",
       "      <td>5.565864</td>\n",
       "      <td>LSB INDUSTRIES, INC.</td>\n",
       "    </tr>\n",
       "    <tr>\n",
       "      <th>81</th>\n",
       "      <td>MARRAN H. OGILVIE</td>\n",
       "      <td>3.250755e-07</td>\n",
       "      <td>0.000244</td>\n",
       "      <td>55</td>\n",
       "      <td>5.368631</td>\n",
       "      <td>Accelerate Diagnostics, Inc</td>\n",
       "    </tr>\n",
       "    <tr>\n",
       "      <th>2001</th>\n",
       "      <td>MICHAEL J. HAPPE</td>\n",
       "      <td>3.210636e-07</td>\n",
       "      <td>0.000244</td>\n",
       "      <td>53</td>\n",
       "      <td>5.397942</td>\n",
       "      <td>FULLER H B CO</td>\n",
       "    </tr>\n",
       "    <tr>\n",
       "      <th>338</th>\n",
       "      <td>ROBERT E. ROBOTTI</td>\n",
       "      <td>1.148967e-09</td>\n",
       "      <td>0.000366</td>\n",
       "      <td>71</td>\n",
       "      <td>5.474181</td>\n",
       "      <td>AMREP CORP.</td>\n",
       "    </tr>\n",
       "    <tr>\n",
       "      <th>1749</th>\n",
       "      <td>LEE M. CANAAN</td>\n",
       "      <td>1.147030e-09</td>\n",
       "      <td>0.000244</td>\n",
       "      <td>67</td>\n",
       "      <td>5.739419</td>\n",
       "      <td>EQT Corp</td>\n",
       "    </tr>\n",
       "    <tr>\n",
       "      <th>3496</th>\n",
       "      <td>JOHN H. PINKERTON</td>\n",
       "      <td>1.146951e-09</td>\n",
       "      <td>0.000244</td>\n",
       "      <td>70</td>\n",
       "      <td>5.277742</td>\n",
       "      <td>PHX MINERALS INC.</td>\n",
       "    </tr>\n",
       "    <tr>\n",
       "      <th>1182</th>\n",
       "      <td>M. JAY ALLISON</td>\n",
       "      <td>2.030343e-12</td>\n",
       "      <td>0.000244</td>\n",
       "      <td>68</td>\n",
       "      <td>6.996343</td>\n",
       "      <td>COMSTOCK RESOURCES INC</td>\n",
       "    </tr>\n",
       "    <tr>\n",
       "      <th>4117</th>\n",
       "      <td>DICK FAGERSTAL</td>\n",
       "      <td>2.026920e-12</td>\n",
       "      <td>0.000244</td>\n",
       "      <td>63</td>\n",
       "      <td>5.507734</td>\n",
       "      <td>TIDEWATER INC</td>\n",
       "    </tr>\n",
       "    <tr>\n",
       "      <th>2130</th>\n",
       "      <td>MARK W. SHEAHAN</td>\n",
       "      <td>1.919811e-12</td>\n",
       "      <td>0.000244</td>\n",
       "      <td>61</td>\n",
       "      <td>6.931258</td>\n",
       "      <td>GRACO INC</td>\n",
       "    </tr>\n",
       "    <tr>\n",
       "      <th>2477</th>\n",
       "      <td>ANDREW K. SILVERNAIL</td>\n",
       "      <td>9.803617e-13</td>\n",
       "      <td>0.000244</td>\n",
       "      <td>54</td>\n",
       "      <td>7.324205</td>\n",
       "      <td>INTERNATIONAL PAPER CO /NEW/</td>\n",
       "    </tr>\n",
       "    <tr>\n",
       "      <th>3429</th>\n",
       "      <td>KEVIN A. LOBO</td>\n",
       "      <td>9.803616e-13</td>\n",
       "      <td>0.000244</td>\n",
       "      <td>59</td>\n",
       "      <td>5.534092</td>\n",
       "      <td>Parker-Hannifin Corp</td>\n",
       "    </tr>\n",
       "    <tr>\n",
       "      <th>771</th>\n",
       "      <td>GIOVANNI CAFORIO, M.D.</td>\n",
       "      <td>9.803350e-13</td>\n",
       "      <td>0.000244</td>\n",
       "      <td>60</td>\n",
       "      <td>5.842350</td>\n",
       "      <td>BRISTOL MYERS SQUIBB CO</td>\n",
       "    </tr>\n",
       "    <tr>\n",
       "      <th>901</th>\n",
       "      <td>SHERI H. EDISON</td>\n",
       "      <td>9.801907e-13</td>\n",
       "      <td>0.000244</td>\n",
       "      <td>68</td>\n",
       "      <td>5.547510</td>\n",
       "      <td>CARDINAL HEALTH INC</td>\n",
       "    </tr>\n",
       "    <tr>\n",
       "      <th>731</th>\n",
       "      <td>AKHIL JOHRI</td>\n",
       "      <td>9.785471e-13</td>\n",
       "      <td>0.000244</td>\n",
       "      <td>63</td>\n",
       "      <td>5.588195</td>\n",
       "      <td>BOEING CO</td>\n",
       "    </tr>\n",
       "    <tr>\n",
       "      <th>2753</th>\n",
       "      <td>DONALD R. PARFET</td>\n",
       "      <td>9.750886e-13</td>\n",
       "      <td>0.000244</td>\n",
       "      <td>71</td>\n",
       "      <td>5.732436</td>\n",
       "      <td>KELLY SERVICES INC</td>\n",
       "    </tr>\n",
       "    <tr>\n",
       "      <th>2889</th>\n",
       "      <td>JAI SHAH</td>\n",
       "      <td>9.750715e-13</td>\n",
       "      <td>0.000244</td>\n",
       "      <td>58</td>\n",
       "      <td>5.527385</td>\n",
       "      <td>LEGGETT &amp; PLATT INC</td>\n",
       "    </tr>\n",
       "    <tr>\n",
       "      <th>1552</th>\n",
       "      <td>JOHN P. WIEHOFF</td>\n",
       "      <td>9.599169e-13</td>\n",
       "      <td>0.000366</td>\n",
       "      <td>63</td>\n",
       "      <td>5.775937</td>\n",
       "      <td>DONALDSON Co INC</td>\n",
       "    </tr>\n",
       "    <tr>\n",
       "      <th>363</th>\n",
       "      <td>JEFFREY C. CAMPBELL</td>\n",
       "      <td>9.583449e-13</td>\n",
       "      <td>0.000244</td>\n",
       "      <td>64</td>\n",
       "      <td>5.860222</td>\n",
       "      <td>Aon plc</td>\n",
       "    </tr>\n",
       "    <tr>\n",
       "      <th>1432</th>\n",
       "      <td>DMITRI L. STOCKTON</td>\n",
       "      <td>6.791593e-15</td>\n",
       "      <td>0.000488</td>\n",
       "      <td>60</td>\n",
       "      <td>6.000030</td>\n",
       "      <td>DEERE &amp; CO</td>\n",
       "    </tr>\n",
       "  </tbody>\n",
       "</table>\n",
       "</div>"
      ],
      "text/plain": [
       "                        name         eigen    degree  age  log_compensation  \\\n",
       "2519          BETH ANN BROWN  1.024389e-01  0.001585   56          6.803717   \n",
       "2985     STEVEN L. PACKEBUSH  3.256530e-07  0.000244   59          5.565864   \n",
       "81         MARRAN H. OGILVIE  3.250755e-07  0.000244   55          5.368631   \n",
       "2001        MICHAEL J. HAPPE  3.210636e-07  0.000244   53          5.397942   \n",
       "338        ROBERT E. ROBOTTI  1.148967e-09  0.000366   71          5.474181   \n",
       "1749           LEE M. CANAAN  1.147030e-09  0.000244   67          5.739419   \n",
       "3496       JOHN H. PINKERTON  1.146951e-09  0.000244   70          5.277742   \n",
       "1182          M. JAY ALLISON  2.030343e-12  0.000244   68          6.996343   \n",
       "4117          DICK FAGERSTAL  2.026920e-12  0.000244   63          5.507734   \n",
       "2130         MARK W. SHEAHAN  1.919811e-12  0.000244   61          6.931258   \n",
       "2477    ANDREW K. SILVERNAIL  9.803617e-13  0.000244   54          7.324205   \n",
       "3429           KEVIN A. LOBO  9.803616e-13  0.000244   59          5.534092   \n",
       "771   GIOVANNI CAFORIO, M.D.  9.803350e-13  0.000244   60          5.842350   \n",
       "901          SHERI H. EDISON  9.801907e-13  0.000244   68          5.547510   \n",
       "731              AKHIL JOHRI  9.785471e-13  0.000244   63          5.588195   \n",
       "2753        DONALD R. PARFET  9.750886e-13  0.000244   71          5.732436   \n",
       "2889                JAI SHAH  9.750715e-13  0.000244   58          5.527385   \n",
       "1552         JOHN P. WIEHOFF  9.599169e-13  0.000366   63          5.775937   \n",
       "363      JEFFREY C. CAMPBELL  9.583449e-13  0.000244   64          5.860222   \n",
       "1432      DMITRI L. STOCKTON  6.791593e-15  0.000488   60          6.000030   \n",
       "\n",
       "                                     company_name  \n",
       "2519  Invesco Advantage Municipal Income Trust II  \n",
       "2985                         LSB INDUSTRIES, INC.  \n",
       "81                    Accelerate Diagnostics, Inc  \n",
       "2001                                FULLER H B CO  \n",
       "338                                   AMREP CORP.  \n",
       "1749                                     EQT Corp  \n",
       "3496                            PHX MINERALS INC.  \n",
       "1182                       COMSTOCK RESOURCES INC  \n",
       "4117                                TIDEWATER INC  \n",
       "2130                                    GRACO INC  \n",
       "2477                 INTERNATIONAL PAPER CO /NEW/  \n",
       "3429                         Parker-Hannifin Corp  \n",
       "771                       BRISTOL MYERS SQUIBB CO  \n",
       "901                           CARDINAL HEALTH INC  \n",
       "731                                     BOEING CO  \n",
       "2753                           KELLY SERVICES INC  \n",
       "2889                          LEGGETT & PLATT INC  \n",
       "1552                             DONALDSON Co INC  \n",
       "363                                       Aon plc  \n",
       "1432                                   DEERE & CO  "
      ]
     },
     "execution_count": 25,
     "metadata": {},
     "output_type": "execute_result"
    }
   ],
   "source": [
    "# Filter top 20% of board members based on eigenvector centrality and degree centrality\n",
    "\n",
    "eigen_threshold = people_df['eigen'].quantile(0.8)\n",
    "degree_threshold = people_df['degree'].quantile(0.8)\n",
    "\n",
    "top_people = people_df[\n",
    "    (people_df['eigen'] >= eigen_threshold) & \n",
    "    (people_df['degree'] >= degree_threshold)\n",
    "]\n",
    "\n",
    "# Remove duplicate board members\n",
    "# A board member can serve at multiple companies, so drop duplicate board members to keep only one occurrence of each board member\n",
    "\n",
    "top_people_unique = top_people.drop_duplicates(subset = 'name')\n",
    "\n",
    "top_people_unique = top_people_unique.dropna(subset=['log_compensation'])\n",
    "\n",
    "# For each company, retain the board member with the highest compensation\n",
    "# If multiple board members belong to the same company, keep the one with the highest log compensation\n",
    "\n",
    "top_people_unique_companies = top_people_unique.loc[\n",
    "    top_people_unique.groupby('company_name')['log_compensation'].idxmax()\n",
    "]\n",
    "\n",
    "# Sort board members based on the three centrality measures\n",
    "\n",
    "top20 = top_people_unique_companies.sort_values(by = ['eigen', 'degree', 'betweenness'], ascending = False).head(20)\n",
    "\n",
    "top20_result = top20[['name', 'eigen', 'degree', 'age', 'log_compensation', 'company_name']]\n",
    "\n",
    "top20_result\n"
   ]
  },
  {
   "cell_type": "markdown",
   "id": "2f68f2da",
   "metadata": {},
   "source": [
    "-> The result shows key board members to contact for making connections with potential buyers. They have broad networks and significant impact on decision-makings. More contact options were ensured by removing duplicate names and selecting only one member with the highest compensation from each company. Compensation was chosen as the selection criterion because it has been found that compensation has a positive association with the number of companies a member is involved with."
   ]
  },
  {
   "cell_type": "markdown",
   "id": "08b42a1e",
   "metadata": {},
   "source": [
    "< Identify the top 20 board members having high betweenness centrality >"
   ]
  },
  {
   "cell_type": "code",
   "execution_count": 26,
   "id": "664611df",
   "metadata": {},
   "outputs": [
    {
     "data": {
      "text/html": [
       "<div>\n",
       "<style scoped>\n",
       "    .dataframe tbody tr th:only-of-type {\n",
       "        vertical-align: middle;\n",
       "    }\n",
       "\n",
       "    .dataframe tbody tr th {\n",
       "        vertical-align: top;\n",
       "    }\n",
       "\n",
       "    .dataframe thead th {\n",
       "        text-align: right;\n",
       "    }\n",
       "</style>\n",
       "<table border=\"1\" class=\"dataframe\">\n",
       "  <thead>\n",
       "    <tr style=\"text-align: right;\">\n",
       "      <th></th>\n",
       "      <th>name</th>\n",
       "      <th>betweenness</th>\n",
       "      <th>age</th>\n",
       "      <th>log_compensation</th>\n",
       "      <th>company_name</th>\n",
       "    </tr>\n",
       "  </thead>\n",
       "  <tbody>\n",
       "    <tr>\n",
       "      <th>2871</th>\n",
       "      <td>KERRII B. ANDERSON</td>\n",
       "      <td>0.030179</td>\n",
       "      <td>66</td>\n",
       "      <td>5.743909</td>\n",
       "      <td>LANCASTER COLONY CORP</td>\n",
       "    </tr>\n",
       "    <tr>\n",
       "      <th>2076</th>\n",
       "      <td>PAUL D. DONAHUE</td>\n",
       "      <td>0.028527</td>\n",
       "      <td>68</td>\n",
       "      <td>6.916454</td>\n",
       "      <td>GENUINE PARTS CO</td>\n",
       "    </tr>\n",
       "    <tr>\n",
       "      <th>1685</th>\n",
       "      <td>MARK A. BLINN</td>\n",
       "      <td>0.026345</td>\n",
       "      <td>63</td>\n",
       "      <td>5.774499</td>\n",
       "      <td>EMERSON ELECTRIC CO</td>\n",
       "    </tr>\n",
       "    <tr>\n",
       "      <th>2001</th>\n",
       "      <td>MICHAEL J. HAPPE</td>\n",
       "      <td>0.025681</td>\n",
       "      <td>53</td>\n",
       "      <td>5.397942</td>\n",
       "      <td>FULLER H B CO</td>\n",
       "    </tr>\n",
       "    <tr>\n",
       "      <th>1079</th>\n",
       "      <td>ALEXIS M. HERMAN</td>\n",
       "      <td>0.025558</td>\n",
       "      <td>74</td>\n",
       "      <td>5.823533</td>\n",
       "      <td>COCA COLA CO</td>\n",
       "    </tr>\n",
       "    <tr>\n",
       "      <th>1276</th>\n",
       "      <td>DONNA W. HYLAND</td>\n",
       "      <td>0.022467</td>\n",
       "      <td>64</td>\n",
       "      <td>5.736612</td>\n",
       "      <td>COUSINS PROPERTIES INC</td>\n",
       "    </tr>\n",
       "    <tr>\n",
       "      <th>516</th>\n",
       "      <td>LINNIE M. HAYNESWORTH</td>\n",
       "      <td>0.021011</td>\n",
       "      <td>67</td>\n",
       "      <td>6.012356</td>\n",
       "      <td>AUTOMATIC DATA PROCESSING INC</td>\n",
       "    </tr>\n",
       "    <tr>\n",
       "      <th>822</th>\n",
       "      <td>J. STEVEN WHISLER</td>\n",
       "      <td>0.020681</td>\n",
       "      <td>70</td>\n",
       "      <td>5.856627</td>\n",
       "      <td>BRUNSWICK CORP</td>\n",
       "    </tr>\n",
       "    <tr>\n",
       "      <th>187</th>\n",
       "      <td>ALEXIS P. MICHAS</td>\n",
       "      <td>0.019988</td>\n",
       "      <td>67</td>\n",
       "      <td>5.758138</td>\n",
       "      <td>ALLIENT INC</td>\n",
       "    </tr>\n",
       "    <tr>\n",
       "      <th>1807</th>\n",
       "      <td>MICHAEL H. KEOWN</td>\n",
       "      <td>0.019078</td>\n",
       "      <td>62</td>\n",
       "      <td>5.327373</td>\n",
       "      <td>FARMER BROTHERS CO</td>\n",
       "    </tr>\n",
       "    <tr>\n",
       "      <th>3044</th>\n",
       "      <td>ALVARO GARCIA-TUNON</td>\n",
       "      <td>0.018649</td>\n",
       "      <td>71</td>\n",
       "      <td>5.544069</td>\n",
       "      <td>MATTHEWS INTERNATIONAL CORP</td>\n",
       "    </tr>\n",
       "    <tr>\n",
       "      <th>3026</th>\n",
       "      <td>BRADLEY D. TILDEN</td>\n",
       "      <td>0.018643</td>\n",
       "      <td>63</td>\n",
       "      <td>5.644788</td>\n",
       "      <td>Matson, Inc.</td>\n",
       "    </tr>\n",
       "    <tr>\n",
       "      <th>4117</th>\n",
       "      <td>DICK FAGERSTAL</td>\n",
       "      <td>0.018235</td>\n",
       "      <td>63</td>\n",
       "      <td>5.507734</td>\n",
       "      <td>TIDEWATER INC</td>\n",
       "    </tr>\n",
       "    <tr>\n",
       "      <th>1105</th>\n",
       "      <td>SHARON A. DECKER</td>\n",
       "      <td>0.018121</td>\n",
       "      <td>68</td>\n",
       "      <td>5.505355</td>\n",
       "      <td>Coca-Cola Consolidated, Inc.</td>\n",
       "    </tr>\n",
       "    <tr>\n",
       "      <th>2111</th>\n",
       "      <td>THOMAS L. WILLIAMS</td>\n",
       "      <td>0.018034</td>\n",
       "      <td>65</td>\n",
       "      <td>5.415799</td>\n",
       "      <td>GOODYEAR TIRE &amp; RUBBER CO /OH/</td>\n",
       "    </tr>\n",
       "    <tr>\n",
       "      <th>838</th>\n",
       "      <td>CHARLES L. SZEWS</td>\n",
       "      <td>0.017995</td>\n",
       "      <td>68</td>\n",
       "      <td>5.773050</td>\n",
       "      <td>CACI INTERNATIONAL INC /DE/</td>\n",
       "    </tr>\n",
       "    <tr>\n",
       "      <th>788</th>\n",
       "      <td>LAWRENCE L. GELLERSTEDT III</td>\n",
       "      <td>0.017642</td>\n",
       "      <td>68</td>\n",
       "      <td>5.380092</td>\n",
       "      <td>BROWN &amp; BROWN, INC.</td>\n",
       "    </tr>\n",
       "    <tr>\n",
       "      <th>2348</th>\n",
       "      <td>EDWARD A. KANGAS</td>\n",
       "      <td>0.017018</td>\n",
       "      <td>80</td>\n",
       "      <td>5.609578</td>\n",
       "      <td>HOVNANIAN ENTERPRISES INC</td>\n",
       "    </tr>\n",
       "    <tr>\n",
       "      <th>499</th>\n",
       "      <td>MITCHELL I. QUAIN</td>\n",
       "      <td>0.016948</td>\n",
       "      <td>72</td>\n",
       "      <td>5.127050</td>\n",
       "      <td>AstroNova, Inc.</td>\n",
       "    </tr>\n",
       "    <tr>\n",
       "      <th>1041</th>\n",
       "      <td>MARTIN MUCCI</td>\n",
       "      <td>0.016878</td>\n",
       "      <td>64</td>\n",
       "      <td>5.997455</td>\n",
       "      <td>CINTAS CORP</td>\n",
       "    </tr>\n",
       "  </tbody>\n",
       "</table>\n",
       "</div>"
      ],
      "text/plain": [
       "                             name  betweenness  age  log_compensation  \\\n",
       "2871           KERRII B. ANDERSON     0.030179   66          5.743909   \n",
       "2076              PAUL D. DONAHUE     0.028527   68          6.916454   \n",
       "1685                MARK A. BLINN     0.026345   63          5.774499   \n",
       "2001             MICHAEL J. HAPPE     0.025681   53          5.397942   \n",
       "1079             ALEXIS M. HERMAN     0.025558   74          5.823533   \n",
       "1276              DONNA W. HYLAND     0.022467   64          5.736612   \n",
       "516         LINNIE M. HAYNESWORTH     0.021011   67          6.012356   \n",
       "822             J. STEVEN WHISLER     0.020681   70          5.856627   \n",
       "187              ALEXIS P. MICHAS     0.019988   67          5.758138   \n",
       "1807             MICHAEL H. KEOWN     0.019078   62          5.327373   \n",
       "3044          ALVARO GARCIA-TUNON     0.018649   71          5.544069   \n",
       "3026            BRADLEY D. TILDEN     0.018643   63          5.644788   \n",
       "4117               DICK FAGERSTAL     0.018235   63          5.507734   \n",
       "1105             SHARON A. DECKER     0.018121   68          5.505355   \n",
       "2111           THOMAS L. WILLIAMS     0.018034   65          5.415799   \n",
       "838              CHARLES L. SZEWS     0.017995   68          5.773050   \n",
       "788   LAWRENCE L. GELLERSTEDT III     0.017642   68          5.380092   \n",
       "2348             EDWARD A. KANGAS     0.017018   80          5.609578   \n",
       "499             MITCHELL I. QUAIN     0.016948   72          5.127050   \n",
       "1041                 MARTIN MUCCI     0.016878   64          5.997455   \n",
       "\n",
       "                        company_name  \n",
       "2871           LANCASTER COLONY CORP  \n",
       "2076                GENUINE PARTS CO  \n",
       "1685             EMERSON ELECTRIC CO  \n",
       "2001                   FULLER H B CO  \n",
       "1079                    COCA COLA CO  \n",
       "1276          COUSINS PROPERTIES INC  \n",
       "516    AUTOMATIC DATA PROCESSING INC  \n",
       "822                   BRUNSWICK CORP  \n",
       "187                      ALLIENT INC  \n",
       "1807              FARMER BROTHERS CO  \n",
       "3044     MATTHEWS INTERNATIONAL CORP  \n",
       "3026                    Matson, Inc.  \n",
       "4117                   TIDEWATER INC  \n",
       "1105    Coca-Cola Consolidated, Inc.  \n",
       "2111  GOODYEAR TIRE & RUBBER CO /OH/  \n",
       "838      CACI INTERNATIONAL INC /DE/  \n",
       "788              BROWN & BROWN, INC.  \n",
       "2348       HOVNANIAN ENTERPRISES INC  \n",
       "499                  AstroNova, Inc.  \n",
       "1041                     CINTAS CORP  "
      ]
     },
     "execution_count": 26,
     "metadata": {},
     "output_type": "execute_result"
    }
   ],
   "source": [
    "# Filter top 20% of board members based on betweenness centrality \n",
    "\n",
    "betweenness_threshold = people_df['betweenness'].quantile(0.8)\n",
    "\n",
    "top_people = people_df[\n",
    "    (people_df['betweenness'] >= betweenness_threshold)\n",
    "]\n",
    "\n",
    "# Remove duplicate board members based on person name\n",
    "# A board member can serve at multiple companies, so drop duplicate board members to keep only one occurrence of each board member\n",
    "\n",
    "top_people_unique = top_people.drop_duplicates(subset = 'name')\n",
    "\n",
    "top_people_unique = top_people_unique.dropna(subset=['log_compensation'])\n",
    "\n",
    "# For each company, retain the board member with the highest compensation\n",
    "# If multiple board members belong to the same company, keep the one with the highest log compensation\n",
    "\n",
    "top_people_unique_companies = top_people_unique.loc[\n",
    "    top_people_unique.groupby('company_name')['log_compensation'].idxmax()\n",
    "]\n",
    "\n",
    "# Sort board members based on betweenness centrality measures\n",
    "\n",
    "top20 = top_people_unique_companies.sort_values(by = ['betweenness'], ascending = False).head(20)\n",
    "\n",
    "top20_result = top20[['name', 'betweenness', 'age', 'log_compensation', 'company_name']]\n",
    "\n",
    "top20_result\n"
   ]
  },
  {
   "cell_type": "markdown",
   "id": "d93be862",
   "metadata": {},
   "source": [
    "-> The result shows board members who can play as brokers. They may offer various options to sell the company depending on situations. More contact options were ensured by removing duplicate names and selecting only one member with the highest compensation from each company. Compensation was chosen as the selection criterion because it has been found that compensation has a positive association with the number of companies a member is involved with. "
   ]
  },
  {
   "cell_type": "markdown",
   "id": "0fd8f669",
   "metadata": {},
   "source": [
    "### 4.3. Assess centrality difference by gender"
   ]
  },
  {
   "cell_type": "markdown",
   "id": "8faeb1f5",
   "metadata": {},
   "source": [
    "< Assess normality of the centrality scores by gender >"
   ]
  },
  {
   "cell_type": "code",
   "execution_count": 27,
   "id": "580d4df3",
   "metadata": {},
   "outputs": [
    {
     "name": "stdout",
     "output_type": "stream",
     "text": [
      "\n",
      "--- MALE ---\n",
      "EIGEN -> no normality ❌ (p = 0.0000)\n",
      "DEGREE -> no normality ❌ (p = 0.0000)\n",
      "BETWEENNESS -> no normality ❌ (p = 0.0000)\n",
      "\n",
      "--- FEMALE ---\n",
      "EIGEN -> no normality ❌ (p = 0.0000)\n",
      "DEGREE -> no normality ❌ (p = 0.0000)\n",
      "BETWEENNESS -> no normality ❌ (p = 0.0000)\n"
     ]
    }
   ],
   "source": [
    "for gender in ['male', 'female']:\n",
    "\n",
    "    subset = people_df[people_df['gender'] == gender]\n",
    "\n",
    "    print(f\"\\n--- {gender.upper()} ---\")\n",
    "    \n",
    "    for metric in ['eigen', 'degree', 'betweenness']:\n",
    "        stat, p = shapiro(subset[metric])\n",
    "        result = \"normality ✅\" if p > 0.05 else \"no normality ❌\"\n",
    "        print(f\"{metric.upper()} -> {result} (p = {p:.4f})\")\n"
   ]
  },
  {
   "cell_type": "markdown",
   "id": "a0d9441a",
   "metadata": {},
   "source": [
    "-> According to the Shapiro test results, the scores of three centrality measures do not follow a normal distribution, suggesting the application of Mann-Whitney U Test. "
   ]
  },
  {
   "cell_type": "markdown",
   "id": "0e0323ef",
   "metadata": {},
   "source": [
    "< Assess centrality difference by gender >"
   ]
  },
  {
   "cell_type": "code",
   "execution_count": 28,
   "id": "33677a93",
   "metadata": {},
   "outputs": [
    {
     "data": {
      "text/html": [
       "<div>\n",
       "<style scoped>\n",
       "    .dataframe tbody tr th:only-of-type {\n",
       "        vertical-align: middle;\n",
       "    }\n",
       "\n",
       "    .dataframe tbody tr th {\n",
       "        vertical-align: top;\n",
       "    }\n",
       "\n",
       "    .dataframe thead tr th {\n",
       "        text-align: left;\n",
       "    }\n",
       "\n",
       "    .dataframe thead tr:last-of-type th {\n",
       "        text-align: right;\n",
       "    }\n",
       "</style>\n",
       "<table border=\"1\" class=\"dataframe\">\n",
       "  <thead>\n",
       "    <tr>\n",
       "      <th></th>\n",
       "      <th>eigen</th>\n",
       "      <th>degree</th>\n",
       "      <th>betweenness</th>\n",
       "    </tr>\n",
       "    <tr>\n",
       "      <th></th>\n",
       "      <th>median</th>\n",
       "      <th>median</th>\n",
       "      <th>median</th>\n",
       "    </tr>\n",
       "    <tr>\n",
       "      <th>gender</th>\n",
       "      <th></th>\n",
       "      <th></th>\n",
       "      <th></th>\n",
       "    </tr>\n",
       "  </thead>\n",
       "  <tbody>\n",
       "    <tr>\n",
       "      <th>female</th>\n",
       "      <td>1.122816e-19</td>\n",
       "      <td>0.000122</td>\n",
       "      <td>0.0</td>\n",
       "    </tr>\n",
       "    <tr>\n",
       "      <th>male</th>\n",
       "      <td>6.349403e-20</td>\n",
       "      <td>0.000122</td>\n",
       "      <td>0.0</td>\n",
       "    </tr>\n",
       "  </tbody>\n",
       "</table>\n",
       "</div>"
      ],
      "text/plain": [
       "               eigen    degree betweenness\n",
       "              median    median      median\n",
       "gender                                    \n",
       "female  1.122816e-19  0.000122         0.0\n",
       "male    6.349403e-20  0.000122         0.0"
      ]
     },
     "execution_count": 28,
     "metadata": {},
     "output_type": "execute_result"
    }
   ],
   "source": [
    "summary = people_df.groupby('gender')[['eigen', 'degree', 'betweenness']].agg(['median'])\n",
    "summary"
   ]
  },
  {
   "cell_type": "code",
   "execution_count": 29,
   "id": "8001b7ae",
   "metadata": {},
   "outputs": [
    {
     "data": {
      "image/png": "[encoded data removed]",
      "text/plain": [
       "<Figure size 600x400 with 1 Axes>"
      ]
     },
     "metadata": {},
     "output_type": "display_data"
    }
   ],
   "source": [
    "# Visualize the scores\n",
    "\n",
    "data = {\n",
    "    'gender': ['female', 'male'],\n",
    "    'eigen_median': [1.122816e-19, 6.349403e-20]\n",
    "}\n",
    "\n",
    "df = pd.DataFrame(data)\n",
    "\n",
    "plt.figure(figsize=(6, 4))\n",
    "sns.barplot(data=df, x='gender', y='eigen_median', palette='Set2')\n",
    "\n",
    "plt.title('Median Eigen Centrality by Gender')\n",
    "plt.ylabel('Eigen Centrality (median)')\n",
    "plt.xlabel('Gender')\n",
    "plt.tight_layout()\n",
    "plt.show()"
   ]
  },
  {
   "cell_type": "markdown",
   "id": "7273e6a3",
   "metadata": {},
   "source": [
    "-> While the median scores of degree centrality are equal and the median scores of the betweenness centrality are zero, the median eigenvector centrality score for females is higher than that for the males. Mann-Whitney U test was conducted to determine whether the difference is statistically significant.  "
   ]
  },
  {
   "cell_type": "code",
   "execution_count": 30,
   "id": "e950eb97",
   "metadata": {},
   "outputs": [
    {
     "name": "stdout",
     "output_type": "stream",
     "text": [
      "EIGEN: statistically significant ✅ (p = 0.0034)\n",
      "DEGREE: statistically not significant ❌ (p = 0.1082)\n",
      "BETWEENNESS: statistically significant ✅ (p = 0.0061)\n"
     ]
    }
   ],
   "source": [
    "male = people_df[people_df['gender'] == 'male']\n",
    "female = people_df[people_df['gender'] == 'female']\n",
    "\n",
    "for metric in ['eigen', 'degree', 'betweenness']:\n",
    "    stat, p = mannwhitneyu(male[metric], female[metric], alternative='two-sided')\n",
    "    result = \"statistically significant ✅\" if p < 0.05 else \"statistically not significant ❌\"\n",
    "    print(f\"{metric.upper()}: {result} (p = {p:.4f})\")\n"
   ]
  },
  {
   "cell_type": "markdown",
   "id": "af7e4831",
   "metadata": {},
   "source": [
    "-> According to the Mann-Whitney U test result, the difference in eigenvector centrality score is statistically significant. This indicates that female board members have more direct connections with influential individuals than male board members."
   ]
  },
  {
   "cell_type": "markdown",
   "id": "ba0dfe63",
   "metadata": {},
   "source": [
    "# 5. Connectable Companies"
   ]
  },
  {
   "cell_type": "markdown",
   "id": "7a453dfc",
   "metadata": {},
   "source": [
    "< Identify key board members to make connections with acquired companies (M&A) >"
   ]
  },
  {
   "cell_type": "code",
   "execution_count": 31,
   "id": "f1594f5e",
   "metadata": {},
   "outputs": [
    {
     "name": "stdout",
     "output_type": "stream",
     "text": [
      "Members in the dataset of people_df:\n",
      "['arun sarin', 'donald e. graham', 'patricia f. russo', 'roderick c. mcgeary', 'ronald d. sugar', 'mercedes johnson', 'dina dublon', 'clarence otis jr.', 'shantanu narayen', 'suzanne m. vautrinot', 'andrea jung', 'david m. thomas']\n"
     ]
    }
   ],
   "source": [
    "# Identify board member names in both datasets of df_acquiring and people_df\n",
    "\n",
    "# Preprocess name \n",
    "\n",
    "def preprocess_name(name):\n",
    "\n",
    "    if pd.isna(name):\n",
    "\n",
    "        return None\n",
    "    \n",
    "    name = name.lower().strip()\n",
    "\n",
    "    for ch in [\"’\", \"'\", \"`\", \"´\", \"‘\"]:\n",
    "\n",
    "        name = name.replace(ch, \"'\")\n",
    "\n",
    "    name = ' '.join(name.split())\n",
    "    \n",
    "    return name\n",
    "\n",
    "# Match names\n",
    "\n",
    "board_member_cols = [f'Board Member {i}' for i in range(1, 23)]\n",
    "\n",
    "all_board_members_list = []\n",
    "\n",
    "for col in board_member_cols:\n",
    "\n",
    "    if col in df_acquiring.columns:\n",
    "\n",
    "        processed_names = df_acquiring[col].dropna().map(preprocess_name).tolist()\n",
    "\n",
    "        all_board_members_list.extend(processed_names)\n",
    "\n",
    "all_board_members = list(set([n for n in all_board_members_list if n]))\n",
    "\n",
    "compensation_names = set(people_df['name'].map(preprocess_name))\n",
    "\n",
    "common_members = [name for name in all_board_members if name in compensation_names]\n",
    "\n",
    "not_in_compensation = [name for name in all_board_members if name not in compensation_names]\n",
    "\n",
    "print(\"Members in the dataset of people_df:\")\n",
    "print(common_members)"
   ]
  },
  {
   "cell_type": "markdown",
   "id": "f5809d14",
   "metadata": {},
   "source": [
    "-> These twelve key board members are in both datasets of df_acquiring and people_df."
   ]
  },
  {
   "cell_type": "code",
   "execution_count": 32,
   "id": "fdb66f5c",
   "metadata": {},
   "outputs": [
    {
     "name": "stdout",
     "output_type": "stream",
     "text": [
      "['DAVID M. THOMAS', 'DINA DUBLON', 'ARUN SARIN', 'ANDREA JUNG', 'SUZANNE M. VAUTRINOT', 'DONALD E. GRAHAM', 'CLARENCE OTIS JR.', 'SHANTANU NARAYEN', 'PATRICIA F. RUSSO', 'MERCEDES JOHNSON', 'RODERICK C. MCGEARY', 'RONALD D. SUGAR']\n"
     ]
    }
   ],
   "source": [
    "names = ['david m. thomas', 'dina dublon', 'arun sarin', 'andrea jung', 'suzanne m. vautrinot', 'donald e. graham', 'clarence otis jr.', 'shantanu narayen', 'patricia f. russo', 'mercedes johnson', 'roderick c. mcgeary', 'ronald d. sugar']\n",
    "\n",
    "upper_names = [name.upper() for name in names]\n",
    "\n",
    "print(upper_names)"
   ]
  },
  {
   "cell_type": "markdown",
   "id": "c932ec80",
   "metadata": {},
   "source": [
    "-> The result is the upper names of the key board members."
   ]
  },
  {
   "cell_type": "markdown",
   "id": "bebfc837",
   "metadata": {},
   "source": [
    "< Identify companies that the key board members may have connections >"
   ]
  },
  {
   "cell_type": "code",
   "execution_count": 33,
   "id": "01574245",
   "metadata": {},
   "outputs": [
    {
     "data": {
      "text/html": [
       "<div>\n",
       "<style scoped>\n",
       "    .dataframe tbody tr th:only-of-type {\n",
       "        vertical-align: middle;\n",
       "    }\n",
       "\n",
       "    .dataframe tbody tr th {\n",
       "        vertical-align: top;\n",
       "    }\n",
       "\n",
       "    .dataframe thead th {\n",
       "        text-align: right;\n",
       "    }\n",
       "</style>\n",
       "<table border=\"1\" class=\"dataframe\">\n",
       "  <thead>\n",
       "    <tr style=\"text-align: right;\">\n",
       "      <th></th>\n",
       "      <th>name</th>\n",
       "      <th>eigen</th>\n",
       "      <th>degree</th>\n",
       "      <th>betweenness</th>\n",
       "      <th>is_person</th>\n",
       "      <th>age</th>\n",
       "      <th>compensation</th>\n",
       "      <th>gender</th>\n",
       "      <th>log_compensation</th>\n",
       "      <th>age_group</th>\n",
       "      <th>company_name</th>\n",
       "    </tr>\n",
       "  </thead>\n",
       "  <tbody>\n",
       "    <tr>\n",
       "      <th>321</th>\n",
       "      <td>RONALD D. SUGAR</td>\n",
       "      <td>3.048083e-18</td>\n",
       "      <td>0.000244</td>\n",
       "      <td>0.001517</td>\n",
       "      <td>True</td>\n",
       "      <td>72</td>\n",
       "      <td>795626</td>\n",
       "      <td>male</td>\n",
       "      <td>5.900710</td>\n",
       "      <td>70s</td>\n",
       "      <td>AMGEN INC</td>\n",
       "    </tr>\n",
       "    <tr>\n",
       "      <th>322</th>\n",
       "      <td>RONALD D. SUGAR</td>\n",
       "      <td>3.048083e-18</td>\n",
       "      <td>0.000244</td>\n",
       "      <td>0.001517</td>\n",
       "      <td>True</td>\n",
       "      <td>72</td>\n",
       "      <td>795626</td>\n",
       "      <td>male</td>\n",
       "      <td>5.900710</td>\n",
       "      <td>70s</td>\n",
       "      <td>CHEVRON CORP</td>\n",
       "    </tr>\n",
       "    <tr>\n",
       "      <th>349</th>\n",
       "      <td>MERCEDES JOHNSON</td>\n",
       "      <td>3.573531e-20</td>\n",
       "      <td>0.000366</td>\n",
       "      <td>0.008230</td>\n",
       "      <td>True</td>\n",
       "      <td>70</td>\n",
       "      <td>662785</td>\n",
       "      <td>female</td>\n",
       "      <td>5.821373</td>\n",
       "      <td>70s</td>\n",
       "      <td>ANALOG DEVICES INC</td>\n",
       "    </tr>\n",
       "    <tr>\n",
       "      <th>350</th>\n",
       "      <td>MERCEDES JOHNSON</td>\n",
       "      <td>3.573531e-20</td>\n",
       "      <td>0.000366</td>\n",
       "      <td>0.008230</td>\n",
       "      <td>True</td>\n",
       "      <td>70</td>\n",
       "      <td>662785</td>\n",
       "      <td>female</td>\n",
       "      <td>5.821373</td>\n",
       "      <td>70s</td>\n",
       "      <td>MICRON TECHNOLOGY INC</td>\n",
       "    </tr>\n",
       "    <tr>\n",
       "      <th>351</th>\n",
       "      <td>MERCEDES JOHNSON</td>\n",
       "      <td>3.573531e-20</td>\n",
       "      <td>0.000366</td>\n",
       "      <td>0.008230</td>\n",
       "      <td>True</td>\n",
       "      <td>70</td>\n",
       "      <td>662785</td>\n",
       "      <td>female</td>\n",
       "      <td>5.821373</td>\n",
       "      <td>70s</td>\n",
       "      <td>TERADYNE, INC</td>\n",
       "    </tr>\n",
       "    <tr>\n",
       "      <th>385</th>\n",
       "      <td>ANDREA JUNG</td>\n",
       "      <td>1.529591e-20</td>\n",
       "      <td>0.000122</td>\n",
       "      <td>0.000000</td>\n",
       "      <td>True</td>\n",
       "      <td>66</td>\n",
       "      <td>425532</td>\n",
       "      <td>female</td>\n",
       "      <td>5.628933</td>\n",
       "      <td>60s</td>\n",
       "      <td>Apple Inc.</td>\n",
       "    </tr>\n",
       "    <tr>\n",
       "      <th>1331</th>\n",
       "      <td>SUZANNE M. VAUTRINOT</td>\n",
       "      <td>1.771907e-17</td>\n",
       "      <td>0.000244</td>\n",
       "      <td>0.005754</td>\n",
       "      <td>True</td>\n",
       "      <td>65</td>\n",
       "      <td>893469</td>\n",
       "      <td>female</td>\n",
       "      <td>5.951080</td>\n",
       "      <td>60s</td>\n",
       "      <td>CSX CORP</td>\n",
       "    </tr>\n",
       "    <tr>\n",
       "      <th>1332</th>\n",
       "      <td>SUZANNE M. VAUTRINOT</td>\n",
       "      <td>1.771907e-17</td>\n",
       "      <td>0.000244</td>\n",
       "      <td>0.005754</td>\n",
       "      <td>True</td>\n",
       "      <td>65</td>\n",
       "      <td>893469</td>\n",
       "      <td>female</td>\n",
       "      <td>5.951080</td>\n",
       "      <td>60s</td>\n",
       "      <td>ECOLAB INC.</td>\n",
       "    </tr>\n",
       "    <tr>\n",
       "      <th>2146</th>\n",
       "      <td>DONALD E. GRAHAM</td>\n",
       "      <td>6.048712e-18</td>\n",
       "      <td>0.000122</td>\n",
       "      <td>0.000000</td>\n",
       "      <td>True</td>\n",
       "      <td>79</td>\n",
       "      <td>0</td>\n",
       "      <td>male</td>\n",
       "      <td>0.000000</td>\n",
       "      <td>70s</td>\n",
       "      <td>Graham Holdings Co</td>\n",
       "    </tr>\n",
       "    <tr>\n",
       "      <th>2367</th>\n",
       "      <td>PATRICIA F. RUSSO</td>\n",
       "      <td>1.699353e-15</td>\n",
       "      <td>0.000244</td>\n",
       "      <td>0.002858</td>\n",
       "      <td>True</td>\n",
       "      <td>69</td>\n",
       "      <td>325000</td>\n",
       "      <td>female</td>\n",
       "      <td>5.511885</td>\n",
       "      <td>60s</td>\n",
       "      <td>Howmet Aerospace Inc.</td>\n",
       "    </tr>\n",
       "  </tbody>\n",
       "</table>\n",
       "</div>"
      ],
      "text/plain": [
       "                      name         eigen    degree  betweenness  is_person  \\\n",
       "321        RONALD D. SUGAR  3.048083e-18  0.000244     0.001517       True   \n",
       "322        RONALD D. SUGAR  3.048083e-18  0.000244     0.001517       True   \n",
       "349       MERCEDES JOHNSON  3.573531e-20  0.000366     0.008230       True   \n",
       "350       MERCEDES JOHNSON  3.573531e-20  0.000366     0.008230       True   \n",
       "351       MERCEDES JOHNSON  3.573531e-20  0.000366     0.008230       True   \n",
       "385            ANDREA JUNG  1.529591e-20  0.000122     0.000000       True   \n",
       "1331  SUZANNE M. VAUTRINOT  1.771907e-17  0.000244     0.005754       True   \n",
       "1332  SUZANNE M. VAUTRINOT  1.771907e-17  0.000244     0.005754       True   \n",
       "2146      DONALD E. GRAHAM  6.048712e-18  0.000122     0.000000       True   \n",
       "2367     PATRICIA F. RUSSO  1.699353e-15  0.000244     0.002858       True   \n",
       "\n",
       "      age  compensation  gender  log_compensation age_group  \\\n",
       "321    72        795626    male          5.900710       70s   \n",
       "322    72        795626    male          5.900710       70s   \n",
       "349    70        662785  female          5.821373       70s   \n",
       "350    70        662785  female          5.821373       70s   \n",
       "351    70        662785  female          5.821373       70s   \n",
       "385    66        425532  female          5.628933       60s   \n",
       "1331   65        893469  female          5.951080       60s   \n",
       "1332   65        893469  female          5.951080       60s   \n",
       "2146   79             0    male          0.000000       70s   \n",
       "2367   69        325000  female          5.511885       60s   \n",
       "\n",
       "               company_name  \n",
       "321               AMGEN INC  \n",
       "322            CHEVRON CORP  \n",
       "349      ANALOG DEVICES INC  \n",
       "350   MICRON TECHNOLOGY INC  \n",
       "351           TERADYNE, INC  \n",
       "385              Apple Inc.  \n",
       "1331               CSX CORP  \n",
       "1332            ECOLAB INC.  \n",
       "2146     Graham Holdings Co  \n",
       "2367  Howmet Aerospace Inc.  "
      ]
     },
     "execution_count": 33,
     "metadata": {},
     "output_type": "execute_result"
    }
   ],
   "source": [
    "# Filter rows in the people_df datset having the key board members' names\n",
    "\n",
    "matched_df = people_df[people_df['name'].isin(upper_names)]\n",
    "\n",
    "matched_df.head(10)\n"
   ]
  },
  {
   "cell_type": "markdown",
   "id": "f7a4a65a",
   "metadata": {},
   "source": [
    "-> The result shows key board members to contact and sell the company, as they are board members of big IT companies acquiring multiple IT companies. Based on their centrality scores, different approaches can be considered depending on situations. For example;\n",
    "\n",
    "- MERCEDES JOHNSON has the highest betweeenness and degree centrality, indicating that she has broad netwroks and can play as a broker in her networks.\n",
    "- SUZANNE M. VAUTRINOT has the highest eigenvector centrality, indicating that she has significant influence in decision-making."
   ]
  },
  {
   "cell_type": "code",
   "execution_count": 34,
   "id": "40a30ed3",
   "metadata": {},
   "outputs": [
    {
     "data": {
      "text/html": [
       "<div>\n",
       "<style scoped>\n",
       "    .dataframe tbody tr th:only-of-type {\n",
       "        vertical-align: middle;\n",
       "    }\n",
       "\n",
       "    .dataframe tbody tr th {\n",
       "        vertical-align: top;\n",
       "    }\n",
       "\n",
       "    .dataframe thead th {\n",
       "        text-align: right;\n",
       "    }\n",
       "</style>\n",
       "<table border=\"1\" class=\"dataframe\">\n",
       "  <thead>\n",
       "    <tr style=\"text-align: right;\">\n",
       "      <th></th>\n",
       "      <th>Company</th>\n",
       "      <th>Board Member</th>\n",
       "    </tr>\n",
       "  </thead>\n",
       "  <tbody>\n",
       "    <tr>\n",
       "      <th>0</th>\n",
       "      <td>Apple</td>\n",
       "      <td>ANDREA JUNG</td>\n",
       "    </tr>\n",
       "    <tr>\n",
       "      <th>1</th>\n",
       "      <td>Apple</td>\n",
       "      <td>RONALD D. SUGAR</td>\n",
       "    </tr>\n",
       "    <tr>\n",
       "      <th>2</th>\n",
       "      <td>Cisco Systems</td>\n",
       "      <td>ARUN SARIN</td>\n",
       "    </tr>\n",
       "    <tr>\n",
       "      <th>3</th>\n",
       "      <td>Cisco Systems</td>\n",
       "      <td>RODERICK C. MCGEARY</td>\n",
       "    </tr>\n",
       "    <tr>\n",
       "      <th>4</th>\n",
       "      <td>Dell</td>\n",
       "      <td>SHANTANU NARAYEN</td>\n",
       "    </tr>\n",
       "    <tr>\n",
       "      <th>5</th>\n",
       "      <td>Facebook</td>\n",
       "      <td>DONALD E. GRAHAM</td>\n",
       "    </tr>\n",
       "    <tr>\n",
       "      <th>6</th>\n",
       "      <td>HP</td>\n",
       "      <td>PATRICIA F. RUSSO</td>\n",
       "    </tr>\n",
       "    <tr>\n",
       "      <th>7</th>\n",
       "      <td>IBM</td>\n",
       "      <td>DAVID M. THOMAS</td>\n",
       "    </tr>\n",
       "    <tr>\n",
       "      <th>8</th>\n",
       "      <td>Juniper Networks</td>\n",
       "      <td>MERCEDES JOHNSON</td>\n",
       "    </tr>\n",
       "    <tr>\n",
       "      <th>9</th>\n",
       "      <td>Microsoft</td>\n",
       "      <td>DINA DUBLON</td>\n",
       "    </tr>\n",
       "  </tbody>\n",
       "</table>\n",
       "</div>"
      ],
      "text/plain": [
       "            Company         Board Member\n",
       "0             Apple          ANDREA JUNG\n",
       "1             Apple      RONALD D. SUGAR\n",
       "2     Cisco Systems           ARUN SARIN\n",
       "3     Cisco Systems  RODERICK C. MCGEARY\n",
       "4              Dell     SHANTANU NARAYEN\n",
       "5          Facebook     DONALD E. GRAHAM\n",
       "6                HP    PATRICIA F. RUSSO\n",
       "7               IBM      DAVID M. THOMAS\n",
       "8  Juniper Networks     MERCEDES JOHNSON\n",
       "9         Microsoft          DINA DUBLON"
      ]
     },
     "execution_count": 34,
     "metadata": {},
     "output_type": "execute_result"
    }
   ],
   "source": [
    "board_member_cols = [f'Board Member {i}' for i in range(1, 23)]\n",
    "\n",
    "# Make a list of key members\n",
    "\n",
    "target_names = [\n",
    "    'DAVID M. THOMAS', 'DINA DUBLON', 'ARUN SARIN', 'ANDREA JUNG',\n",
    "    'SUZANNE M. VAUTRINOT', 'DONALD E. GRAHAM', 'CLARENCE OTIS JR.',\n",
    "    'SHANTANU NARAYEN', 'PATRICIA F. RUSSO', 'MERCEDES JOHNSON',\n",
    "    'RODERICK C. MCGEARY', 'RONALD D. SUGAR'\n",
    "]\n",
    "\n",
    "def normalize(name):\n",
    "\n",
    "    if pd.isna(name):\n",
    "\n",
    "        return None\n",
    "    \n",
    "    return name.strip().upper()\n",
    "\n",
    "# Preprocess board member column\n",
    "\n",
    "for col in board_member_cols:\n",
    "\n",
    "    if col in df_acquiring.columns:\n",
    "\n",
    "        df_acquiring[col] = df_acquiring[col].map(normalize)\n",
    "\n",
    "results = []\n",
    "\n",
    "# Check and match each row\n",
    "\n",
    "for idx, row in df_acquiring.iterrows():\n",
    "\n",
    "    company = row['Acquiring Company']\n",
    "    members = [row[col] for col in board_member_cols if col in row]\n",
    "    matched = list(set(members) & set(target_names))\n",
    "    \n",
    "    for person in matched:\n",
    "        \n",
    "        results.append({'Company': company, 'Board Member': person})\n",
    "\n",
    "matched_df = pd.DataFrame(results)\n",
    "\n",
    "matched_df.head(10)\n"
   ]
  },
  {
   "cell_type": "markdown",
   "id": "129a84dc",
   "metadata": {},
   "source": [
    "-> The result shows the companies of the key board members."
   ]
  },
  {
   "cell_type": "code",
   "execution_count": 35,
   "id": "59a99dd1",
   "metadata": {},
   "outputs": [
    {
     "data": {
      "text/html": [
       "<div>\n",
       "<style scoped>\n",
       "    .dataframe tbody tr th:only-of-type {\n",
       "        vertical-align: middle;\n",
       "    }\n",
       "\n",
       "    .dataframe tbody tr th {\n",
       "        vertical-align: top;\n",
       "    }\n",
       "\n",
       "    .dataframe thead th {\n",
       "        text-align: right;\n",
       "    }\n",
       "</style>\n",
       "<table border=\"1\" class=\"dataframe\">\n",
       "  <thead>\n",
       "    <tr style=\"text-align: right;\">\n",
       "      <th></th>\n",
       "      <th>Acquiring Company</th>\n",
       "      <th>Number of Acquisitions</th>\n",
       "      <th>Acquired Companies</th>\n",
       "      <th>Board Members</th>\n",
       "    </tr>\n",
       "  </thead>\n",
       "  <tbody>\n",
       "    <tr>\n",
       "      <th>0</th>\n",
       "      <td>Apple</td>\n",
       "      <td>51</td>\n",
       "      <td>AlgoTrim, Anobit Technologies, AuthenTec, Beat...</td>\n",
       "      <td>ANDREA JUNG, RONALD D. SUGAR</td>\n",
       "    </tr>\n",
       "    <tr>\n",
       "      <th>1</th>\n",
       "      <td>Cisco Systems</td>\n",
       "      <td>162</td>\n",
       "      <td>Active Voice Corporation, Actona Technologies,...</td>\n",
       "      <td>ARUN SARIN, RODERICK C. MCGEARY</td>\n",
       "    </tr>\n",
       "    <tr>\n",
       "      <th>2</th>\n",
       "      <td>Dell</td>\n",
       "      <td>26</td>\n",
       "      <td>Acs (UK), Alienware, AppAssure Software, ASAP ...</td>\n",
       "      <td>SHANTANU NARAYEN</td>\n",
       "    </tr>\n",
       "    <tr>\n",
       "      <th>3</th>\n",
       "      <td>Facebook</td>\n",
       "      <td>49</td>\n",
       "      <td>Atlas Advertiser Suite, Beluga, Bolt | Peters,...</td>\n",
       "      <td>DONALD E. GRAHAM</td>\n",
       "    </tr>\n",
       "    <tr>\n",
       "      <th>4</th>\n",
       "      <td>HP</td>\n",
       "      <td>88</td>\n",
       "      <td>3Com, 3PAR, ABB CADE, Apollo Computer, AppIQ, ...</td>\n",
       "      <td>PATRICIA F. RUSSO</td>\n",
       "    </tr>\n",
       "    <tr>\n",
       "      <th>5</th>\n",
       "      <td>IBM</td>\n",
       "      <td>121</td>\n",
       "      <td>Access360, Algorithmics, AlphaBlox Corporation...</td>\n",
       "      <td>DAVID M. THOMAS</td>\n",
       "    </tr>\n",
       "    <tr>\n",
       "      <th>6</th>\n",
       "      <td>Juniper Networks</td>\n",
       "      <td>10</td>\n",
       "      <td>Altor Networks, Ankeena Networks, Blackwave, C...</td>\n",
       "      <td>MERCEDES JOHNSON</td>\n",
       "    </tr>\n",
       "    <tr>\n",
       "      <th>7</th>\n",
       "      <td>Microsoft</td>\n",
       "      <td>136</td>\n",
       "      <td>90 Degree Software, ActiveViews, AdECN, Alacri...</td>\n",
       "      <td>DINA DUBLON</td>\n",
       "    </tr>\n",
       "    <tr>\n",
       "      <th>8</th>\n",
       "      <td>Symantec</td>\n",
       "      <td>17</td>\n",
       "      <td>@Stake, AppStream, Brightmail, Clearwell Syste...</td>\n",
       "      <td>SUZANNE M. VAUTRINOT</td>\n",
       "    </tr>\n",
       "    <tr>\n",
       "      <th>9</th>\n",
       "      <td>Verizon Communications</td>\n",
       "      <td>7</td>\n",
       "      <td>Alltel, CloudSwitch, EdgeCast Networks, Hughes...</td>\n",
       "      <td>CLARENCE OTIS JR.</td>\n",
       "    </tr>\n",
       "  </tbody>\n",
       "</table>\n",
       "</div>"
      ],
      "text/plain": [
       "        Acquiring Company  Number of Acquisitions  \\\n",
       "0                   Apple                      51   \n",
       "1           Cisco Systems                     162   \n",
       "2                    Dell                      26   \n",
       "3                Facebook                      49   \n",
       "4                      HP                      88   \n",
       "5                     IBM                     121   \n",
       "6        Juniper Networks                      10   \n",
       "7               Microsoft                     136   \n",
       "8                Symantec                      17   \n",
       "9  Verizon Communications                       7   \n",
       "\n",
       "                                  Acquired Companies  \\\n",
       "0  AlgoTrim, Anobit Technologies, AuthenTec, Beat...   \n",
       "1  Active Voice Corporation, Actona Technologies,...   \n",
       "2  Acs (UK), Alienware, AppAssure Software, ASAP ...   \n",
       "3  Atlas Advertiser Suite, Beluga, Bolt | Peters,...   \n",
       "4  3Com, 3PAR, ABB CADE, Apollo Computer, AppIQ, ...   \n",
       "5  Access360, Algorithmics, AlphaBlox Corporation...   \n",
       "6  Altor Networks, Ankeena Networks, Blackwave, C...   \n",
       "7  90 Degree Software, ActiveViews, AdECN, Alacri...   \n",
       "8  @Stake, AppStream, Brightmail, Clearwell Syste...   \n",
       "9  Alltel, CloudSwitch, EdgeCast Networks, Hughes...   \n",
       "\n",
       "                     Board Members  \n",
       "0     ANDREA JUNG, RONALD D. SUGAR  \n",
       "1  ARUN SARIN, RODERICK C. MCGEARY  \n",
       "2                 SHANTANU NARAYEN  \n",
       "3                 DONALD E. GRAHAM  \n",
       "4                PATRICIA F. RUSSO  \n",
       "5                  DAVID M. THOMAS  \n",
       "6                 MERCEDES JOHNSON  \n",
       "7                      DINA DUBLON  \n",
       "8             SUZANNE M. VAUTRINOT  \n",
       "9                CLARENCE OTIS JR.  "
      ]
     },
     "execution_count": 35,
     "metadata": {},
     "output_type": "execute_result"
    }
   ],
   "source": [
    "target_companies = matched_df['Company'].unique().tolist()\n",
    "\n",
    "filtered_df = df_acquiring[df_acquiring['Acquiring Company'].isin(target_companies)].copy()\n",
    "\n",
    "\n",
    "members_by_company = (\n",
    "    matched_df.groupby('Company')['Board Member']\n",
    "    .apply(lambda names: ', '.join(sorted(set(names))))\n",
    "    .reset_index()\n",
    "    .rename(columns={'Company': 'Acquiring Company', 'Board Member': 'Board Members'})\n",
    ")\n",
    "\n",
    "merged_df = filtered_df.merge(members_by_company, on = 'Acquiring Company', how = 'left')\n",
    "\n",
    "merged_df[['Acquiring Company', 'Number of Acquisitions', 'Acquired Companies', 'Board Members']].head(12)\n"
   ]
  },
  {
   "cell_type": "markdown",
   "id": "79396e57",
   "metadata": {},
   "source": [
    "-> The result exhibits lists of acquired companies across the big IT companies. The key board members may lead to connections with the acquried companies that are potential buyers. "
   ]
  },
  {
   "cell_type": "code",
   "execution_count": 36,
   "id": "48818aa4",
   "metadata": {},
   "outputs": [
    {
     "name": "stdout",
     "output_type": "stream",
     "text": [
      "AlgoTrim, Anobit Technologies, AuthenTec, Beats Electronics, Booklamp, Burstly, Chomp, Color Labs Inc., Concept.io, Coral Software, Cue, Emagic, Embark, Fingerworks, HopStop.com, imsense, Intrinsity, Lala, Locationary, LuxVue Technology, Matcha, Nashoba Systems, NetSelector, Network Innovations, NeXT, NeXT Computer, Nothing Real, Novauris, Orion Network Systems, PA Semi, Particle, Passif Semiconductor, Placebase, Polar Rose, Poly9, PowerSchool, PrimeSense, Propel Software, Proximity, Quattro Wireless, Raycer Graphics, Silicon Color, Siri, SnappyLabs, Spotsetter, Spruce Technologies, Styleware, Topsy Labs, WiFiSLAM, Xemplar Education, Zayante\n"
     ]
    }
   ],
   "source": [
    "company_name = \"Apple\"\n",
    "\n",
    "print(merged_df[merged_df['Acquiring Company'] == company_name]['Acquired Companies'].values[0])\n"
   ]
  },
  {
   "cell_type": "markdown",
   "id": "7b462651",
   "metadata": {},
   "source": [
    "-> To take an example, this result shows the names of all companies acquaired by Apple"
   ]
  },
  {
   "cell_type": "code",
   "execution_count": 37,
   "id": "99a6e5c2",
   "metadata": {},
   "outputs": [
    {
     "data": {
      "text/html": [
       "<div>\n",
       "<style scoped>\n",
       "    .dataframe tbody tr th:only-of-type {\n",
       "        vertical-align: middle;\n",
       "    }\n",
       "\n",
       "    .dataframe tbody tr th {\n",
       "        vertical-align: top;\n",
       "    }\n",
       "\n",
       "    .dataframe thead th {\n",
       "        text-align: right;\n",
       "    }\n",
       "</style>\n",
       "<table border=\"1\" class=\"dataframe\">\n",
       "  <thead>\n",
       "    <tr style=\"text-align: right;\">\n",
       "      <th></th>\n",
       "      <th>name</th>\n",
       "      <th>eigen</th>\n",
       "      <th>degree</th>\n",
       "      <th>betweenness</th>\n",
       "    </tr>\n",
       "  </thead>\n",
       "  <tbody>\n",
       "    <tr>\n",
       "      <th>321</th>\n",
       "      <td>RONALD D. SUGAR</td>\n",
       "      <td>3.048083e-18</td>\n",
       "      <td>0.000244</td>\n",
       "      <td>0.001517</td>\n",
       "    </tr>\n",
       "    <tr>\n",
       "      <th>349</th>\n",
       "      <td>MERCEDES JOHNSON</td>\n",
       "      <td>3.573531e-20</td>\n",
       "      <td>0.000366</td>\n",
       "      <td>0.008230</td>\n",
       "    </tr>\n",
       "    <tr>\n",
       "      <th>385</th>\n",
       "      <td>ANDREA JUNG</td>\n",
       "      <td>1.529591e-20</td>\n",
       "      <td>0.000122</td>\n",
       "      <td>0.000000</td>\n",
       "    </tr>\n",
       "    <tr>\n",
       "      <th>1331</th>\n",
       "      <td>SUZANNE M. VAUTRINOT</td>\n",
       "      <td>1.771907e-17</td>\n",
       "      <td>0.000244</td>\n",
       "      <td>0.005754</td>\n",
       "    </tr>\n",
       "    <tr>\n",
       "      <th>2146</th>\n",
       "      <td>DONALD E. GRAHAM</td>\n",
       "      <td>6.048712e-18</td>\n",
       "      <td>0.000122</td>\n",
       "      <td>0.000000</td>\n",
       "    </tr>\n",
       "    <tr>\n",
       "      <th>2367</th>\n",
       "      <td>PATRICIA F. RUSSO</td>\n",
       "      <td>1.699353e-15</td>\n",
       "      <td>0.000244</td>\n",
       "      <td>0.002858</td>\n",
       "    </tr>\n",
       "    <tr>\n",
       "      <th>2491</th>\n",
       "      <td>DAVID M. THOMAS</td>\n",
       "      <td>4.146320e-20</td>\n",
       "      <td>0.000122</td>\n",
       "      <td>0.000000</td>\n",
       "    </tr>\n",
       "    <tr>\n",
       "      <th>3422</th>\n",
       "      <td>RODERICK C. MCGEARY</td>\n",
       "      <td>8.853656e-18</td>\n",
       "      <td>0.000244</td>\n",
       "      <td>0.004076</td>\n",
       "    </tr>\n",
       "    <tr>\n",
       "      <th>3473</th>\n",
       "      <td>DINA DUBLON</td>\n",
       "      <td>4.160924e-20</td>\n",
       "      <td>0.000122</td>\n",
       "      <td>0.000000</td>\n",
       "    </tr>\n",
       "    <tr>\n",
       "      <th>3490</th>\n",
       "      <td>SHANTANU NARAYEN</td>\n",
       "      <td>9.842722e-21</td>\n",
       "      <td>0.000122</td>\n",
       "      <td>0.000000</td>\n",
       "    </tr>\n",
       "    <tr>\n",
       "      <th>3715</th>\n",
       "      <td>ARUN SARIN</td>\n",
       "      <td>5.116828e-21</td>\n",
       "      <td>0.000122</td>\n",
       "      <td>0.000000</td>\n",
       "    </tr>\n",
       "    <tr>\n",
       "      <th>4144</th>\n",
       "      <td>CLARENCE OTIS JR.</td>\n",
       "      <td>2.075382e-20</td>\n",
       "      <td>0.000122</td>\n",
       "      <td>0.000000</td>\n",
       "    </tr>\n",
       "  </tbody>\n",
       "</table>\n",
       "</div>"
      ],
      "text/plain": [
       "                      name         eigen    degree  betweenness\n",
       "321        RONALD D. SUGAR  3.048083e-18  0.000244     0.001517\n",
       "349       MERCEDES JOHNSON  3.573531e-20  0.000366     0.008230\n",
       "385            ANDREA JUNG  1.529591e-20  0.000122     0.000000\n",
       "1331  SUZANNE M. VAUTRINOT  1.771907e-17  0.000244     0.005754\n",
       "2146      DONALD E. GRAHAM  6.048712e-18  0.000122     0.000000\n",
       "2367     PATRICIA F. RUSSO  1.699353e-15  0.000244     0.002858\n",
       "2491       DAVID M. THOMAS  4.146320e-20  0.000122     0.000000\n",
       "3422   RODERICK C. MCGEARY  8.853656e-18  0.000244     0.004076\n",
       "3473           DINA DUBLON  4.160924e-20  0.000122     0.000000\n",
       "3490      SHANTANU NARAYEN  9.842722e-21  0.000122     0.000000\n",
       "3715            ARUN SARIN  5.116828e-21  0.000122     0.000000\n",
       "4144     CLARENCE OTIS JR.  2.075382e-20  0.000122     0.000000"
      ]
     },
     "execution_count": 37,
     "metadata": {},
     "output_type": "execute_result"
    }
   ],
   "source": [
    "key_board_members = [\n",
    "    \"ANDREA JUNG\", \"RONALD D. SUGAR\",\n",
    "    \"ARUN SARIN\", \"RODERICK C. MCGEARY\",\n",
    "    \"SHANTANU NARAYEN\",\n",
    "    \"DONALD E. GRAHAM\",\n",
    "    \"PATRICIA F. RUSSO\",\n",
    "    \"DAVID M. THOMAS\",\n",
    "    \"MERCEDES JOHNSON\",\n",
    "    \"DINA DUBLON\",\n",
    "    \"SUZANNE M. VAUTRINOT\",\n",
    "    \"CLARENCE OTIS JR.\"\n",
    "]\n",
    "\n",
    "filtered_members = people_df[people_df['name'].isin(key_board_members)].drop_duplicates(subset=['name'])\n",
    "\n",
    "filtered_members[['name', 'eigen', 'degree', 'betweenness']]"
   ]
  },
  {
   "cell_type": "markdown",
   "id": "860adf93",
   "metadata": {},
   "source": [
    "-> The result exhibits expected roles of each key board member based on their centrality. For example, PATRICIA F. RUSSO has the highest eigenvector centrality. MERCEDES JOHNSON has the highest degree centrality and MERCEDES JOHNSON has the highest betweenness centrality."
   ]
  },
  {
   "cell_type": "markdown",
   "id": "a7aa5937",
   "metadata": {},
   "source": [
    "# 6. Clustering Analysis"
   ]
  },
  {
   "cell_type": "markdown",
   "id": "c189a48b",
   "metadata": {},
   "source": [
    "### 6.1. Cluster board members into groups"
   ]
  },
  {
   "cell_type": "code",
   "execution_count": 38,
   "id": "25ef7ed7-b7df-4649-81be-ba066ff9cc9b",
   "metadata": {},
   "outputs": [],
   "source": [
    "robust_scaler = sklearn.preprocessing.RobustScaler()\n",
    "age_and_demographics_scaled = robust_scaler.fit_transform(people_df[['age', 'log_compensation', 'degree', 'eigen', 'betweenness']])"
   ]
  },
  {
   "cell_type": "code",
   "execution_count": 39,
   "id": "e3f75a42-4e69-4356-aaa8-70b0b4b16fc8",
   "metadata": {},
   "outputs": [
    {
     "data": {
      "text/plain": [
       "cluster_id\n",
       " 0    2527\n",
       "-1    1326\n",
       " 1     350\n",
       " 5     117\n",
       " 2      88\n",
       " 3      38\n",
       " 4      22\n",
       " 6      16\n",
       "Name: count, dtype: int64"
      ]
     },
     "execution_count": 39,
     "metadata": {},
     "output_type": "execute_result"
    }
   ],
   "source": [
    "dbscan = DBSCAN(eps = 0.4, min_samples = 15)  \n",
    "people_df['cluster_id'] = dbscan.fit_predict(age_and_demographics_scaled)\n",
    "people_df.cluster_id.value_counts()"
   ]
  },
  {
   "cell_type": "markdown",
   "id": "8fe3018d",
   "metadata": {},
   "source": [
    "-> Eight groups were created with one noise group."
   ]
  },
  {
   "cell_type": "code",
   "execution_count": 40,
   "id": "68e8717b-a2fa-4c7b-987b-95e5f0e0358f",
   "metadata": {},
   "outputs": [
    {
     "data": {
      "text/plain": [
       "<Axes: xlabel='age', ylabel='log_compensation'>"
      ]
     },
     "execution_count": 40,
     "metadata": {},
     "output_type": "execute_result"
    },
    {
     "data": {
      "image/png": "[encoded data removed]",
      "text/plain": [
       "<Figure size 640x480 with 2 Axes>"
      ]
     },
     "metadata": {},
     "output_type": "display_data"
    }
   ],
   "source": [
    "# Visualize culstering outcomes\n",
    "\n",
    "people_df.plot.scatter(x = 'age', y = 'log_compensation', c = 'cluster_id', cmap = \"rainbow\", s = 4)"
   ]
  },
  {
   "cell_type": "code",
   "execution_count": 41,
   "id": "115d780c-c8dd-496d-acae-5ad88648b73d",
   "metadata": {},
   "outputs": [
    {
     "name": "stdout",
     "output_type": "stream",
     "text": [
      "DBSCAN Clustering Silhouette Score : 0.5292\n"
     ]
    }
   ],
   "source": [
    "# Conduct silhouette test (do not include noise cluster) \n",
    "\n",
    "mask = people_df['cluster_id'] != -1\n",
    "\n",
    "sil_score = silhouette_score(age_and_demographics_scaled[mask], people_df.loc[mask, 'cluster_id'])\n",
    "print(f\"DBSCAN Clustering Silhouette Score : {sil_score:.4f}\")\n"
   ]
  },
  {
   "cell_type": "markdown",
   "id": "3c0389c8",
   "metadata": {},
   "source": [
    "-> According to the silhouette test result, the board members are fairly well separated."
   ]
  },
  {
   "cell_type": "markdown",
   "id": "46dffabc",
   "metadata": {},
   "source": [
    "### 6.2. Analyze centrality of groups"
   ]
  },
  {
   "cell_type": "code",
   "execution_count": 42,
   "id": "52bf560e-de0e-4738-bb1f-818b9cc7264d",
   "metadata": {},
   "outputs": [
    {
     "data": {
      "text/html": [
       "<div>\n",
       "<style scoped>\n",
       "    .dataframe tbody tr th:only-of-type {\n",
       "        vertical-align: middle;\n",
       "    }\n",
       "\n",
       "    .dataframe tbody tr th {\n",
       "        vertical-align: top;\n",
       "    }\n",
       "\n",
       "    .dataframe thead th {\n",
       "        text-align: right;\n",
       "    }\n",
       "</style>\n",
       "<table border=\"1\" class=\"dataframe\">\n",
       "  <thead>\n",
       "    <tr style=\"text-align: right;\">\n",
       "      <th></th>\n",
       "      <th>cluster_id</th>\n",
       "      <th>age</th>\n",
       "      <th>compensation</th>\n",
       "      <th>log_compensation</th>\n",
       "      <th>degree</th>\n",
       "      <th>eigen</th>\n",
       "      <th>betweenness</th>\n",
       "      <th>number of members</th>\n",
       "    </tr>\n",
       "  </thead>\n",
       "  <tbody>\n",
       "    <tr>\n",
       "      <th>0</th>\n",
       "      <td>0</td>\n",
       "      <td>63.657301</td>\n",
       "      <td>2.711466e+05</td>\n",
       "      <td>5.404111</td>\n",
       "      <td>0.000122</td>\n",
       "      <td>5.068407e-07</td>\n",
       "      <td>0.000000e+00</td>\n",
       "      <td>2527</td>\n",
       "    </tr>\n",
       "    <tr>\n",
       "      <th>1</th>\n",
       "      <td>1</td>\n",
       "      <td>58.128571</td>\n",
       "      <td>0.000000e+00</td>\n",
       "      <td>0.000000</td>\n",
       "      <td>0.000122</td>\n",
       "      <td>1.041856e-06</td>\n",
       "      <td>0.000000e+00</td>\n",
       "      <td>350</td>\n",
       "    </tr>\n",
       "    <tr>\n",
       "      <th>2</th>\n",
       "      <td>2</td>\n",
       "      <td>66.340909</td>\n",
       "      <td>6.046144e+05</td>\n",
       "      <td>5.777811</td>\n",
       "      <td>0.000244</td>\n",
       "      <td>2.228505e-14</td>\n",
       "      <td>3.081008e-03</td>\n",
       "      <td>88</td>\n",
       "    </tr>\n",
       "    <tr>\n",
       "      <th>3</th>\n",
       "      <td>3</td>\n",
       "      <td>64.105263</td>\n",
       "      <td>3.087645e+05</td>\n",
       "      <td>5.484691</td>\n",
       "      <td>0.000244</td>\n",
       "      <td>4.489850e-16</td>\n",
       "      <td>1.840731e-03</td>\n",
       "      <td>38</td>\n",
       "    </tr>\n",
       "    <tr>\n",
       "      <th>4</th>\n",
       "      <td>4</td>\n",
       "      <td>64.454545</td>\n",
       "      <td>3.239697e+05</td>\n",
       "      <td>5.508636</td>\n",
       "      <td>0.000244</td>\n",
       "      <td>3.707665e-13</td>\n",
       "      <td>3.632685e-03</td>\n",
       "      <td>22</td>\n",
       "    </tr>\n",
       "    <tr>\n",
       "      <th>5</th>\n",
       "      <td>5</td>\n",
       "      <td>67.777778</td>\n",
       "      <td>3.266732e+06</td>\n",
       "      <td>6.513772</td>\n",
       "      <td>0.001585</td>\n",
       "      <td>1.024389e-01</td>\n",
       "      <td>1.394057e-07</td>\n",
       "      <td>117</td>\n",
       "    </tr>\n",
       "    <tr>\n",
       "      <th>6</th>\n",
       "      <td>6</td>\n",
       "      <td>58.250000</td>\n",
       "      <td>2.468022e+05</td>\n",
       "      <td>5.390185</td>\n",
       "      <td>0.000244</td>\n",
       "      <td>4.070663e-08</td>\n",
       "      <td>2.586000e-03</td>\n",
       "      <td>16</td>\n",
       "    </tr>\n",
       "  </tbody>\n",
       "</table>\n",
       "</div>"
      ],
      "text/plain": [
       "   cluster_id        age  compensation  log_compensation    degree  \\\n",
       "0           0  63.657301  2.711466e+05          5.404111  0.000122   \n",
       "1           1  58.128571  0.000000e+00          0.000000  0.000122   \n",
       "2           2  66.340909  6.046144e+05          5.777811  0.000244   \n",
       "3           3  64.105263  3.087645e+05          5.484691  0.000244   \n",
       "4           4  64.454545  3.239697e+05          5.508636  0.000244   \n",
       "5           5  67.777778  3.266732e+06          6.513772  0.001585   \n",
       "6           6  58.250000  2.468022e+05          5.390185  0.000244   \n",
       "\n",
       "          eigen   betweenness  number of members  \n",
       "0  5.068407e-07  0.000000e+00               2527  \n",
       "1  1.041856e-06  0.000000e+00                350  \n",
       "2  2.228505e-14  3.081008e-03                 88  \n",
       "3  4.489850e-16  1.840731e-03                 38  \n",
       "4  3.707665e-13  3.632685e-03                 22  \n",
       "5  1.024389e-01  1.394057e-07                117  \n",
       "6  4.070663e-08  2.586000e-03                 16  "
      ]
     },
     "execution_count": 42,
     "metadata": {},
     "output_type": "execute_result"
    }
   ],
   "source": [
    "cluster_analysis = (\n",
    "    people_df[people_df['cluster_id'] != -1]\n",
    "    .groupby('cluster_id')\n",
    "    .agg({\n",
    "        'age': 'mean',\n",
    "        'compensation': 'mean',\n",
    "        'log_compensation': 'mean',\n",
    "        'degree': 'mean',\n",
    "        'eigen': 'mean',\n",
    "        'betweenness': 'mean',\n",
    "        'name': 'count'\n",
    "    })\n",
    "    .rename(columns = {'name': 'number of members'})\n",
    "    .reset_index()\n",
    ")\n",
    "\n",
    "cluster_analysis"
   ]
  },
  {
   "cell_type": "markdown",
   "id": "da9ca716",
   "metadata": {},
   "source": [
    "-> This result summarizes the features of each group, except for the noise group. \n",
    "\n",
    "- cluster 5: board members in this group have the highest degree and eigenvector centrality, indicating broad networks and connections with influential individuals\n",
    "- cluster 2, 3, 4, 6: board members in these groups can play as brokers\n",
    "- cluster 0, 1: board members in these groups are general members with low inlfuence in their networks"
   ]
  },
  {
   "cell_type": "code",
   "execution_count": 43,
   "id": "5a85990f",
   "metadata": {},
   "outputs": [
    {
     "data": {
      "image/png": "[encoded data removed]",
      "text/plain": [
       "<Figure size 1200x600 with 1 Axes>"
      ]
     },
     "metadata": {},
     "output_type": "display_data"
    }
   ],
   "source": [
    "# Scale the three centrality measures \n",
    "\n",
    "centrality_cols = ['degree', 'eigen', 'betweenness']\n",
    "scaler = MinMaxScaler()\n",
    "scaled_values = scaler.fit_transform(cluster_analysis[centrality_cols])\n",
    "\n",
    "# Make a dataframe with the scaled centrality measures\n",
    "\n",
    "scaled_df = cluster_analysis[['cluster_id']].copy()\n",
    "scaled_df[centrality_cols] = scaled_values\n",
    "\n",
    "# Visualize the scaled centrality measures\n",
    "\n",
    "melted = pd.melt(\n",
    "    scaled_df,\n",
    "    id_vars='cluster_id',\n",
    "    value_vars=centrality_cols,\n",
    "    var_name='centrality',\n",
    "    value_name='scaled_value'\n",
    ")\n",
    "\n",
    "plt.figure(figsize = (12, 6))\n",
    "sns.barplot(data = melted, x = 'cluster_id', y = 'scaled_value', hue = 'centrality')\n",
    "plt.title(\"Scaled Centrality Comparison by Cluster\")\n",
    "plt.ylabel(\"Scaled Value (0-1)\")\n",
    "plt.xlabel(\"Cluster (Group)\")\n",
    "plt.legend(title = 'Centrality')\n",
    "plt.tight_layout()\n",
    "plt.show()\n",
    "\n"
   ]
  },
  {
   "cell_type": "markdown",
   "id": "d3fb7e7f",
   "metadata": {},
   "source": [
    "# 7. Conclusion"
   ]
  },
  {
   "cell_type": "markdown",
   "id": "1c1af5a4",
   "metadata": {},
   "source": [
    "This data analysis project was conducted to identify key board members who can support selling the company, Morris_Inc_PLC. There were two approaches identifying key board members.\n",
    "\n",
    "- M&A approach:\n",
    "\n",
    "    This analysis identified key board members from big IT companies acquiring multiple IT companies, indicating connections with the acquired companies that can be potential buyers. \n",
    "\n",
    "- Network centrality approach:\n",
    "\n",
    "    Through analyzing three network centrality measures, this analysis identified the top 20 board members with the highest degree and eigenvector centrality. They have broad networks and significant influence in decision-makings based on connections with influential individuals. Also, it identified the top 20 board members with the highest betweenness centrality. They can play as brokers and they have significant influence in their networks. In addition, board members were grouped into distinct clusters that can be defined by centrality characteristics. The groups will offer various strategies depending on situations.\n",
    "\n",
    "Furthermore, this analysis found three insights that are supportive in selecting board members to contact. When it comes to age, board members aged between 60 and 89 are likely to serve at more companies, suggesting more opportunities in broadening networks. Then, regarding gender, female board members have more direct connections with influential individuals, compared to male board members. Lastly, board members with high compensations tend to serve at more companies."
   ]
  }
 ],
 "metadata": {
  "kernelspec": {
   "display_name": "base",
   "language": "python",
   "name": "python3"
  },
  "language_info": {
   "codemirror_mode": {
    "name": "ipython",
    "version": 3
   },
   "file_extension": ".py",
   "mimetype": "text/x-python",
   "name": "python",
   "nbconvert_exporter": "python",
   "pygments_lexer": "ipython3",
   "version": "3.11.5"
  }
 },
 "nbformat": 4,
 "nbformat_minor": 5
}
