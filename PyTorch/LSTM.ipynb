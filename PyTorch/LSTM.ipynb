{
 "cells": [
  {
   "cell_type": "markdown",
   "id": "3666ea8a",
   "metadata": {},
   "source": [
    "# Import Data"
   ]
  },
  {
   "cell_type": "code",
   "execution_count": null,
   "id": "e9e9633f",
   "metadata": {},
   "outputs": [],
   "source": [
    "import pandas as pd\n",
    "import numpy as np"
   ]
  },
  {
   "cell_type": "code",
   "execution_count": 3,
   "id": "6e62d2c1",
   "metadata": {},
   "outputs": [
    {
     "data": {
      "text/html": [
       "<div>\n",
       "<style scoped>\n",
       "    .dataframe tbody tr th:only-of-type {\n",
       "        vertical-align: middle;\n",
       "    }\n",
       "\n",
       "    .dataframe tbody tr th {\n",
       "        vertical-align: top;\n",
       "    }\n",
       "\n",
       "    .dataframe thead th {\n",
       "        text-align: right;\n",
       "    }\n",
       "</style>\n",
       "<table border=\"1\" class=\"dataframe\">\n",
       "  <thead>\n",
       "    <tr style=\"text-align: right;\">\n",
       "      <th></th>\n",
       "      <th>Date Time</th>\n",
       "      <th>p (mbar)</th>\n",
       "      <th>T (degC)</th>\n",
       "      <th>Tpot (K)</th>\n",
       "      <th>Tdew (degC)</th>\n",
       "      <th>rh (%)</th>\n",
       "      <th>VPmax (mbar)</th>\n",
       "      <th>VPact (mbar)</th>\n",
       "      <th>VPdef (mbar)</th>\n",
       "      <th>sh (g/kg)</th>\n",
       "      <th>H2OC (mmol/mol)</th>\n",
       "      <th>rho (g/m**3)</th>\n",
       "      <th>wv (m/s)</th>\n",
       "      <th>max. wv (m/s)</th>\n",
       "      <th>wd (deg)</th>\n",
       "    </tr>\n",
       "  </thead>\n",
       "  <tbody>\n",
       "    <tr>\n",
       "      <th>0</th>\n",
       "      <td>01.01.2009 00:10:00</td>\n",
       "      <td>996.52</td>\n",
       "      <td>-8.02</td>\n",
       "      <td>265.40</td>\n",
       "      <td>-8.90</td>\n",
       "      <td>93.3</td>\n",
       "      <td>3.33</td>\n",
       "      <td>3.11</td>\n",
       "      <td>0.22</td>\n",
       "      <td>1.94</td>\n",
       "      <td>3.12</td>\n",
       "      <td>1307.75</td>\n",
       "      <td>1.03</td>\n",
       "      <td>1.75</td>\n",
       "      <td>152.3</td>\n",
       "    </tr>\n",
       "    <tr>\n",
       "      <th>1</th>\n",
       "      <td>01.01.2009 00:20:00</td>\n",
       "      <td>996.57</td>\n",
       "      <td>-8.41</td>\n",
       "      <td>265.01</td>\n",
       "      <td>-9.28</td>\n",
       "      <td>93.4</td>\n",
       "      <td>3.23</td>\n",
       "      <td>3.02</td>\n",
       "      <td>0.21</td>\n",
       "      <td>1.89</td>\n",
       "      <td>3.03</td>\n",
       "      <td>1309.80</td>\n",
       "      <td>0.72</td>\n",
       "      <td>1.50</td>\n",
       "      <td>136.1</td>\n",
       "    </tr>\n",
       "    <tr>\n",
       "      <th>2</th>\n",
       "      <td>01.01.2009 00:30:00</td>\n",
       "      <td>996.53</td>\n",
       "      <td>-8.51</td>\n",
       "      <td>264.91</td>\n",
       "      <td>-9.31</td>\n",
       "      <td>93.9</td>\n",
       "      <td>3.21</td>\n",
       "      <td>3.01</td>\n",
       "      <td>0.20</td>\n",
       "      <td>1.88</td>\n",
       "      <td>3.02</td>\n",
       "      <td>1310.24</td>\n",
       "      <td>0.19</td>\n",
       "      <td>0.63</td>\n",
       "      <td>171.6</td>\n",
       "    </tr>\n",
       "    <tr>\n",
       "      <th>3</th>\n",
       "      <td>01.01.2009 00:40:00</td>\n",
       "      <td>996.51</td>\n",
       "      <td>-8.31</td>\n",
       "      <td>265.12</td>\n",
       "      <td>-9.07</td>\n",
       "      <td>94.2</td>\n",
       "      <td>3.26</td>\n",
       "      <td>3.07</td>\n",
       "      <td>0.19</td>\n",
       "      <td>1.92</td>\n",
       "      <td>3.08</td>\n",
       "      <td>1309.19</td>\n",
       "      <td>0.34</td>\n",
       "      <td>0.50</td>\n",
       "      <td>198.0</td>\n",
       "    </tr>\n",
       "    <tr>\n",
       "      <th>4</th>\n",
       "      <td>01.01.2009 00:50:00</td>\n",
       "      <td>996.51</td>\n",
       "      <td>-8.27</td>\n",
       "      <td>265.15</td>\n",
       "      <td>-9.04</td>\n",
       "      <td>94.1</td>\n",
       "      <td>3.27</td>\n",
       "      <td>3.08</td>\n",
       "      <td>0.19</td>\n",
       "      <td>1.92</td>\n",
       "      <td>3.09</td>\n",
       "      <td>1309.00</td>\n",
       "      <td>0.32</td>\n",
       "      <td>0.63</td>\n",
       "      <td>214.3</td>\n",
       "    </tr>\n",
       "  </tbody>\n",
       "</table>\n",
       "</div>"
      ],
      "text/plain": [
       "             Date Time  p (mbar)  T (degC)  Tpot (K)  Tdew (degC)  rh (%)  \\\n",
       "0  01.01.2009 00:10:00    996.52     -8.02    265.40        -8.90    93.3   \n",
       "1  01.01.2009 00:20:00    996.57     -8.41    265.01        -9.28    93.4   \n",
       "2  01.01.2009 00:30:00    996.53     -8.51    264.91        -9.31    93.9   \n",
       "3  01.01.2009 00:40:00    996.51     -8.31    265.12        -9.07    94.2   \n",
       "4  01.01.2009 00:50:00    996.51     -8.27    265.15        -9.04    94.1   \n",
       "\n",
       "   VPmax (mbar)  VPact (mbar)  VPdef (mbar)  sh (g/kg)  H2OC (mmol/mol)  \\\n",
       "0          3.33          3.11          0.22       1.94             3.12   \n",
       "1          3.23          3.02          0.21       1.89             3.03   \n",
       "2          3.21          3.01          0.20       1.88             3.02   \n",
       "3          3.26          3.07          0.19       1.92             3.08   \n",
       "4          3.27          3.08          0.19       1.92             3.09   \n",
       "\n",
       "   rho (g/m**3)  wv (m/s)  max. wv (m/s)  wd (deg)  \n",
       "0       1307.75      1.03           1.75     152.3  \n",
       "1       1309.80      0.72           1.50     136.1  \n",
       "2       1310.24      0.19           0.63     171.6  \n",
       "3       1309.19      0.34           0.50     198.0  \n",
       "4       1309.00      0.32           0.63     214.3  "
      ]
     },
     "execution_count": 3,
     "metadata": {},
     "output_type": "execute_result"
    }
   ],
   "source": [
    "df = pd.read_csv(\"jena_climate_2009_2016.csv\")\n",
    "df.head()"
   ]
  },
  {
   "cell_type": "code",
   "execution_count": 4,
   "id": "3496bf1c",
   "metadata": {},
   "outputs": [],
   "source": [
    "temperatures = df['T (degC)']\n",
    "temperatures.index = df['Date Time']"
   ]
  },
  {
   "cell_type": "code",
   "execution_count": 5,
   "id": "2d18e9bc",
   "metadata": {},
   "outputs": [
    {
     "data": {
      "text/plain": [
       "<Axes: xlabel='Date Time'>"
      ]
     },
     "execution_count": 5,
     "metadata": {},
     "output_type": "execute_result"
    },
    {
     "data": {
      "image/png": "[encoded data removed]",
      "text/plain": [
       "<Figure size 640x480 with 1 Axes>"
      ]
     },
     "metadata": {},
     "output_type": "display_data"
    }
   ],
   "source": [
    "temperatures.plot()"
   ]
  },
  {
   "cell_type": "markdown",
   "id": "5ee8aca2",
   "metadata": {},
   "source": [
    "# LSTM Model"
   ]
  },
  {
   "cell_type": "code",
   "execution_count": 6,
   "id": "a07f3f7a",
   "metadata": {},
   "outputs": [],
   "source": [
    "import torch\n",
    "import torch.nn as nn"
   ]
  },
  {
   "cell_type": "code",
   "execution_count": 7,
   "id": "a3f52daf",
   "metadata": {},
   "outputs": [
    {
     "data": {
      "text/plain": [
       "torch.Size([2, 10, 3])"
      ]
     },
     "execution_count": 7,
     "metadata": {},
     "output_type": "execute_result"
    }
   ],
   "source": [
    "num_features = 3\n",
    "sequence_length = 10\n",
    "batch_size = 2\n",
    "\n",
    "x = torch.randn(batch_size, sequence_length, num_features)\n",
    "x.size()"
   ]
  },
  {
   "cell_type": "code",
   "execution_count": 8,
   "id": "340c7f16",
   "metadata": {},
   "outputs": [],
   "source": [
    "lstm_layer = nn.LSTM(\n",
    "    input_size = num_features,\n",
    "    hidden_size = 8,\n",
    "    num_layers = 4,\n",
    "    batch_first = True, # False일 시 입력 형태: [시퀀스 길이, 배치 크기, 피처 개수]\n",
    ")"
   ]
  },
  {
   "cell_type": "code",
   "execution_count": 9,
   "id": "89597c22",
   "metadata": {},
   "outputs": [],
   "source": [
    "y = lstm_layer(x)"
   ]
  },
  {
   "cell_type": "code",
   "execution_count": 10,
   "id": "36ad4eb5",
   "metadata": {},
   "outputs": [
    {
     "data": {
      "text/plain": [
       "tensor([[[-0.1170, -0.0039, -0.0707,  0.1453, -0.0455,  0.0787, -0.0252,\n",
       "           0.1104],\n",
       "         [-0.1921, -0.0081, -0.1075,  0.2416, -0.0593,  0.1142, -0.0492,\n",
       "           0.1763],\n",
       "         [-0.2371, -0.0101, -0.1243,  0.3012, -0.0633,  0.1293, -0.0677,\n",
       "           0.2132],\n",
       "         [-0.2628, -0.0105, -0.1314,  0.3374, -0.0653,  0.1350, -0.0813,\n",
       "           0.2336],\n",
       "         [-0.2773, -0.0099, -0.1337,  0.3593, -0.0670,  0.1372, -0.0908,\n",
       "           0.2446],\n",
       "         [-0.2854, -0.0096, -0.1342,  0.3727, -0.0685,  0.1384, -0.0969,\n",
       "           0.2506],\n",
       "         [-0.2899, -0.0090, -0.1341,  0.3813, -0.0696,  0.1392, -0.1008,\n",
       "           0.2539],\n",
       "         [-0.2924, -0.0084, -0.1340,  0.3867, -0.0703,  0.1397, -0.1034,\n",
       "           0.2556],\n",
       "         [-0.2938, -0.0077, -0.1339,  0.3900, -0.0708,  0.1397, -0.1053,\n",
       "           0.2567],\n",
       "         [-0.2947, -0.0070, -0.1336,  0.3916, -0.0711,  0.1398, -0.1066,\n",
       "           0.2571]],\n",
       "\n",
       "        [[-0.1169, -0.0035, -0.0708,  0.1453, -0.0458,  0.0782, -0.0256,\n",
       "           0.1102],\n",
       "         [-0.1920, -0.0072, -0.1077,  0.2415, -0.0597,  0.1135, -0.0502,\n",
       "           0.1760],\n",
       "         [-0.2366, -0.0092, -0.1244,  0.3011, -0.0641,  0.1283, -0.0694,\n",
       "           0.2129],\n",
       "         [-0.2625, -0.0096, -0.1312,  0.3371, -0.0659,  0.1348, -0.0825,\n",
       "           0.2331],\n",
       "         [-0.2772, -0.0097, -0.1336,  0.3590, -0.0672,  0.1377, -0.0911,\n",
       "           0.2443],\n",
       "         [-0.2854, -0.0099, -0.1341,  0.3726, -0.0684,  0.1391, -0.0966,\n",
       "           0.2505],\n",
       "         [-0.2900, -0.0094, -0.1341,  0.3814, -0.0694,  0.1398, -0.1002,\n",
       "           0.2538],\n",
       "         [-0.2926, -0.0089, -0.1340,  0.3868, -0.0701,  0.1400, -0.1027,\n",
       "           0.2556],\n",
       "         [-0.2940, -0.0084, -0.1337,  0.3901, -0.0707,  0.1399, -0.1046,\n",
       "           0.2567],\n",
       "         [-0.2947, -0.0079, -0.1336,  0.3920, -0.0711,  0.1399, -0.1059,\n",
       "           0.2573]]], grad_fn=<TransposeBackward0>)"
      ]
     },
     "execution_count": 10,
     "metadata": {},
     "output_type": "execute_result"
    }
   ],
   "source": [
    "y[0]"
   ]
  },
  {
   "cell_type": "code",
   "execution_count": 11,
   "id": "eaf28b8f",
   "metadata": {},
   "outputs": [],
   "source": [
    "output, (h_n, c_n) = lstm_layer(x)"
   ]
  },
  {
   "cell_type": "code",
   "execution_count": 12,
   "id": "375d51f4",
   "metadata": {},
   "outputs": [
    {
     "data": {
      "text/plain": [
       "torch.Size([2, 10, 8])"
      ]
     },
     "execution_count": 12,
     "metadata": {},
     "output_type": "execute_result"
    }
   ],
   "source": [
    "output.size()"
   ]
  },
  {
   "cell_type": "code",
   "execution_count": 13,
   "id": "bb27cfb5",
   "metadata": {},
   "outputs": [
    {
     "data": {
      "text/plain": [
       "torch.Size([4, 2, 8])"
      ]
     },
     "execution_count": 13,
     "metadata": {},
     "output_type": "execute_result"
    }
   ],
   "source": [
    "h_n.size()"
   ]
  },
  {
   "cell_type": "code",
   "execution_count": 14,
   "id": "e378b755",
   "metadata": {},
   "outputs": [
    {
     "data": {
      "text/plain": [
       "torch.Size([4, 2, 8])"
      ]
     },
     "execution_count": 14,
     "metadata": {},
     "output_type": "execute_result"
    }
   ],
   "source": [
    "c_n.size()"
   ]
  },
  {
   "cell_type": "code",
   "execution_count": 15,
   "id": "45b3d649",
   "metadata": {},
   "outputs": [
    {
     "name": "stdout",
     "output_type": "stream",
     "text": [
      "tensor([[-0.2947, -0.0070, -0.1336,  0.3916, -0.0711,  0.1398, -0.1066,  0.2571],\n",
      "        [-0.2947, -0.0079, -0.1336,  0.3920, -0.0711,  0.1399, -0.1059,  0.2573]],\n",
      "       grad_fn=<SliceBackward0>)\n",
      "tensor([[-0.2947, -0.0070, -0.1336,  0.3916, -0.0711,  0.1398, -0.1066,  0.2571],\n",
      "        [-0.2947, -0.0079, -0.1336,  0.3920, -0.0711,  0.1399, -0.1059,  0.2573]],\n",
      "       grad_fn=<SliceBackward0>)\n"
     ]
    }
   ],
   "source": [
    "print(output[:, -1, :])\n",
    "print(h_n[-1, :, :])"
   ]
  },
  {
   "cell_type": "code",
   "execution_count": 16,
   "id": "273ac764",
   "metadata": {},
   "outputs": [],
   "source": [
    "class LSTMModel(nn.Module):\n",
    "    def __init__(self):\n",
    "        super().__init__()\n",
    "        self.lstm = nn.LSTM(3, 8, 4, batch_first=True)\n",
    "        self.linear = nn.Linear(8, 1)\n",
    "\n",
    "    def forward(self, x):\n",
    "        lstm_output, _ = self.lstm(x)\n",
    "        output = self.linear(lstm_output)\n",
    "\n",
    "        return output"
   ]
  },
  {
   "cell_type": "code",
   "execution_count": 17,
   "id": "a8fa3cbe",
   "metadata": {},
   "outputs": [
    {
     "data": {
      "text/plain": [
       "torch.Size([2, 10, 1])"
      ]
     },
     "execution_count": 17,
     "metadata": {},
     "output_type": "execute_result"
    }
   ],
   "source": [
    "lstm_model = LSTMModel()\n",
    "x = torch.randn(2, 10, 3)\n",
    "y = lstm_model(x)\n",
    "\n",
    "y.size()"
   ]
  },
  {
   "cell_type": "markdown",
   "id": "bd2b23db",
   "metadata": {},
   "source": [
    "# Prepare Data"
   ]
  },
  {
   "cell_type": "code",
   "execution_count": 18,
   "id": "f6a30ca9",
   "metadata": {},
   "outputs": [],
   "source": [
    "temperatures = df[['T (degC)']].to_numpy().astype(np.float32)\n",
    "temperatures = temperatures[:50000]"
   ]
  },
  {
   "cell_type": "code",
   "execution_count": 19,
   "id": "59310e9f",
   "metadata": {},
   "outputs": [],
   "source": [
    "num_data = len(temperatures)\n",
    "\n",
    "train_size = int(num_data * 0.8)\n",
    "val_size = int(num_data * 0.1)\n",
    "\n",
    "train_data = temperatures[:train_size]\n",
    "val_data = temperatures[train_size:train_size + val_size]\n",
    "test_data = temperatures[train_size + val_size:]"
   ]
  },
  {
   "cell_type": "code",
   "execution_count": 20,
   "id": "4a75116d",
   "metadata": {},
   "outputs": [
    {
     "name": "stdout",
     "output_type": "stream",
     "text": [
      "max: 32.97999954223633, min: -23.010000228881836\n"
     ]
    }
   ],
   "source": [
    "print(f'max: {train_data.max()}, min: {train_data.min()}')"
   ]
  },
  {
   "cell_type": "code",
   "execution_count": 21,
   "id": "a48e30bb",
   "metadata": {},
   "outputs": [],
   "source": [
    "from sklearn.preprocessing import StandardScaler\n",
    "\n",
    "scaler = StandardScaler()\n",
    "scaler.fit(train_data)\n",
    "\n",
    "train_data_scaled = scaler.transform(train_data)\n",
    "val_data_scaled = scaler.transform(val_data)\n",
    "test_data_scaled = scaler.transform(test_data)"
   ]
  },
  {
   "cell_type": "code",
   "execution_count": 22,
   "id": "43459a19",
   "metadata": {},
   "outputs": [
    {
     "name": "stdout",
     "output_type": "stream",
     "text": [
      "max: 2.6188, min: -3.8247\n",
      "mean: 0.0000, std: 1.0000\n"
     ]
    }
   ],
   "source": [
    "print(f'max: {train_data_scaled.max():.4f}, min: {train_data_scaled.min():.4f}')\n",
    "print(f'mean: {train_data_scaled.mean():.4f}, std: {train_data_scaled.std():.4f}')"
   ]
  },
  {
   "cell_type": "code",
   "execution_count": 23,
   "id": "5c4d682c",
   "metadata": {},
   "outputs": [],
   "source": [
    "import torch\n",
    "from torch.utils.data import Dataset\n",
    "\n",
    "class JenaTemperatureDataset(Dataset):\n",
    "    def __init__(self, temperatures, sequence_length):\n",
    "        self.temperatures = temperatures\n",
    "        self.sequence_length = sequence_length\n",
    "\n",
    "    def __getitem__(self, index):\n",
    "        inputs = self.temperatures[index:index+self.sequence_length]\n",
    "        targets = self.temperatures[index+1:index+self.sequence_length+1]\n",
    "\n",
    "        return torch.tensor(inputs), torch.tensor(targets)\n",
    "\n",
    "    def __len__(self):\n",
    "        return len(self.temperatures) - self.sequence_length"
   ]
  },
  {
   "cell_type": "code",
   "execution_count": 24,
   "id": "4071e736",
   "metadata": {},
   "outputs": [],
   "source": [
    "sequence_length = 24\n",
    "train_dataset = JenaTemperatureDataset(train_data_scaled, sequence_length)\n",
    "val_dataset = JenaTemperatureDataset(val_data_scaled, sequence_length)\n",
    "test_dataset = JenaTemperatureDataset(test_data_scaled, sequence_length)"
   ]
  },
  {
   "cell_type": "code",
   "execution_count": 28,
   "id": "f110a001",
   "metadata": {},
   "outputs": [],
   "source": [
    "# 데이터로더\n",
    "train_dataloader = DataLoader(train_dataset, batch_size=128, shuffle=True, drop_last=True)\n",
    "val_dataloader = DataLoader(val_dataset, batch_size=128)\n",
    "test_dataloader = DataLoader(test_dataset, batch_size=128)"
   ]
  },
  {
   "cell_type": "code",
   "execution_count": 25,
   "id": "390b516c",
   "metadata": {},
   "outputs": [
    {
     "name": "stdout",
     "output_type": "stream",
     "text": [
      "original\n",
      "[[-2.0995972]\n",
      " [-2.144479 ]\n",
      " [-2.1559873]\n",
      " [-2.1329708]\n",
      " [-2.1283677]\n",
      " [-2.1030495]\n",
      " [-2.0535643]\n",
      " [-2.0535643]\n",
      " [-2.0869381]\n",
      " [-2.1467807]\n",
      " [-2.184758 ]]\n",
      "\n",
      "inputs 0\n",
      "tensor([[-2.0996],\n",
      "        [-2.1445],\n",
      "        [-2.1560],\n",
      "        [-2.1330],\n",
      "        [-2.1284],\n",
      "        [-2.1030],\n",
      "        [-2.0536],\n",
      "        [-2.0536],\n",
      "        [-2.0869],\n",
      "        [-2.1468]])\n",
      "\n",
      "targets 0\n",
      "tensor([[-2.1445],\n",
      "        [-2.1560],\n",
      "        [-2.1330],\n",
      "        [-2.1284],\n",
      "        [-2.1030],\n",
      "        [-2.0536],\n",
      "        [-2.0536],\n",
      "        [-2.0869],\n",
      "        [-2.1468],\n",
      "        [-2.1848]])\n",
      "\n"
     ]
    }
   ],
   "source": [
    "index = 0\n",
    "print(f'original\\n{train_data_scaled[:sequence_length+1]}\\n')\n",
    "print(f'inputs {index}\\n{train_dataset[index][0]}\\n')\n",
    "print(f'targets {index}\\n{train_dataset[index][1]}\\n')"
   ]
  },
  {
   "cell_type": "markdown",
   "id": "f29cfbf3",
   "metadata": {},
   "source": [
    "# Train the Model"
   ]
  },
  {
   "cell_type": "code",
   "execution_count": 26,
   "id": "af397734",
   "metadata": {},
   "outputs": [],
   "source": [
    "import pandas as pd\n",
    "import numpy as np\n",
    "from sklearn.preprocessing import StandardScaler\n",
    "\n",
    "import torch\n",
    "import torch.nn as nn\n",
    "import torch.nn.functional as F\n",
    "import torch.optim as optim\n",
    "from torch.utils.data import Dataset, DataLoader"
   ]
  },
  {
   "cell_type": "code",
   "execution_count": 29,
   "id": "39b1d471",
   "metadata": {},
   "outputs": [
    {
     "data": {
      "text/plain": [
       "LSTMModel(\n",
       "  (lstm): LSTM(1, 32, num_layers=2, batch_first=True)\n",
       "  (linear): Linear(in_features=32, out_features=1, bias=True)\n",
       ")"
      ]
     },
     "execution_count": 29,
     "metadata": {},
     "output_type": "execute_result"
    }
   ],
   "source": [
    "# 모델\n",
    "class LSTMModel(nn.Module):\n",
    "    def __init__(self):\n",
    "        super().__init__()\n",
    "        self.lstm = nn.LSTM(\n",
    "            input_size=1,\n",
    "            hidden_size=32,\n",
    "            num_layers=2,\n",
    "            batch_first=True,\n",
    "        )\n",
    "        self.linear = nn.Linear(32, 1)\n",
    "\n",
    "    def forward(self, x):\n",
    "        lstm_output, _ = self.lstm(x)\n",
    "        output = self.linear(lstm_output)\n",
    "\n",
    "        return output\n",
    "\n",
    "\n",
    "model = LSTMModel()\n",
    "\n",
    "device = torch.device('cuda' if torch.cuda.is_available() else 'cpu')\n",
    "model.to(device)"
   ]
  },
  {
   "cell_type": "code",
   "execution_count": 30,
   "id": "37eef02f",
   "metadata": {},
   "outputs": [],
   "source": [
    "loss_fn = nn.MSELoss()\n",
    "optimizer = optim.Adam(model.parameters())"
   ]
  },
  {
   "cell_type": "code",
   "execution_count": 31,
   "id": "78c99665",
   "metadata": {},
   "outputs": [
    {
     "name": "stdout",
     "output_type": "stream",
     "text": [
      "step 100, train loss: 0.3457\n",
      "step 200, train loss: 0.0548\n",
      "step 300, train loss: 0.0171\n",
      "\n",
      "epoch 1/5, val loss: 0.0053\n",
      "\n",
      "step 400, train loss: 0.0065\n",
      "step 500, train loss: 0.0035\n",
      "step 600, train loss: 0.0020\n",
      "\n",
      "epoch 2/5, val loss: 0.0010\n",
      "\n",
      "step 700, train loss: 0.0022\n",
      "step 800, train loss: 0.0015\n",
      "step 900, train loss: 0.0023\n",
      "\n",
      "epoch 3/5, val loss: 0.0008\n",
      "\n",
      "step 1000, train loss: 0.0014\n",
      "step 1100, train loss: 0.0012\n",
      "step 1200, train loss: 0.0020\n",
      "\n",
      "epoch 4/5, val loss: 0.0006\n",
      "\n",
      "step 1300, train loss: 0.0012\n",
      "step 1400, train loss: 0.0018\n",
      "step 1500, train loss: 0.0011\n",
      "\n",
      "epoch 5/5, val loss: 0.0005\n",
      "\n"
     ]
    }
   ],
   "source": [
    "epochs = 5\n",
    "step = 0\n",
    "for epoch in range(epochs):\n",
    "    model.train()\n",
    "    for train_batch in train_dataloader:\n",
    "        inputs = train_batch[0].to(device)\n",
    "        targets = train_batch[1].to(device)\n",
    "        preds = model(inputs)\n",
    "        loss = loss_fn(preds, targets)\n",
    "\n",
    "        loss.backward()\n",
    "        optimizer.step()\n",
    "        optimizer.zero_grad()\n",
    "\n",
    "        step += 1\n",
    "        if step % 100 == 0:\n",
    "            print(f'step {step}, train loss: {loss.item():.4f}')\n",
    "\n",
    "    model.eval()\n",
    "    with torch.no_grad():\n",
    "        losses = []\n",
    "        for val_batch in val_dataloader:\n",
    "            inputs = val_batch[0].to(device)\n",
    "            targets = val_batch[1].to(device)\n",
    "            preds = model(inputs)\n",
    "            loss = loss_fn(preds, targets)\n",
    "            losses.append(loss.item())\n",
    "\n",
    "    val_loss_avg = sum(losses) / len(losses)\n",
    "    print(f'\\nepoch {epoch+1}/{epochs}, val loss: {val_loss_avg:.4f}\\n')"
   ]
  },
  {
   "cell_type": "code",
   "execution_count": 32,
   "id": "4e585908",
   "metadata": {},
   "outputs": [],
   "source": [
    "test_preds = []\n",
    "model.eval()\n",
    "with torch.no_grad():\n",
    "    for test_batch in test_dataloader:\n",
    "        inputs = test_batch[0].to(device)\n",
    "        preds = model(inputs) # [batch size, sequence length, 1]\n",
    "        test_preds.append(preds[:, -1, :])\n",
    "\n",
    "    test_preds = torch.cat(test_preds, dim=0)\n",
    "    test_preds = test_preds.cpu().numpy()\n",
    "    test_preds = scaler.inverse_transform(test_preds)"
   ]
  },
  {
   "cell_type": "code",
   "execution_count": 33,
   "id": "58ac3885",
   "metadata": {},
   "outputs": [],
   "source": [
    "test_targets = test_data[sequence_length:]"
   ]
  },
  {
   "cell_type": "code",
   "execution_count": 34,
   "id": "aa88fd12",
   "metadata": {},
   "outputs": [
    {
     "data": {
      "image/png": "[encoded data removed]",
      "text/plain": [
       "<Figure size 640x480 with 1 Axes>"
      ]
     },
     "metadata": {},
     "output_type": "display_data"
    }
   ],
   "source": [
    "import matplotlib.pyplot as plt\n",
    "\n",
    "plt.plot(test_targets[:200], color='blue', label='Actual Temperature')\n",
    "plt.plot(test_preds[:200], color='red', label='Predicted Temperature')\n",
    "plt.legend()\n",
    "plt.show()"
   ]
  },
  {
   "cell_type": "code",
   "execution_count": null,
   "id": "292d89cb",
   "metadata": {},
   "outputs": [],
   "source": []
  },
  {
   "cell_type": "code",
   "execution_count": null,
   "id": "9860a87f",
   "metadata": {},
   "outputs": [],
   "source": []
  }
 ],
 "metadata": {
  "kernelspec": {
   "display_name": "Python 3 (ipykernel)",
   "language": "python",
   "name": "python3"
  },
  "language_info": {
   "codemirror_mode": {
    "name": "ipython",
    "version": 3
   },
   "file_extension": ".py",
   "mimetype": "text/x-python",
   "name": "python",
   "nbconvert_exporter": "python",
   "pygments_lexer": "ipython3",
   "version": "3.11.5"
  }
 },
 "nbformat": 4,
 "nbformat_minor": 5
}
