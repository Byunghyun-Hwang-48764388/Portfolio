{
 "cells": [
  {
   "cell_type": "markdown",
   "id": "754dca29",
   "metadata": {},
   "source": [
    "## Linear Model"
   ]
  },
  {
   "cell_type": "code",
   "execution_count": 1,
   "id": "9407da3c",
   "metadata": {
    "scrolled": true
   },
   "outputs": [],
   "source": [
    "# pip install torch"
   ]
  },
  {
   "cell_type": "code",
   "execution_count": 2,
   "id": "dada663a",
   "metadata": {
    "scrolled": true
   },
   "outputs": [],
   "source": [
    "import torch \n",
    "import torch.nn as nn"
   ]
  },
  {
   "cell_type": "code",
   "execution_count": 3,
   "id": "d87e39f5",
   "metadata": {},
   "outputs": [],
   "source": [
    "layer = nn.Linear(in_features = 8, out_features = 4)"
   ]
  },
  {
   "cell_type": "code",
   "execution_count": 4,
   "id": "c144a4f5",
   "metadata": {},
   "outputs": [
    {
     "data": {
      "text/plain": [
       "tensor([[ 0.1101,  0.9701,  0.5838,  0.0463],\n",
       "        [-0.9505,  2.1525, -0.1506,  0.2567]], grad_fn=<AddmmBackward0>)"
      ]
     },
     "execution_count": 4,
     "metadata": {},
     "output_type": "execute_result"
    }
   ],
   "source": [
    "x = torch.randn(2, 8) # 8 inputs \n",
    "y = layer(x)\n",
    "y # 4 outputs"
   ]
  },
  {
   "cell_type": "code",
   "execution_count": 5,
   "id": "8c262400",
   "metadata": {},
   "outputs": [],
   "source": [
    "relu = nn.ReLU()\n",
    "softmax = nn.Softmax()"
   ]
  },
  {
   "cell_type": "code",
   "execution_count": 6,
   "id": "38ed4d1c",
   "metadata": {},
   "outputs": [
    {
     "name": "stdout",
     "output_type": "stream",
     "text": [
      "input: tensor([[0.9953, 0.8136, 0.3515, 1.3711]])\n",
      "output: tensor([[0.9953, 0.8136, 0.3515, 1.3711]])\n"
     ]
    }
   ],
   "source": [
    "x = torch.randn(1, 4)\n",
    "y = relu(x)\n",
    "\n",
    "print(f\"input: {x}\")\n",
    "print(f\"output: {y}\") # values smaller than 0 turn into 0"
   ]
  },
  {
   "cell_type": "code",
   "execution_count": 7,
   "id": "629bee61",
   "metadata": {},
   "outputs": [],
   "source": [
    "loss_mse = nn.MSELoss()\n",
    "loss_ce = nn.CrossEntropyLoss()"
   ]
  },
  {
   "cell_type": "markdown",
   "id": "6c48863b",
   "metadata": {},
   "source": [
    "## Make a Model (__init__)"
   ]
  },
  {
   "cell_type": "code",
   "execution_count": 8,
   "id": "04c0abfb",
   "metadata": {},
   "outputs": [],
   "source": [
    "class MyModel(nn.Module): \n",
    "    def __init__(self):\n",
    "        super().__init__()\n",
    "        self.linear0 = nn.Linear(8, 4)\n",
    "        self.linear1 = nn.Linear(4, 6)\n",
    "        self.linear2 = nn.Linear(6, 3)\n",
    "        self.relu = nn.ReLU()\n",
    "\n",
    "    def forward(self, x):\n",
    "        # h0_0 = self.linear0(x)\n",
    "        # h0_1 = self.relu(h0_0)\n",
    "\n",
    "        # h1_0 = self.linear1(h0_1)\n",
    "        # h1_1 = self.relu(h1_0)\n",
    "\n",
    "        # y = self.linear2(h1_1)\n",
    "\n",
    "        x = self.relu(self.linear0(x))\n",
    "        x = self.relu(self.linear1(x))\n",
    "        y = self.linear2(x)\n",
    "\n",
    "        return y"
   ]
  },
  {
   "cell_type": "code",
   "execution_count": 9,
   "id": "80c0b7f4",
   "metadata": {},
   "outputs": [
    {
     "data": {
      "text/plain": [
       "tensor([[0.3433, 0.4738, 0.0937],\n",
       "        [0.5001, 0.5378, 0.0642]], grad_fn=<AddmmBackward0>)"
      ]
     },
     "execution_count": 9,
     "metadata": {},
     "output_type": "execute_result"
    }
   ],
   "source": [
    "model = MyModel()\n",
    "\n",
    "input_tensor = torch.randn(2, 8)\n",
    "result = model(input_tensor)\n",
    "result"
   ]
  },
  {
   "cell_type": "code",
   "execution_count": 10,
   "id": "ef5c921f",
   "metadata": {},
   "outputs": [],
   "source": [
    "class MyModel2(nn.Module):\n",
    "    def __init__(self):\n",
    "        super().__init__()\n",
    "        self.block = MyModel()\n",
    "        self.layer = nn.Linear(3, 4)\n",
    "\n",
    "    def forward(self, x):\n",
    "        x = self.block(x)\n",
    "        y = self.layer(x)\n",
    "        return y"
   ]
  },
  {
   "cell_type": "code",
   "execution_count": 11,
   "id": "63fe0602",
   "metadata": {},
   "outputs": [
    {
     "data": {
      "text/plain": [
       "tensor([[0.3814, 0.6372, 0.2331, 0.4845],\n",
       "        [0.3263, 0.6033, 0.2093, 0.5136]], grad_fn=<AddmmBackward0>)"
      ]
     },
     "execution_count": 11,
     "metadata": {},
     "output_type": "execute_result"
    }
   ],
   "source": [
    "model2 = MyModel2()\n",
    "\n",
    "input_tensor = torch.randn(2, 8)\n",
    "result = model2(input_tensor)\n",
    "result"
   ]
  },
  {
   "cell_type": "markdown",
   "id": "f8acf152",
   "metadata": {},
   "source": [
    "## Make a Model (nn.Sequential)"
   ]
  },
  {
   "cell_type": "code",
   "execution_count": 12,
   "id": "6bc787d6",
   "metadata": {},
   "outputs": [],
   "source": [
    "model = nn.Sequential(\n",
    "    nn.Linear(8, 4), \n",
    "    nn.ReLU(), \n",
    "    nn.Linear(4, 6), \n",
    "    nn.ReLU(), \n",
    "    nn.Linear(6, 3),\n",
    ")"
   ]
  },
  {
   "cell_type": "code",
   "execution_count": 13,
   "id": "664b5b64",
   "metadata": {},
   "outputs": [],
   "source": [
    "class MyModelWithSequential(nn.Module):\n",
    "    def __init__(self):\n",
    "        super().__init__()\n",
    "        self.block = nn.Sequential(\n",
    "            nn.Linear(8, 4),\n",
    "            nn.ReLU(), \n",
    "            nn.Linear(4, 6), \n",
    "            nn.ReLU(), \n",
    "            nn.Linear(6, 3),\n",
    "        )\n",
    "        self.layer = nn.Linear(3, 4)\n",
    "        \n",
    "    def forward(self, x):\n",
    "        x = self.block(x)\n",
    "        y = self.layer(x)\n",
    "        return y"
   ]
  },
  {
   "cell_type": "markdown",
   "id": "fd4b2fc1",
   "metadata": {},
   "source": [
    "## Make Complex a Model (nn.Sequential)"
   ]
  },
  {
   "cell_type": "code",
   "execution_count": 14,
   "id": "61dd76af",
   "metadata": {},
   "outputs": [],
   "source": [
    "class ComplexModel(nn.Module):\n",
    "    def __init__(self):\n",
    "        super().__init__()\n",
    "        self.linear0_0 = nn.Linear(4, 8)\n",
    "        self.linear0_1 = nn.Linear(6, 4)\n",
    "        self.linear1_0 = nn.Linear(14, 8)\n",
    "        self.linear1_1 = nn.Linear(14, 2)\n",
    "        self.relu = nn.ReLU()\n",
    "\n",
    "    def forward(self, input0, input1, input2):\n",
    "        h0_0 = self.relu(self.linear0_0(input0))\n",
    "        h0_1 = self.relu(self.linear0_1(input1))\n",
    "\n",
    "        h1 = torch.cat([h0_0, h0_1, input2], dim=1)\n",
    "\n",
    "        output0 = self.linear1_0(h1)\n",
    "        output1 = self.linear1_1(h1)\n",
    "\n",
    "        return output0, output1"
   ]
  },
  {
   "cell_type": "code",
   "execution_count": 15,
   "id": "fb67228b",
   "metadata": {},
   "outputs": [],
   "source": [
    "model = ComplexModel()\n",
    "x0 = torch.randn(2, 4)\n",
    "x1 = torch.randn(2, 6)\n",
    "x2 = torch.randn(2, 2)\n",
    "\n",
    "y0, y1 = model(x0, x1, x2)"
   ]
  },
  {
   "cell_type": "code",
   "execution_count": 16,
   "id": "5fec7e00",
   "metadata": {},
   "outputs": [
    {
     "data": {
      "text/plain": [
       "torch.Size([2, 8])"
      ]
     },
     "execution_count": 16,
     "metadata": {},
     "output_type": "execute_result"
    }
   ],
   "source": [
    "y0.size()"
   ]
  },
  {
   "cell_type": "code",
   "execution_count": 17,
   "id": "e4f2864d",
   "metadata": {},
   "outputs": [
    {
     "data": {
      "text/plain": [
       "torch.Size([2, 2])"
      ]
     },
     "execution_count": 17,
     "metadata": {},
     "output_type": "execute_result"
    }
   ],
   "source": [
    "y1.size()"
   ]
  },
  {
   "cell_type": "markdown",
   "id": "c0cd27ff",
   "metadata": {},
   "source": [
    "## Check Model Infomation (nn.Sequential)"
   ]
  },
  {
   "cell_type": "code",
   "execution_count": 18,
   "id": "e1f68832",
   "metadata": {},
   "outputs": [],
   "source": [
    "class MyModel(nn.Module):\n",
    "    def __init__(self):\n",
    "        super().__init__()\n",
    "        self.linear0 = nn.Linear(8, 4)\n",
    "        self.linear1 = nn.Linear(4, 6)\n",
    "        self.linear2 = nn.Linear(6, 3)\n",
    "        self.relu = nn.ReLU()\n",
    "\n",
    "    def forward(self, x):\n",
    "        x = self.relu(self.linear0(x))\n",
    "        x = self.relu(self.linear1(x))\n",
    "        y = self.linear2(x)\n",
    "\n",
    "        return y\n",
    "\n",
    "model = MyModel()"
   ]
  },
  {
   "cell_type": "code",
   "execution_count": 19,
   "id": "191ecaa7",
   "metadata": {},
   "outputs": [
    {
     "name": "stdout",
     "output_type": "stream",
     "text": [
      "MyModel(\n",
      "  (linear0): Linear(in_features=8, out_features=4, bias=True)\n",
      "  (linear1): Linear(in_features=4, out_features=6, bias=True)\n",
      "  (linear2): Linear(in_features=6, out_features=3, bias=True)\n",
      "  (relu): ReLU()\n",
      ")\n"
     ]
    }
   ],
   "source": [
    "print(model)"
   ]
  },
  {
   "cell_type": "code",
   "execution_count": 20,
   "id": "9fb0d2f9",
   "metadata": {},
   "outputs": [
    {
     "name": "stdout",
     "output_type": "stream",
     "text": [
      "('linear0', Linear(in_features=8, out_features=4, bias=True))\n",
      "('linear1', Linear(in_features=4, out_features=6, bias=True))\n",
      "('linear2', Linear(in_features=6, out_features=3, bias=True))\n",
      "('relu', ReLU())\n"
     ]
    }
   ],
   "source": [
    "for named_child in model.named_children():\n",
    "    print(named_child)"
   ]
  },
  {
   "cell_type": "code",
   "execution_count": 21,
   "id": "6e0c5935",
   "metadata": {},
   "outputs": [
    {
     "name": "stdout",
     "output_type": "stream",
     "text": [
      "('linear0.weight', Parameter containing:\n",
      "tensor([[ 0.3491, -0.0545,  0.1050,  0.1350, -0.3137, -0.0488,  0.3285, -0.2807],\n",
      "        [-0.2333,  0.0934,  0.1911,  0.2568, -0.2380,  0.2089,  0.0557, -0.2580],\n",
      "        [ 0.3306, -0.3049,  0.2781,  0.0142, -0.1259,  0.1165,  0.2208,  0.1094],\n",
      "        [-0.1606,  0.2500,  0.0281,  0.1502,  0.0482, -0.1051, -0.1956,  0.2323]],\n",
      "       requires_grad=True))\n",
      "\n",
      "('linear0.bias', Parameter containing:\n",
      "tensor([0.3459, 0.2266, 0.2744, 0.2954], requires_grad=True))\n",
      "\n",
      "('linear1.weight', Parameter containing:\n",
      "tensor([[ 0.1448,  0.1579,  0.1504,  0.0565],\n",
      "        [ 0.4867, -0.3781,  0.3754,  0.0481],\n",
      "        [ 0.3440, -0.1201, -0.4998,  0.3746],\n",
      "        [ 0.3657,  0.0723, -0.2757,  0.1715],\n",
      "        [ 0.1759, -0.3892,  0.3169, -0.2436],\n",
      "        [ 0.2289, -0.3103,  0.4687, -0.0756]], requires_grad=True))\n",
      "\n",
      "('linear1.bias', Parameter containing:\n",
      "tensor([-0.3259, -0.4357, -0.1314, -0.1622,  0.2555,  0.4194],\n",
      "       requires_grad=True))\n",
      "\n",
      "('linear2.weight', Parameter containing:\n",
      "tensor([[ 0.2070,  0.3458, -0.3858,  0.3241, -0.3509, -0.1944],\n",
      "        [ 0.2935,  0.0104,  0.2546,  0.2149, -0.0895,  0.1482],\n",
      "        [-0.3556, -0.3296, -0.2669,  0.0538,  0.0463, -0.2737]],\n",
      "       requires_grad=True))\n",
      "\n",
      "('linear2.bias', Parameter containing:\n",
      "tensor([ 0.2210,  0.1296, -0.3129], requires_grad=True))\n",
      "\n"
     ]
    }
   ],
   "source": [
    "for named_param in model.named_parameters():\n",
    "    print(named_param)\n",
    "    print()"
   ]
  },
  {
   "cell_type": "code",
   "execution_count": 22,
   "id": "96b9d6e0",
   "metadata": {},
   "outputs": [],
   "source": [
    "class MyModel2(nn.Module):\n",
    "    def __init__(self):\n",
    "        super().__init__()\n",
    "        self.block = MyModel()\n",
    "        self.linear = nn.Linear(3, 4)\n",
    "\n",
    "    def forward(self, x):\n",
    "        x = self.block(x)\n",
    "        return self.linear(x)\n",
    "\n",
    "model2 = MyModel2()"
   ]
  },
  {
   "cell_type": "code",
   "execution_count": 23,
   "id": "30917b3a",
   "metadata": {},
   "outputs": [
    {
     "name": "stdout",
     "output_type": "stream",
     "text": [
      "('block', MyModel(\n",
      "  (linear0): Linear(in_features=8, out_features=4, bias=True)\n",
      "  (linear1): Linear(in_features=4, out_features=6, bias=True)\n",
      "  (linear2): Linear(in_features=6, out_features=3, bias=True)\n",
      "  (relu): ReLU()\n",
      "))\n",
      "('linear', Linear(in_features=3, out_features=4, bias=True))\n"
     ]
    }
   ],
   "source": [
    "for named_child in model2.named_children():\n",
    "    print(named_child)"
   ]
  },
  {
   "cell_type": "code",
   "execution_count": 24,
   "id": "6d58ecbc",
   "metadata": {},
   "outputs": [
    {
     "name": "stdout",
     "output_type": "stream",
     "text": [
      "('block.linear0.weight', Parameter containing:\n",
      "tensor([[ 0.3064,  0.2289, -0.1541, -0.1454, -0.1531, -0.2489, -0.0299, -0.2208],\n",
      "        [ 0.2402, -0.1411,  0.2501,  0.0321, -0.2328, -0.3393, -0.1009, -0.1297],\n",
      "        [ 0.3324, -0.0867,  0.1217, -0.2763,  0.1196,  0.1637,  0.1456,  0.1662],\n",
      "        [-0.1879,  0.0413, -0.2242,  0.0213, -0.2269,  0.1891, -0.2839, -0.1632]],\n",
      "       requires_grad=True))\n",
      "\n",
      "('block.linear0.bias', Parameter containing:\n",
      "tensor([ 0.1437,  0.3158,  0.3174, -0.0540], requires_grad=True))\n",
      "\n",
      "('block.linear1.weight', Parameter containing:\n",
      "tensor([[ 0.0128, -0.2075,  0.4240, -0.2462],\n",
      "        [-0.2838,  0.4282, -0.4521, -0.4878],\n",
      "        [ 0.4266, -0.2920,  0.0823,  0.2378],\n",
      "        [ 0.2676, -0.1724,  0.2550,  0.3164],\n",
      "        [-0.1797, -0.4720,  0.3695, -0.0606],\n",
      "        [-0.1818,  0.2069, -0.2597,  0.0147]], requires_grad=True))\n",
      "\n",
      "('block.linear1.bias', Parameter containing:\n",
      "tensor([ 0.1849, -0.0484, -0.0996,  0.0081,  0.0673, -0.3454],\n",
      "       requires_grad=True))\n",
      "\n",
      "('block.linear2.weight', Parameter containing:\n",
      "tensor([[ 0.3025, -0.1465,  0.2877,  0.2993,  0.3864, -0.0037],\n",
      "        [-0.2489,  0.2871, -0.2974,  0.3761,  0.2896,  0.1981],\n",
      "        [ 0.3330,  0.1613,  0.2147,  0.1849,  0.2002,  0.1718]],\n",
      "       requires_grad=True))\n",
      "\n",
      "('block.linear2.bias', Parameter containing:\n",
      "tensor([ 0.3848,  0.3736, -0.0207], requires_grad=True))\n",
      "\n",
      "('linear.weight', Parameter containing:\n",
      "tensor([[-0.1517, -0.1429, -0.4336],\n",
      "        [ 0.4248,  0.4474,  0.4354],\n",
      "        [-0.1513,  0.3792, -0.5658],\n",
      "        [ 0.4853, -0.2304,  0.3686]], requires_grad=True))\n",
      "\n",
      "('linear.bias', Parameter containing:\n",
      "tensor([ 0.2767,  0.1174, -0.2586, -0.2364], requires_grad=True))\n",
      "\n"
     ]
    }
   ],
   "source": [
    "for named_param in model2.named_parameters():\n",
    "    print(named_param)\n",
    "    print()"
   ]
  },
  {
   "cell_type": "markdown",
   "id": "9400d179",
   "metadata": {},
   "source": [
    "## Training Loop"
   ]
  },
  {
   "cell_type": "code",
   "execution_count": 25,
   "id": "7542b41e",
   "metadata": {},
   "outputs": [],
   "source": [
    "import numpy as np\n",
    "import pandas as pd\n",
    "from sklearn.preprocessing import StandardScaler\n",
    "from torch.utils.data import Dataset, DataLoader\n",
    "import torch.optim as optim"
   ]
  },
  {
   "cell_type": "code",
   "execution_count": 26,
   "id": "ae31c04f",
   "metadata": {},
   "outputs": [],
   "source": [
    "# 데이터 불러오기\n",
    "abalone_df = pd.read_csv(\n",
    "    'https://storage.googleapis.com/download.tensorflow.org/data/abalone_train.csv',\n",
    "    names=['Length', 'Diameter', 'Height', 'Whole weight', 'Shucked weight',\n",
    "           'Viscera weight', 'Shell weight', 'Age']\n",
    ")\n",
    "\n",
    "# 입력과 타깃 나누기\n",
    "input_data = abalone_df.drop(columns=['Age']).to_numpy().astype(np.float32)\n",
    "target_data = abalone_df['Age'].to_numpy().astype(np.float32)\n",
    "\n",
    "# 데이터셋 클래스 정의\n",
    "class AbaloneDataset(Dataset):\n",
    "    def __init__(self, input_data, target_data):\n",
    "        self.input_data = input_data\n",
    "        self.target_data = target_data\n",
    "\n",
    "    def __len__(self):\n",
    "        return len(self.input_data)\n",
    "\n",
    "    def __getitem__(self, index):\n",
    "        input_tensor = torch.tensor(self.input_data[index], dtype=torch.float32)\n",
    "        target_tensor = torch.tensor(self.target_data[index], dtype=torch.float32)\n",
    "\n",
    "        return input_tensor, target_tensor\n",
    "\n",
    "# 학습/검증/테스트 분할\n",
    "train_size = int(len(input_data) * 0.8)\n",
    "val_size = int(len(input_data) * 0.1)\n",
    "\n",
    "train_inputs = input_data[:train_size]\n",
    "train_targets = target_data[:train_size]\n",
    "\n",
    "val_inputs = input_data[train_size:train_size + val_size]\n",
    "val_targets = target_data[train_size:train_size + val_size]\n",
    "\n",
    "test_inputs = input_data[train_size + val_size:]\n",
    "test_targets = target_data[train_size + val_size:]\n",
    "\n",
    "# 표준화\n",
    "scaler = StandardScaler()\n",
    "scaler.fit(train_inputs)\n",
    "\n",
    "train_inputs_scaled = scaler.transform(train_inputs)\n",
    "val_inputs_scaled = scaler.transform(val_inputs)\n",
    "test_inputs_scaled = scaler.transform(test_inputs)\n",
    "\n",
    "# 데이터셋 만들기\n",
    "train_dataset = AbaloneDataset(train_inputs_scaled, train_targets)\n",
    "val_dataset = AbaloneDataset(val_inputs_scaled, val_targets)\n",
    "test_dataset = AbaloneDataset(test_inputs_scaled, test_targets)\n",
    "\n",
    "# 데이터로더 만들기\n",
    "train_dataloader = DataLoader(dataset=train_dataset, batch_size=32, shuffle=True, drop_last=True)\n",
    "val_dataloader = DataLoader(dataset=val_dataset, batch_size=32)\n",
    "test_dataloader = DataLoader(dataset=test_dataset, batch_size=32)"
   ]
  },
  {
   "cell_type": "code",
   "execution_count": 27,
   "id": "d1937596",
   "metadata": {},
   "outputs": [],
   "source": [
    "# 모델 클래스 정의\n",
    "class AbaloneModel(nn.Module):\n",
    "    def __init__(self):\n",
    "        super().__init__()\n",
    "        self.fc1 = nn.Linear(7, 32)\n",
    "        self.fc2 = nn.Linear(32, 16)\n",
    "        self.fc3 = nn.Linear(16, 8)\n",
    "        self.fc4 = nn.Linear(8, 1)\n",
    "        self.relu = nn.ReLU()\n",
    "        self.dropout = nn.Dropout()\n",
    "\n",
    "    def forward(self, x):\n",
    "        x = self.relu(self.fc1(x))\n",
    "        x = self.relu(self.fc2(x))\n",
    "        x = self.relu(self.fc3(x))\n",
    "        x = self.dropout(x)\n",
    "        x = self.fc4(x)\n",
    "        return x"
   ]
  },
  {
   "cell_type": "code",
   "execution_count": 28,
   "id": "a6b1c48e",
   "metadata": {},
   "outputs": [
    {
     "data": {
      "text/plain": [
       "AbaloneModel(\n",
       "  (fc1): Linear(in_features=7, out_features=32, bias=True)\n",
       "  (fc2): Linear(in_features=32, out_features=16, bias=True)\n",
       "  (fc3): Linear(in_features=16, out_features=8, bias=True)\n",
       "  (fc4): Linear(in_features=8, out_features=1, bias=True)\n",
       "  (relu): ReLU()\n",
       "  (dropout): Dropout(p=0.5, inplace=False)\n",
       ")"
      ]
     },
     "execution_count": 28,
     "metadata": {},
     "output_type": "execute_result"
    }
   ],
   "source": [
    "model = AbaloneModel()\n",
    "loss_fn = nn.MSELoss()\n",
    "optimizer = optim.SGD(model.parameters())\n",
    "\n",
    "device = torch.device('cuda' if torch.cuda.is_available() else 'cpu')\n",
    "model.to(device)"
   ]
  },
  {
   "cell_type": "code",
   "execution_count": 29,
   "id": "223a2fae",
   "metadata": {},
   "outputs": [
    {
     "name": "stdout",
     "output_type": "stream",
     "text": [
      "epoch 1/10, validation loss: 17.9430\n",
      "\n",
      "step 100, train loss: 25.8691\n",
      "epoch 2/10, validation loss: 10.6868\n",
      "\n",
      "step 200, train loss: 16.6383\n",
      "epoch 3/10, validation loss: 7.7427\n",
      "\n",
      "step 300, train loss: 22.5813\n",
      "epoch 4/10, validation loss: 8.5574\n",
      "\n",
      "step 400, train loss: 22.3351\n",
      "epoch 5/10, validation loss: 7.7608\n",
      "\n",
      "epoch 6/10, validation loss: 7.6198\n",
      "\n",
      "step 500, train loss: 10.2972\n",
      "epoch 7/10, validation loss: 7.7602\n",
      "\n",
      "step 600, train loss: 14.8471\n",
      "epoch 8/10, validation loss: 7.1833\n",
      "\n",
      "step 700, train loss: 23.8463\n",
      "epoch 9/10, validation loss: 6.4996\n",
      "\n",
      "step 800, train loss: 15.1837\n",
      "epoch 10/10, validation loss: 6.0692\n",
      "\n"
     ]
    }
   ],
   "source": [
    "epochs = 10\n",
    "step = 0\n",
    "for epoch in range(epochs):\n",
    "    model.train()\n",
    "    for train_batch in train_dataloader:\n",
    "        x_train, y_train = train_batch\n",
    "        pred = model(x_train).squeeze()\n",
    "        loss = loss_fn(pred, y_train)\n",
    "        loss.backward()\n",
    "        optimizer.step()\n",
    "        optimizer.zero_grad()\n",
    "        step += 1\n",
    "\n",
    "        if step % 100 == 0:\n",
    "            print(f'step {step}, train loss: {loss.item():.4f}')\n",
    "\n",
    "    model.eval()\n",
    "    with torch.no_grad():\n",
    "        losses = []\n",
    "        for val_batch in val_dataloader:\n",
    "            x_val, y_val = val_batch[0].to(device), val_batch[1].to(device)\n",
    "            pred = model(x_val).squeeze()\n",
    "            loss = loss_fn(pred, y_val)\n",
    "            losses.append(loss.item())\n",
    "\n",
    "        val_loss_avg = sum(losses) / len(losses)\n",
    "        print(f'epoch {epoch+1}/{epochs}, validation loss: {val_loss_avg:.4f}\\n')\n",
    "        "
   ]
  },
  {
   "cell_type": "code",
   "execution_count": 30,
   "id": "bac1d1bf",
   "metadata": {},
   "outputs": [],
   "source": [
    "# optimizer = optim.SGD(model.parameters(), lr=0.001, momentum=0.9)\n",
    "# optimizer = optim.Adagrad(model.parameters(), lr=0.01)\n",
    "# optimizer = optim.RMSprop(model.parameters(), lr=0.01, alpha=0.99)\n",
    "# optimizer = optim.Adam(model.parameters(), lr=0.001, betas=(0.9, 0.999))"
   ]
  },
  {
   "cell_type": "code",
   "execution_count": 31,
   "id": "cc092d17",
   "metadata": {},
   "outputs": [
    {
     "name": "stdout",
     "output_type": "stream",
     "text": [
      "test loss: 9.1649\n",
      "\n"
     ]
    }
   ],
   "source": [
    "model.eval()\n",
    "with torch.no_grad():\n",
    "    losses = []\n",
    "    preds = []\n",
    "    targets = []\n",
    "    for test_batch in test_dataloader:\n",
    "        x_test, y_test = test_batch[0].to(device), test_batch[1].to(device)\n",
    "        pred = model(x_test).squeeze()\n",
    "        loss = loss_fn(pred, y_test)\n",
    "        losses.append(loss.item())\n",
    "\n",
    "        preds.extend(pred.cpu().numpy())\n",
    "        targets.extend(y_test.cpu().numpy())\n",
    "\n",
    "    test_loss_avg = sum(losses) / len(losses)\n",
    "    print(f'test loss: {test_loss_avg:.4f}\\n')"
   ]
  },
  {
   "cell_type": "code",
   "execution_count": 32,
   "id": "9bb21127",
   "metadata": {},
   "outputs": [
    {
     "name": "stdout",
     "output_type": "stream",
     "text": [
      "val RMSE: 2.4636\n",
      "val RMSE: 3.0274\n"
     ]
    }
   ],
   "source": [
    "print(f'val RMSE: {np.sqrt(val_loss_avg):.4f}')\n",
    "print(f'val RMSE: {np.sqrt(test_loss_avg):.4f}')"
   ]
  },
  {
   "cell_type": "code",
   "execution_count": 33,
   "id": "6602640a",
   "metadata": {},
   "outputs": [
    {
     "data": {
      "image/png": "[encoded data removed]",
      "text/plain": [
       "<Figure size 800x800 with 1 Axes>"
      ]
     },
     "metadata": {},
     "output_type": "display_data"
    }
   ],
   "source": [
    "import matplotlib.pyplot as plt\n",
    "\n",
    "# 산점도 그리기\n",
    "plt.figure(figsize=(8, 8))\n",
    "plt.scatter(targets, preds, alpha=0.7, label='Predicted vs True', edgecolor='k')\n",
    "\n",
    "# 비교를 위한 y = x 직선 그리기\n",
    "min_val = min(min(targets), min(preds))\n",
    "max_val = max(max(targets), max(preds))\n",
    "plt.plot([min_val, max_val], [min_val, max_val], 'r--', label='y = x')\n",
    "\n",
    "# 레이블 및 범례\n",
    "plt.title('Predicted vs True Values')\n",
    "plt.xlabel('True Age')\n",
    "plt.ylabel('Predicted Age')\n",
    "plt.legend()\n",
    "plt.grid(alpha=0.3)\n",
    "plt.show()"
   ]
  },
  {
   "cell_type": "markdown",
   "id": "02b52a10",
   "metadata": {},
   "source": [
    "## Save and Read Models"
   ]
  },
  {
   "cell_type": "code",
   "execution_count": 34,
   "id": "1eb6efe3",
   "metadata": {},
   "outputs": [],
   "source": [
    "torch.save(model.state_dict(), 'model.pth')"
   ]
  },
  {
   "cell_type": "code",
   "execution_count": 35,
   "id": "9d523339",
   "metadata": {},
   "outputs": [],
   "source": [
    "state_dict_loaded = torch.load('model.pth', weights_only=True)"
   ]
  },
  {
   "cell_type": "code",
   "execution_count": 36,
   "id": "37ee3b6c",
   "metadata": {},
   "outputs": [
    {
     "data": {
      "text/plain": [
       "<All keys matched successfully>"
      ]
     },
     "execution_count": 36,
     "metadata": {},
     "output_type": "execute_result"
    }
   ],
   "source": [
    "model_loaded = AbaloneModel()\n",
    "model_loaded.load_state_dict(state_dict_loaded)"
   ]
  },
  {
   "cell_type": "code",
   "execution_count": 37,
   "id": "f4533c72",
   "metadata": {},
   "outputs": [
    {
     "name": "stdout",
     "output_type": "stream",
     "text": [
      "True\n"
     ]
    }
   ],
   "source": [
    "model_loaded.to(device)\n",
    "model.eval()\n",
    "model_loaded.eval()\n",
    "\n",
    "for test_batch in test_dataloader:\n",
    "    x_test, y_test = test_batch[0].to(device), test_batch[1].to(device)\n",
    "    pred_org = model(x_test)\n",
    "    pred_loaded = model_loaded(x_test)\n",
    "\n",
    "    print(torch.equal(pred_org, pred_loaded))\n",
    "    break"
   ]
  }
 ],
 "metadata": {
  "kernelspec": {
   "display_name": "Python 3 (ipykernel)",
   "language": "python",
   "name": "python3"
  },
  "language_info": {
   "codemirror_mode": {
    "name": "ipython",
    "version": 3
   },
   "file_extension": ".py",
   "mimetype": "text/x-python",
   "name": "python",
   "nbconvert_exporter": "python",
   "pygments_lexer": "ipython3",
   "version": "3.11.5"
  }
 },
 "nbformat": 4,
 "nbformat_minor": 5
}
